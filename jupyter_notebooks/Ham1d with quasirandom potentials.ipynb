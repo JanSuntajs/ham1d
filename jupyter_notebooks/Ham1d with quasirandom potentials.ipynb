{
 "cells": [
  {
   "cell_type": "markdown",
   "metadata": {},
   "source": [
    "# What is this notebook about?\n",
    "\n",
    "This notebook is intended both as an introduction to the usage of the ham1d package and\n",
    "as a method of checking the correctness of the Hamiltonian construction and\n",
    "diagonalization results for quasirandom potentials and fermionic chains. \n",
    "\n",
    "## The Hamiltonian\n",
    "The model Hamiltonian is as follows:\n",
    "\n",
    "$$\n",
    "\\begin{split}\n",
    "\\hat{H} &= J_1 \\left[ \\sum_l^L \\frac{1}{2}\\left(\\hat{c}^\\dagger_l\\hat{c}_{l+1} + \\mathrm{h.c.} \\right) + \\Delta \\left(\\hat{n}_l - \\frac{1}{2}\\right)\\left(\\hat{n}_{l+1} - \\frac{1}{2}\\right)\\right]\\\\ \n",
    "& + J_2 \\left[ \\sum_l^L \\frac{1}{2}\\left(\\hat{c}^\\dagger_l\\hat{c}_{l+2} + \\mathrm{h.c.} \\right) + \\Delta \\left(\\hat{n}_l - \\frac{1}{2}\\right)\\left(\\hat{n}_{l+2} - \\frac{1}{2}\\right)\\right]\\\\\n",
    "& + h \\left[\\sum_{l=1}^L \\cos\\left(2\\pi\\alpha l\\right) \\left(\\hat{n}_l - \\frac{1}{2}\\right)\\right],\n",
    "\\end{split}\n",
    "$$\n",
    "where operators in the above expression are the standard fermionic creation and annihilation operators. Below \n",
    "we show how to construct such a Hamiltonian and diagonalize it."
   ]
  },
  {
   "cell_type": "markdown",
   "metadata": {},
   "source": [
    "## The code"
   ]
  },
  {
   "cell_type": "code",
   "execution_count": 1,
   "metadata": {},
   "outputs": [],
   "source": [
    "%matplotlib inline\n",
    "\"\"\"\n",
    "Each of the modules defined in ham1d.models defines a class\n",
    "for construction of a particular hamiltonian type. All of the\n",
    "classes share the same base class and thus their functionality\n",
    "is more or less the same, the difference is in the internal routines\n",
    "used.\n",
    "\"\"\"\n",
    "\n",
    "# to load classes utilizing numba's jit\n",
    "# compilation optimizations, load the following\n",
    "# modules. The following lines would load a module\n",
    "# with routines for creation of spinless fermionic\n",
    "# hamiltonians.\n",
    "from ham1d.models import ferm1d as fe1\n",
    "import numpy as np\n",
    "import matplotlib.pyplot as plt"
   ]
  },
  {
   "cell_type": "markdown",
   "metadata": {},
   "source": [
    "## Defining the model constants"
   ]
  },
  {
   "cell_type": "code",
   "execution_count": 243,
   "metadata": {},
   "outputs": [],
   "source": [
    "#first, define the chain length. We choose a rather small system here:\n",
    "L=12\n",
    "# define constants and model parameters:\n",
    "J=1 # J1 and J2 the same\n",
    "W=1\n",
    "delta = 0.55 #Delta1 and Delta2 the same\n",
    "gldn = (np.sqrt(5.) - 1.) * 0.5"
   ]
  },
  {
   "cell_type": "code",
   "execution_count": 244,
   "metadata": {},
   "outputs": [],
   "source": [
    "# hopping part\n",
    "\n",
    "# one-site hopping\n",
    "J_l1 = [[J * 0.5 , i, (i + 1)%L] for i in range(L)] # the %L part ensures PBC\n",
    "J_r1 =  [[J * 0.5 , i, (i - 1)%L] for i in range(L)]\n",
    "# two-site hoppings\n",
    "J_l2 = [[J * 0.5 , i, (i + 2)%L] for i in range(L)] # the %L part ensures PBC\n",
    "J_r2 =  [[J * 0.5 , i, (i - 2)%L] for i in range(L)]\n",
    "hops = [['+-', J_l1], ['+-', J_r1], ['+-', J_l2], ['+-', J_r2]]\n",
    "#hops = [['+-', J_l1], ['+-', J_r1]]\n",
    "\n",
    "# interaction\n",
    "inter1 = [[J * delta , i, (i + 1)%L] for i in range(L)]\n",
    "inter2 = [[J * delta , i, (i + 2)%L] for i in range(L)]\n",
    "inters_nnn = [['nn', inter1], ['nn', inter2]]\n",
    "inters_nn = [['nn', inter1],]\n",
    "#random field\n",
    "\n",
    "#fields = np.cos(2*np.pi*np.arange(1., L + 1, 1.)/L)\n",
    "fields = np.array([W * np.cos(2*np.pi*gldn*i) for i in range(1, L+1, 1)])\n",
    "#fields = np.array([10. for i in range(1, L+1)])\n",
    "#fields = 3*np.ones(L, dtype=np.float64)\n",
    "J_z = [[fields[i], i] for i in range(L)]\n",
    "rnd = ['n', J_z]\n",
    "\n",
    "# we can now put together the static_list -> just a list of hamiltonian term\n",
    "# definitions\n",
    "\n",
    "static_list_nn = [*hops, *inters_nn, rnd]\n",
    "static_list_nnn = [*hops, *inters_nnn, rnd]"
   ]
  },
  {
   "cell_type": "code",
   "execution_count": 245,
   "metadata": {},
   "outputs": [
    {
     "name": "stdout",
     "output_type": "stream",
     "text": [
      "Please wait, building the Hamiltonian ...\n",
      "Building the Hamiltonian finished!\n",
      "Please wait, building the Hamiltonian ...\n",
      "Building the Hamiltonian finished!\n"
     ]
    }
   ],
   "source": [
    "ham_nn = fe1.hamiltonian(L, static_list_nn, Nu= int(L/2.))\n",
    "ham_nnn = fe1.hamiltonian(L, static_list_nnn, Nu = int(L/2.))"
   ]
  },
  {
   "cell_type": "code",
   "execution_count": 246,
   "metadata": {},
   "outputs": [],
   "source": [
    "eigvals_nn = ham_nn.eigvals()\n",
    "eigvals_nnn, eigvecs_nnn = ham_nnn.eigsystem()"
   ]
  },
  {
   "cell_type": "markdown",
   "metadata": {},
   "source": [
    "### No second-nearest neighbour interaction"
   ]
  },
  {
   "cell_type": "code",
   "execution_count": 247,
   "metadata": {},
   "outputs": [
    {
     "name": "stdout",
     "output_type": "stream",
     "text": [
      "First ten eigenvalues\n",
      "[-6.57496474 -6.28068144 -6.0555526  -5.88869441 -5.80403539 -5.76387364\n",
      " -5.57025431 -5.48824717 -5.33345021 -5.29639836]\n",
      "Spectral extrema:\n",
      "-6.574964736056567 5.78039108886081\n"
     ]
    }
   ],
   "source": [
    "print('First ten eigenvalues')\n",
    "print(eigvals_nn[:10])\n",
    "print('Spectral extrema:')\n",
    "print(eigvals_nn[0], eigvals_nn[-1])"
   ]
  },
  {
   "cell_type": "markdown",
   "metadata": {},
   "source": [
    "### Also the second-nearst neighbour interaction"
   ]
  },
  {
   "cell_type": "code",
   "execution_count": 248,
   "metadata": {},
   "outputs": [
    {
     "name": "stdout",
     "output_type": "stream",
     "text": [
      "First ten eigenvalues\n",
      "[-6.93237208 -6.46613481 -6.41940434 -6.31946299 -5.91623982 -5.80170174\n",
      " -5.75450646 -5.70928097 -5.66811137 -5.5843596 ]\n",
      "Spectral extrema:\n",
      "-6.932372080140295 5.53238086317709\n"
     ]
    }
   ],
   "source": [
    "print('First ten eigenvalues')\n",
    "print(eigvals_nnn[:10])\n",
    "print('Spectral extrema:')\n",
    "print(eigvals_nnn[0], eigvals_nnn[-1])"
   ]
  },
  {
   "cell_type": "code",
   "execution_count": 48,
   "metadata": {},
   "outputs": [
    {
     "data": {
      "text/plain": [
       "[[-0.0, 0],\n",
       " [0.0, 1],\n",
       " [0.0, 2],\n",
       " [-0.0, 3],\n",
       " [0.0, 4],\n",
       " [-0.0, 5],\n",
       " [-0.0, 6],\n",
       " [0.0, 7],\n",
       " [-0.0, 8],\n",
       " [0.0, 9],\n",
       " [0.0, 10],\n",
       " [-0.0, 11]]"
      ]
     },
     "execution_count": 48,
     "metadata": {},
     "output_type": "execute_result"
    }
   ],
   "source": []
  },
  {
   "cell_type": "code",
   "execution_count": 210,
   "metadata": {},
   "outputs": [
    {
     "data": {
      "text/plain": [
       "array([ 8.66025404e-01,  5.00000000e-01,  6.12323400e-17, -5.00000000e-01,\n",
       "       -8.66025404e-01, -1.00000000e+00, -8.66025404e-01, -5.00000000e-01,\n",
       "       -1.83697020e-16,  5.00000000e-01,  8.66025404e-01,  1.00000000e+00])"
      ]
     },
     "execution_count": 210,
     "metadata": {},
     "output_type": "execute_result"
    }
   ],
   "source": [
    "fields"
   ]
  },
  {
   "cell_type": "code",
   "execution_count": 108,
   "metadata": {},
   "outputs": [
    {
     "data": {
      "text/plain": [
       "['n', array([[-0.73736888,  0.        ],\n",
       "        [ 0.08742572,  1.        ],\n",
       "        [ 0.60843886,  2.        ],\n",
       "        [-0.98471349,  3.        ],\n",
       "        [ 0.84375529,  4.        ],\n",
       "        [-0.2596043 ,  5.        ],\n",
       "        [-0.46090702,  6.        ],\n",
       "        [ 0.9393213 ,  7.        ],\n",
       "        [-0.92434556,  8.        ],\n",
       "        [ 0.423846  ,  9.        ],\n",
       "        [ 0.29928386, 10.        ],\n",
       "        [-0.86521121, 11.        ]])]"
      ]
     },
     "execution_count": 108,
     "metadata": {},
     "output_type": "execute_result"
    }
   ],
   "source": [
    "rnd"
   ]
  },
  {
   "cell_type": "code",
   "execution_count": 110,
   "metadata": {},
   "outputs": [
    {
     "data": {
      "text/plain": [
       "matrix([[ 1.57702708+0.j,  0.5       +0.j, -0.5       +0.j, ...,\n",
       "          0.        +0.j,  0.        +0.j,  0.        +0.j],\n",
       "        [ 0.5       +0.j,  1.2283298 +0.j,  0.5       +0.j, ...,\n",
       "          0.        +0.j,  0.        +0.j,  0.        +0.j],\n",
       "        [-0.5       +0.j,  0.5       +0.j,  1.7816894 +0.j, ...,\n",
       "          0.        +0.j,  0.        +0.j,  0.        +0.j],\n",
       "        ...,\n",
       "        [ 0.        +0.j,  0.        +0.j,  0.        +0.j, ...,\n",
       "         -0.6816894 +0.j,  0.5       +0.j,  0.5       +0.j],\n",
       "        [ 0.        +0.j,  0.        +0.j,  0.        +0.j, ...,\n",
       "          0.5       +0.j,  0.9716702 +0.j,  0.5       +0.j],\n",
       "        [ 0.        +0.j,  0.        +0.j,  0.        +0.j, ...,\n",
       "          0.5       +0.j,  0.5       +0.j,  1.72297292+0.j]])"
      ]
     },
     "execution_count": 110,
     "metadata": {},
     "output_type": "execute_result"
    }
   ],
   "source": [
    "ham_nnn.mat.todense()"
   ]
  },
  {
   "cell_type": "code",
   "execution_count": 111,
   "metadata": {},
   "outputs": [
    {
     "name": "stdout",
     "output_type": "stream",
     "text": [
      "Help on class hamiltonian in module ham1d.models.ferm1d:\n",
      "\n",
      "class hamiltonian(ham1d.models._base_ham_cls._hamiltonian_numba)\n",
      " |  A child class of the _hamiltonian class which is\n",
      " |  intented for calculations in both the fermionic\n",
      " |  and spin 1/2 cases using the numba jit-compiled\n",
      " |  code. Note that the examples below are given\n",
      " |  for the spin 1/2 case.\n",
      " |  \n",
      " |  Parameters:\n",
      " |  -----------\n",
      " |  L: int\n",
      " |      An integer specifying the spin chain length.\n",
      " |  \n",
      " |  static_list: list\n",
      " |      A nested list of the operator description strings\n",
      " |      and site-coupling lists for the time-independent\n",
      " |      part of the Hamiltonian. An example of the\n",
      " |      static_ham list would be:\n",
      " |  \n",
      " |          static_ham = [['zz', J_zz]]\n",
      " |  \n",
      " |      Here, 'zz' is the operator descriptor string specifiying\n",
      " |      2-spin interaction along the z-axis direction. For a chain-\n",
      " |      of L sites with constant nearest-neighbour exchange\n",
      " |      J and PBC, the site coupling list would be given by:\n",
      " |  \n",
      " |          J_zz = [[J, i, (i+1)%L] for i in range(L)]\n",
      " |  \n",
      " |      In the upper expression, J is the term describing\n",
      " |      the interaction strength and the following entries\n",
      " |      in the inner list specify the positions of the coupled\n",
      " |      sites. The upper example should serve as a general\n",
      " |      template which should allow for simple extension to\n",
      " |      the case of n-spin interaction and varying couplings.\n",
      " |  \n",
      " |  dynamic_list: list\n",
      " |      A nested list of the operator description strings. The\n",
      " |      description is similar to the static_ham description,\n",
      " |      however, additional terms are needed to incorporate\n",
      " |      the time dependence: an example would be:\n",
      " |  \n",
      " |          dynamic_ham = [['zz', J_zz, time_fun, time_fun_args]]\n",
      " |  \n",
      " |      Here, 'zz' is the same operator descriptor string as the\n",
      " |      one in the static case. J_zz, however, now refers to\n",
      " |      the initial (dynamic) site coupling list at t=0. time_fun\n",
      " |      is a function object describing a protocol for\n",
      " |      time-dependent part of the hamiltonian with the following\n",
      " |      interface: time_fun(t, *time_fun_args) where time_fun_args\n",
      " |      are the possible additional arguments of the time-dependence.\n",
      " |  \n",
      " |  Nu: {int, None}\n",
      " |      Number of up spins, relevant for the hamiltonians where the\n",
      " |      total spin z projection is a conserved quantity. Defaults to\n",
      " |      None.\n",
      " |  \n",
      " |  build_mod: python module\n",
      " |      Python module which should have the following attributes:\n",
      " |  \n",
      " |          build_mod._ham_ops:\n",
      " |  \n",
      " |  Method resolution order:\n",
      " |      hamiltonian\n",
      " |      ham1d.models._base_ham_cls._hamiltonian_numba\n",
      " |      ham1d.models._base_ham_cls._hamiltonian\n",
      " |      ham1d.models._base_ham_cls._decorators_mixin\n",
      " |      builtins.object\n",
      " |  \n",
      " |  Methods defined here:\n",
      " |  \n",
      " |  __init__(self, L, static_list, dynamic_list=[], t=0, Nu=None)\n",
      " |      Initialize self.  See help(type(self)) for accurate signature.\n",
      " |  \n",
      " |  ----------------------------------------------------------------------\n",
      " |  Methods inherited from ham1d.models._base_ham_cls._hamiltonian_numba:\n",
      " |  \n",
      " |  build_mat(self)\n",
      " |      A routine for building the whole hamiltonian\n",
      " |      matrix from individual hamiltonian terms.\n",
      " |  \n",
      " |  ----------------------------------------------------------------------\n",
      " |  Methods inherited from ham1d.models._base_ham_cls._hamiltonian:\n",
      " |  \n",
      " |  eigsystem(self, *args, **kwargs)\n",
      " |      A routine for calculating both the\n",
      " |      eigenvalues and the eigenvectors\n",
      " |      of the Hamiltonian array.\n",
      " |  \n",
      " |  eigvals(self, *args, **kwargs)\n",
      " |      A routine for calculating only the\n",
      " |      eigenvalues of the Hamiltonian array.\n",
      " |  \n",
      " |  ----------------------------------------------------------------------\n",
      " |  Data descriptors inherited from ham1d.models._base_ham_cls._hamiltonian:\n",
      " |  \n",
      " |  L\n",
      " |  \n",
      " |  Nu\n",
      " |  \n",
      " |  dynamic_list\n",
      " |  \n",
      " |  mat\n",
      " |  \n",
      " |  num_states\n",
      " |  \n",
      " |  static_list\n",
      " |  \n",
      " |  ----------------------------------------------------------------------\n",
      " |  Class methods inherited from ham1d.models._base_ham_cls._decorators_mixin:\n",
      " |  \n",
      " |  check_ham_lists(decorated) from builtins.type\n",
      " |      A decorator for checking whether\n",
      " |      the static and dynamic lists provided\n",
      " |      are of the proper shape and if the\n",
      " |      input is ok.\n",
      " |  \n",
      " |  ----------------------------------------------------------------------\n",
      " |  Data descriptors inherited from ham1d.models._base_ham_cls._decorators_mixin:\n",
      " |  \n",
      " |  __dict__\n",
      " |      dictionary for instance variables (if defined)\n",
      " |  \n",
      " |  __weakref__\n",
      " |      list of weak references to the object (if defined)\n",
      "\n"
     ]
    }
   ],
   "source": [
    "help(fe1.hamiltonian)"
   ]
  },
  {
   "cell_type": "code",
   "execution_count": 113,
   "metadata": {},
   "outputs": [
    {
     "data": {
      "text/plain": [
       "[['+-', array([[ 0.5,  0. ,  1. ],\n",
       "         [ 0.5,  1. ,  2. ],\n",
       "         [ 0.5,  2. ,  3. ],\n",
       "         [ 0.5,  3. ,  4. ],\n",
       "         [ 0.5,  4. ,  5. ],\n",
       "         [ 0.5,  5. ,  6. ],\n",
       "         [ 0.5,  6. ,  7. ],\n",
       "         [ 0.5,  7. ,  8. ],\n",
       "         [ 0.5,  8. ,  9. ],\n",
       "         [ 0.5,  9. , 10. ],\n",
       "         [ 0.5, 10. , 11. ],\n",
       "         [ 0.5, 11. ,  0. ]])], ['+-', array([[ 0.5,  0. , 11. ],\n",
       "         [ 0.5,  1. ,  0. ],\n",
       "         [ 0.5,  2. ,  1. ],\n",
       "         [ 0.5,  3. ,  2. ],\n",
       "         [ 0.5,  4. ,  3. ],\n",
       "         [ 0.5,  5. ,  4. ],\n",
       "         [ 0.5,  6. ,  5. ],\n",
       "         [ 0.5,  7. ,  6. ],\n",
       "         [ 0.5,  8. ,  7. ],\n",
       "         [ 0.5,  9. ,  8. ],\n",
       "         [ 0.5, 10. ,  9. ],\n",
       "         [ 0.5, 11. , 10. ]])], ['+-', array([[ 0.5,  0. ,  2. ],\n",
       "         [ 0.5,  1. ,  3. ],\n",
       "         [ 0.5,  2. ,  4. ],\n",
       "         [ 0.5,  3. ,  5. ],\n",
       "         [ 0.5,  4. ,  6. ],\n",
       "         [ 0.5,  5. ,  7. ],\n",
       "         [ 0.5,  6. ,  8. ],\n",
       "         [ 0.5,  7. ,  9. ],\n",
       "         [ 0.5,  8. , 10. ],\n",
       "         [ 0.5,  9. , 11. ],\n",
       "         [ 0.5, 10. ,  0. ],\n",
       "         [ 0.5, 11. ,  1. ]])], ['+-', array([[ 0.5,  0. , 10. ],\n",
       "         [ 0.5,  1. , 11. ],\n",
       "         [ 0.5,  2. ,  0. ],\n",
       "         [ 0.5,  3. ,  1. ],\n",
       "         [ 0.5,  4. ,  2. ],\n",
       "         [ 0.5,  5. ,  3. ],\n",
       "         [ 0.5,  6. ,  4. ],\n",
       "         [ 0.5,  7. ,  5. ],\n",
       "         [ 0.5,  8. ,  6. ],\n",
       "         [ 0.5,  9. ,  7. ],\n",
       "         [ 0.5, 10. ,  8. ],\n",
       "         [ 0.5, 11. ,  9. ]])], ['nn', array([[ 0.55,  0.  ,  1.  ],\n",
       "         [ 0.55,  1.  ,  2.  ],\n",
       "         [ 0.55,  2.  ,  3.  ],\n",
       "         [ 0.55,  3.  ,  4.  ],\n",
       "         [ 0.55,  4.  ,  5.  ],\n",
       "         [ 0.55,  5.  ,  6.  ],\n",
       "         [ 0.55,  6.  ,  7.  ],\n",
       "         [ 0.55,  7.  ,  8.  ],\n",
       "         [ 0.55,  8.  ,  9.  ],\n",
       "         [ 0.55,  9.  , 10.  ],\n",
       "         [ 0.55, 10.  , 11.  ],\n",
       "         [ 0.55, 11.  ,  0.  ]])], ['nn', array([[ 0.55,  0.  ,  2.  ],\n",
       "         [ 0.55,  1.  ,  3.  ],\n",
       "         [ 0.55,  2.  ,  4.  ],\n",
       "         [ 0.55,  3.  ,  5.  ],\n",
       "         [ 0.55,  4.  ,  6.  ],\n",
       "         [ 0.55,  5.  ,  7.  ],\n",
       "         [ 0.55,  6.  ,  8.  ],\n",
       "         [ 0.55,  7.  ,  9.  ],\n",
       "         [ 0.55,  8.  , 10.  ],\n",
       "         [ 0.55,  9.  , 11.  ],\n",
       "         [ 0.55, 10.  ,  0.  ],\n",
       "         [ 0.55, 11.  ,  1.  ]])], ['n', array([[-0.73736888,  0.        ],\n",
       "         [ 0.08742572,  1.        ],\n",
       "         [ 0.60843886,  2.        ],\n",
       "         [-0.98471349,  3.        ],\n",
       "         [ 0.84375529,  4.        ],\n",
       "         [-0.2596043 ,  5.        ],\n",
       "         [-0.46090702,  6.        ],\n",
       "         [ 0.9393213 ,  7.        ],\n",
       "         [-0.92434556,  8.        ],\n",
       "         [ 0.423846  ,  9.        ],\n",
       "         [ 0.29928386, 10.        ],\n",
       "         [-0.86521121, 11.        ]])]]"
      ]
     },
     "execution_count": 113,
     "metadata": {},
     "output_type": "execute_result"
    }
   ],
   "source": [
    "ham_nnn.static_list"
   ]
  },
  {
   "cell_type": "code",
   "execution_count": 174,
   "metadata": {},
   "outputs": [
    {
     "data": {
      "text/plain": [
       "<matplotlib.image.AxesImage at 0x7f65a86b9208>"
      ]
     },
     "execution_count": 174,
     "metadata": {},
     "output_type": "execute_result"
    },
    {
     "data": {
      "image/png": "[encoded data removed]",
      "text/plain": [
       "<Figure size 288x288 with 1 Axes>"
      ]
     },
     "metadata": {
      "needs_background": "light"
     },
     "output_type": "display_data"
    }
   ],
   "source": [
    "plt.matshow(np.real(ham_nnn.mat.todense()[:30,:30]))"
   ]
  },
  {
   "cell_type": "code",
   "execution_count": 164,
   "metadata": {},
   "outputs": [
    {
     "data": {
      "text/plain": [
       "0.006944444444444444"
      ]
     },
     "execution_count": 164,
     "metadata": {},
     "output_type": "execute_result"
    }
   ],
   "source": [
    "1. / L**2"
   ]
  },
  {
   "cell_type": "code",
   "execution_count": 209,
   "metadata": {},
   "outputs": [
    {
     "data": {
      "text/plain": [
       "[<matplotlib.lines.Line2D at 0x7f65ad820780>]"
      ]
     },
     "execution_count": 209,
     "metadata": {},
     "output_type": "execute_result"
    },
    {
     "data": {
      "image/png": "[encoded data removed]",
      "text/plain": [
       "<Figure size 432x288 with 1 Axes>"
      ]
     },
     "metadata": {
      "needs_background": "light"
     },
     "output_type": "display_data"
    }
   ],
   "source": [
    "plt.plot(np.arange(1, L+1, 1), fields)"
   ]
  },
  {
   "cell_type": "code",
   "execution_count": 213,
   "metadata": {},
   "outputs": [
    {
     "data": {
      "text/plain": [
       "[<matplotlib.lines.Line2D at 0x7f65adbaaef0>]"
      ]
     },
     "execution_count": 213,
     "metadata": {},
     "output_type": "execute_result"
    },
    {
     "data": {
      "image/png": "[encoded data removed]",
      "text/plain": [
       "<Figure size 432x288 with 1 Axes>"
      ]
     },
     "metadata": {
      "needs_background": "light"
     },
     "output_type": "display_data"
    }
   ],
   "source": [
    "plt.plot(np.sort(eigvals_nnn))"
   ]
  },
  {
   "cell_type": "code",
   "execution_count": null,
   "metadata": {},
   "outputs": [],
   "source": []
  }
 ],
 "metadata": {
  "kernelspec": {
   "display_name": "ipython_full (myenv)",
   "language": "python",
   "name": "ipython_full"
  },
  "language_info": {
   "codemirror_mode": {
    "name": "ipython",
    "version": 3
   },
   "file_extension": ".py",
   "mimetype": "text/x-python",
   "name": "python",
   "nbconvert_exporter": "python",
   "pygments_lexer": "ipython3",
   "version": "3.6.8"
  }
 },
 "nbformat": 4,
 "nbformat_minor": 2
}
