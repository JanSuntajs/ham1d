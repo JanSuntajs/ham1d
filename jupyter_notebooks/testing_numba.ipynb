{
 "cells": [
  {
   "cell_type": "code",
   "execution_count": 38,
   "metadata": {
    "ExecuteTime": {
     "end_time": "2020-08-13T08:23:25.605568Z",
     "start_time": "2020-08-13T08:23:24.503000Z"
    }
   },
   "outputs": [],
   "source": [
    "from ham1d.models.bitmanip import select_states\n",
    "from ham1d.models import bitmanip as bmp\n",
    "\n",
    "from ham1d.operators.spin1d import _construct_ops \n",
    "#from ham1d.operators.spin1d._construct_ops import _ham_ops\n",
    "#from ham1d.models.buildham import buildham\n",
    "\n",
    "from scipy.sparse import csr_matrix\n",
    "from ham1d.models import ferm1d as fe1\n",
    "\n",
    "\n",
    "import numpy as np\n",
    "import numba as nb\n",
    "from numba import njit, prange\n",
    "\n",
    "#from ham1d.operators.ferm1d import _fermops as fo\n",
    "# ---------------------------------------------------------\n",
    "# STATE SELECTION HELPER ROUTINES\n",
    "\n",
    "\n",
    "@nb.njit(\"uint32(uint64)\")\n",
    "def countSetbits(n):\n",
    "    \"\"\"\n",
    "    A routine that counts the\n",
    "    number of set bits in a given\n",
    "    number (state) -> states in our\n",
    "    code are encoded as numbers where\n",
    "    we make use of the mapping to the\n",
    "    binarry representation.\n",
    "\n",
    "    INPUT:\n",
    "\n",
    "    n: uint64\n",
    "        A number(state) for which the\n",
    "        number of set bits is to be\n",
    "        determined.\n",
    "\n",
    "    OUTPUT:\n",
    "\n",
    "    count: uint32\n",
    "        The number of set bits.\n",
    "\n",
    "    \"\"\"\n",
    "\n",
    "    count = np.uint32(0)\n",
    "\n",
    "    while(n):\n",
    "\n",
    "        #  bitwise AND -> checks\n",
    "        #  the rightmost bit\n",
    "        count += n & 1\n",
    "        #  right shift until\n",
    "        #  there is nothing left\n",
    "        #  to shift\n",
    "        n >>= 1\n",
    "\n",
    "    return count\n",
    "\n",
    "\n",
    "@nb.njit('Tuple((uint64[:], uint64[:]))(uint32, uint32)', nogil=True)\n",
    "def select_states(L, nup):\n",
    "    \"\"\"\n",
    "    A routine for selecting states from a block\n",
    "    with a given number of nup spins or, in the\n",
    "    fermionic language, a given number of particles.\n",
    "    This is only applicable to models which\n",
    "    preserve the particle number/spin projection\n",
    "    along the z-axis.\n",
    "\n",
    "    INPUT:\n",
    "\n",
    "    L: uint32\n",
    "        The length of the 1-dimensional chain.\n",
    "\n",
    "    nup: uint32\n",
    "        The number of up-spins or particles.\n",
    "\n",
    "    OUTPUT:\n",
    "\n",
    "    states: np.array, dtype=uint64\n",
    "        An array of appropriate states selected\n",
    "        from the whole 2^L dimensional Hilbert\n",
    "        space of the problem\n",
    "    state_indices: np.array, dtype=uint64\n",
    "        A matrix containing information on how\n",
    "        the selected states from the entire Hilbert\n",
    "        space are ordered in the selected nup\n",
    "        subspace of the Hilbert space.\n",
    "\n",
    "    \"\"\"\n",
    "    states = []\n",
    "    state_indices = np.zeros(1 << L, dtype=np.uint64)\n",
    "    idx = 0\n",
    "    \n",
    "    nsteps = 1 << L \n",
    "    for i in range(nsteps):\n",
    "\n",
    "        if countSetbits(i) == nup:\n",
    "\n",
    "            states.append(i)\n",
    "            state_indices[i] = idx\n",
    "\n",
    "            idx += 1\n",
    "\n",
    "    return np.array(states, dtype=np.uint64), state_indices\n",
    "\n",
    "\n",
    "\n",
    "@nb.njit(\"Tuple((float64, uint64))(uint64, uint32)\", fastmath=True)\n",
    "def cn(state, bit):\n",
    "    \"\"\"\n",
    "    The number operator operator, in matrix form given as:\n",
    "\n",
    "    cn = 0.5 * np.array([[1, 0], [0, -1]])\n",
    "\n",
    "    Note that in our implementation, we write the cn\n",
    "    operator in a particle-hole symmetric way, applying\n",
    "    the transformation n -> n - 1/2\n",
    "    \"\"\"\n",
    "\n",
    "    return 0.5 * (-1) ** bmp.getbit(state, bit), state\n",
    "\n",
    "\n",
    "@nb.njit(\"Tuple((float64, uint64))(uint64, uint32)\", fastmath=True)\n",
    "def id2(state, bit):\n",
    "    \"\"\"\n",
    "    The identity operator.\n",
    "    \"\"\"\n",
    "\n",
    "    return 1., state\n",
    "\n",
    "\n",
    "@nb.njit(\"Tuple((float64, uint64))(uint64, uint32)\", fastmath=True)\n",
    "def cp(state, bit):\n",
    "    \"\"\"\n",
    "    creation operator, in matrix form given as:\n",
    "\n",
    "    cp = np.array([[0, 1], [0, 0]])\n",
    "    \"\"\"\n",
    "\n",
    "    bitval = bmp.getbit(state, bit)\n",
    "\n",
    "    if bitval:\n",
    "\n",
    "        return 1. - bitval, state\n",
    "\n",
    "    else:\n",
    "        return 1. - bitval, bmp.bitflip(state, bit)\n",
    "\n",
    "\n",
    "@nb.njit(\"Tuple((float64, uint64))(uint64, uint32)\", fastmath=True)\n",
    "def cm(state, bit):\n",
    "    \"\"\"\n",
    "    annihilation operator, in matrix form given as:\n",
    "\n",
    "    cm = np.array([[0, 0], [1, 0]])\n",
    "    \"\"\"\n",
    "\n",
    "    bitval = bmp.getbit(state, bit) * 1.\n",
    "\n",
    "    if bitval:\n",
    "\n",
    "        return bitval, bmp.bitflip(state, bit)\n",
    "\n",
    "    else:\n",
    "\n",
    "        return bitval, state\n",
    "    \n",
    "signature = (\n",
    "    'Tuple((uint64[:], uint64[:], float64[:]))(uint64[:], uint64[:], float64[:], uint32[:,:], uint32[:])')\n",
    "\n",
    "\n",
    "@nb.njit(signature, fastmath=True, nogil=True, cache=True)\n",
    "def _ham_ops(states, state_indices, couplings, sites, sel_opt):\n",
    "    \"\"\"\n",
    "    Numba-optimized code for hamiltonian construction in the\n",
    "    1D fermionic case for arbitrary couplings between (arbitrarily\n",
    "    chosen) sites. This routine is internal and is intended\n",
    "    for usage in the operators.buildham.buildham(...) function.\n",
    "    The output of this function are the matrix elements\n",
    "    corresponding to a single hamiltonian term in the decomposition\n",
    "    H = \\sum_i h_i\n",
    "    where H is the entire hamiltonian and h_i are the aforementioned\n",
    "    subterms.\n",
    "\n",
    "    INPUT:\n",
    "\n",
    "    states: np.array, dtype=np.uint64\n",
    "        An array of states available to the system.\n",
    "    state_indices: np.array, dtype=np.uint64\n",
    "        A helper array used for finding the index\n",
    "        of a state which was obtained after hamiltonian\n",
    "        action on some selected initial state. Both\n",
    "        states and state_indices arrays are usually\n",
    "        provided as the output of the\n",
    "        bitmanip.select_states(...) function.\n",
    "    couplings: np.array, dtype=np.complex128\n",
    "        An array of the coupling constants which\n",
    "        are simply (complex) multiplicative\n",
    "        prefactors for the hamiltonian matrix\n",
    "        elements.\n",
    "    sites: 2D np.array, dtype=np.uint32,\n",
    "           shape=(len(couplings), len(sel_opt))\n",
    "        An array indicating which sites the\n",
    "        operators specified in the sel_opt (see below)\n",
    "        and their corresponding coupling constants\n",
    "        (see 'couplings' above) should couple.\n",
    "    sel_opt: np.array, dtype=uint32\n",
    "        An array specifying which operators constitute\n",
    "        a particular hamiltonian term. Allowed entries\n",
    "        in the sel_opt array are:\n",
    "\n",
    "            0: c^+ operator\n",
    "            1: c^- operator\n",
    "            2: Identity operator\n",
    "            3: n operator (c+c-)\n",
    "\n",
    "\n",
    "    OUTPUT:\n",
    "\n",
    "    rows, cols: np.array(s), dtype=np.uint64\n",
    "        Rows and columns arrays needed in the\n",
    "        construction of a sparse array.\n",
    "    vals: np.array, dtype=np.complex128\n",
    "        Values of the matrix elements whose\n",
    "        positions are given by the entries in\n",
    "        the rows and cols arrays.\n",
    "\n",
    "    EXAMPLE:\n",
    "\n",
    "        Here we show how to construct individual\n",
    "        hamiltonian terms the 1D Anderson\n",
    "        hamiltonian:\n",
    "\n",
    "        H_a = t * (\\sum_i (c_i^+c_{i+1}^- +\n",
    "                 + c_{i+1}^+ c_{i+1}^-) +\n",
    "                 + \\sum_i h_i n_i\n",
    "\n",
    "        We set L=4 with PBC in the half-filled\n",
    "        case, nup=2. We set t=-1 and the\n",
    "        disorder strength parameter W=1.\n",
    "\n",
    "        First, the selection of states is\n",
    "        most conveniently done as follows:\n",
    "\n",
    "        states, state_indices = bmp.select_states(L=4, nup=2)\n",
    "\n",
    "        We define the coupling constants:\n",
    "\n",
    "        t = -1\n",
    "        W = 1.\n",
    "\n",
    "        Let us simulate hopping to the right first:\n",
    "\n",
    "            couplings_r = np.array([t for i in range(L)])\n",
    "            sites_r = np.array([[i, (i + 1) % L] for i in range(L) ]) #PBC\n",
    "            sel_opt_r = [0, 1]\n",
    "\n",
    "        Hopping to the left:\n",
    "\n",
    "            couplings_l = np.array([t for i in range(L)])\n",
    "            sites_l = np.array([[i % L, (i - 1) % L] for i in range(L) ]) #PBC\n",
    "            sel_opt_l = [0, 1]\n",
    "\n",
    "        Let us now define the random fields in the random part:\n",
    "\n",
    "            couplings_rnd = np.random.uniform(-W, W, size=L)\n",
    "            sites_rnd = np.array([i for i in range(L)])\n",
    "            sel_opt_rnd = [3]\n",
    "\n",
    "        To construct any of the above terms, simply call:\n",
    "\n",
    "            _ham_ops(states, state_indices, couplings_{}, sites_{},\n",
    "                     sel_opt_{})\n",
    "\n",
    "        NOTE: as it is evident from the above cases, the sites\n",
    "        array's shape should be of the shape (len(couplings), len(sel_opt)).\n",
    "\n",
    "    \"\"\"\n",
    "\n",
    "    sel_opt = sel_opt[::-1]\n",
    "\n",
    "    rows = []\n",
    "    cols = []\n",
    "    vals = []\n",
    "\n",
    "    # for i, state in enumerate(states):\n",
    "    for i in range(len(states)):\n",
    "        state = states[i]\n",
    "        for j, coupling in enumerate(couplings):\n",
    "\n",
    "            sitelist = sites[j][::-1]\n",
    "\n",
    "            newstate = state\n",
    "            factor = 1.\n",
    "\n",
    "            for k, site in enumerate(sitelist):\n",
    "\n",
    "                if sel_opt[k] == 0:  # c+\n",
    "\n",
    "                    # Consider the fermionic sign\n",
    "                    ferm_sgn = (-1)**bmp.countBitsInterval(newstate,\n",
    "                                                           0, site)\n",
    "\n",
    "                    factor_, newstate = cp(newstate, site)\n",
    "\n",
    "                    factor_ *= ferm_sgn\n",
    "\n",
    "                elif sel_opt[k] == 1:  # c-\n",
    "\n",
    "                    # consider the fermionic sign\n",
    "                    ferm_sgn = (-1)**bmp.countBitsInterval(newstate,\n",
    "                                                           0, site)\n",
    "\n",
    "                    factor_, newstate = cm(newstate, site)\n",
    "\n",
    "                    factor_ *= ferm_sgn\n",
    "\n",
    "                elif sel_opt[k] == 2:  # identity\n",
    "\n",
    "                    factor_, newstate = id2(newstate, site)\n",
    "\n",
    "                elif sel_opt[k] == 3:  # number operator\n",
    "\n",
    "                    factor_, newstate = cn(newstate, site)\n",
    "\n",
    "                factor *= factor_\n",
    "\n",
    "            if factor:\n",
    "\n",
    "                rows.append(i)\n",
    "                cols.append(state_indices[newstate])\n",
    "                vals.append(coupling * factor)\n",
    "\n",
    "    rows = np.array(rows, dtype=np.uint64)\n",
    "    cols = np.array(cols, dtype=np.uint64)\n",
    "    vals = np.array(vals, dtype=np.float64)\n",
    "\n",
    "    return rows, cols, vals\n",
    "\n",
    "\n",
    "_trans_dict = {'+': 0,\n",
    "               '-': 1,\n",
    "               'I': 2,\n",
    "               'n': 3}\n",
    "\n",
    "operators = {'+': cp,\n",
    "             '-': cm,\n",
    "             'I': id2,\n",
    "             'n': cn}\n",
    "\n",
    "\n",
    "\n",
    "\n",
    "\n",
    "def buildham(L, nup, static_list):\n",
    "\n",
    "    states, state_indices = select_states(np.uint32(L), np.uint32(nup))\n",
    "    states = np.uint64(states)\n",
    "    state_indices = np.uint64(state_indices)\n",
    "    nstates = states.shape[0]\n",
    "    ham = csr_matrix((nstates, nstates), dtype=np.float64)\n",
    "    ham = 0\n",
    "    trans_dict = _trans_dict\n",
    "    ham_ops = _ham_ops\n",
    "    \n",
    "    for term in static_list:\n",
    "\n",
    "        ops = list(term[0])\n",
    "        ops = np.array([trans_dict[op] for op in ops], dtype=np.uint32)\n",
    "\n",
    "        coupsites = np.array(term[1])\n",
    "\n",
    "        coups = np.float64(coupsites[:, 0])\n",
    "\n",
    "        sites = np.uint32(coupsites[:, 1:])\n",
    "        rows, cols, vals = ham_ops(states, state_indices, coups, sites, ops)\n",
    "        ham += csr_matrix((vals, (rows, cols)), shape=(nstates, nstates))\n",
    "    \n",
    "    return ham\n"
   ]
  },
  {
   "cell_type": "code",
   "execution_count": 31,
   "metadata": {
    "ExecuteTime": {
     "end_time": "2020-08-13T08:14:56.817638Z",
     "start_time": "2020-08-13T08:14:50.649013Z"
    }
   },
   "outputs": [
    {
     "name": "stdout",
     "output_type": "stream",
     "text": [
      "75.2 ms ± 704 µs per loop (mean ± std. dev. of 7 runs, 10 loops each)\n"
     ]
    }
   ],
   "source": [
    "import os\n",
    "os.environ['NUMBA_DISABLE_JIT'] = \"0\"\n",
    "\n",
    "L=22\n",
    "nu=11\n",
    "J= np.sqrt(2)\n",
    "W=1.\n",
    "Delta = 1.0\n",
    "gldn = (np.sqrt(5.) - 1.) * 0.5\n",
    "%timeit states, state_indices = select_states(L, nu)\n",
    "couplings = np.ones(L, dtype=np.float64)\n",
    "sites = np.array([[i, (i+1)%L] for i in range(L)], dtype=np.uint32)\n",
    "\n",
    "sel_opt = np.array([0, 1], dtype=np.uint32)"
   ]
  },
  {
   "cell_type": "code",
   "execution_count": 137,
   "metadata": {
    "ExecuteTime": {
     "end_time": "2020-08-12T13:37:23.420840Z",
     "start_time": "2020-08-12T13:37:22.315345Z"
    }
   },
   "outputs": [
    {
     "data": {
      "text/plain": [
       "(array([     0,      1,      1, ..., 705430, 705430, 705431], dtype=uint64),\n",
       " array([352726,      0, 352736, ..., 705429, 705419, 705430], dtype=uint64),\n",
       " array([1., 1., 1., ..., 1., 1., 1.]))"
      ]
     },
     "execution_count": 137,
     "metadata": {},
     "output_type": "execute_result"
    }
   ],
   "source": [
    "_ham_ops(states, state_indices, couplings, sites, sel_opt)"
   ]
  },
  {
   "cell_type": "code",
   "execution_count": 138,
   "metadata": {
    "ExecuteTime": {
     "end_time": "2020-08-12T13:37:27.204408Z",
     "start_time": "2020-08-12T13:37:27.174510Z"
    }
   },
   "outputs": [
    {
     "data": {
      "text/plain": [
       "(705432,)"
      ]
     },
     "execution_count": 138,
     "metadata": {},
     "output_type": "execute_result"
    }
   ],
   "source": [
    "states.shape"
   ]
  },
  {
   "cell_type": "code",
   "execution_count": 32,
   "metadata": {
    "ExecuteTime": {
     "end_time": "2020-08-13T08:15:00.045267Z",
     "start_time": "2020-08-13T08:15:00.027355Z"
    }
   },
   "outputs": [],
   "source": [
    "J_pm = [[J * 0.5 , i, (i + 1)%L] for i in range(L-1)] # the %L part ensures PBC\n",
    "J_mp = [[J * 0.5 , (i+1)%L, i] for i in range(L-1)]\n",
    "# the first entry in the nested list is always the value of the exchange constant\n",
    "# the following entries are integers specifying the sites on which the operators act.\n",
    "\n",
    "# then, specify the operators:\n",
    "flip_left = ['+-', J_pm]\n",
    "\n",
    "# the first entry is the operator specification string (opstring), the second one is the site coupling\n",
    "# list. len(list(opstring)) should match the number of sites in the site coupling list, otherwise the\n",
    "# could will raise an error.\n",
    "# The allowed operators in the spin case\n",
    "# are:\n",
    "# {'+': s+, '-': s-, 'I': id2, 'x': sx, 'y': sy, 'z': sz}\n",
    " \n",
    "# the specification of operators together with the site-coupling list J_pm completely\n",
    "# determines one single hamiltonian term. \n",
    "\n",
    "# Let's now define the other hamiltonian terms, namely the right-flipping term, the interaction\n",
    "# term and the disorder term.\n",
    "\n",
    "# right-flipping:\n",
    "flip_right = ['+-', J_mp] #couplings remain the same, only the operator order changes\n",
    "\n",
    "# interaction:\n",
    "J_zz = [[Delta, i, (i+1)%L] for i in range(L-1)]\n",
    "inter = ['nn', J_zz]\n",
    "\n",
    "#random field\n",
    "\n",
    "fields = np.ones(L) / np.sqrt(3) #np.array([W * np.cos(2*np.pi*gldn*i) for i in range(1, L+1)])\n",
    "J_z = [[fields[i], i] for i in range(L)]\n",
    "rnd = ['n', J_z]\n",
    "\n",
    "# we can now put together the static_list -> just a list of hamiltonian term\n",
    "# definitions\n",
    "\n",
    "static_list = [flip_left, flip_right, inter, rnd]\n",
    "\n",
    "\n",
    "\n"
   ]
  },
  {
   "cell_type": "markdown",
   "metadata": {
    "ExecuteTime": {
     "end_time": "2020-08-12T10:52:13.585376Z",
     "start_time": "2020-08-12T10:52:02.534273Z"
    }
   },
   "source": [
    "%time buildham(L, nu, static_list, _construct_ops)\n",
    "\n"
   ]
  },
  {
   "cell_type": "code",
   "execution_count": 33,
   "metadata": {
    "ExecuteTime": {
     "end_time": "2020-08-13T08:15:58.546434Z",
     "start_time": "2020-08-13T08:15:03.762285Z"
    }
   },
   "outputs": [
    {
     "name": "stdout",
     "output_type": "stream",
     "text": [
      "6.78 s ± 722 ms per loop (mean ± std. dev. of 7 runs, 1 loop each)\n"
     ]
    }
   ],
   "source": [
    "%timeit buildham(L, nu, static_list)"
   ]
  },
  {
   "cell_type": "code",
   "execution_count": 126,
   "metadata": {
    "ExecuteTime": {
     "end_time": "2020-08-12T13:18:34.776181Z",
     "start_time": "2020-08-12T13:18:27.787434Z"
    }
   },
   "outputs": [
    {
     "name": "stdout",
     "output_type": "stream",
     "text": [
      "Please wait, building the Hamiltonian ...\n",
      "Building the Hamiltonian finished!\n",
      "Calculating nnz, o_nnz, d_nnz!\n",
      "Calculating nnz, o_nnz, d_nnz finished!\n",
      "CPU times: user 6.31 s, sys: 1.1 s, total: 7.41 s\n",
      "Wall time: 6.98 s\n"
     ]
    }
   ],
   "source": [
    "%time ham = sp1.hamiltonian(L, static_list, [], Nu=nu,parallel=False, mpisize=0, mpirank=0)\n",
    "\n",
    "#ham._static_changed=True\n",
    "#%time ham.build_mat()"
   ]
  },
  {
   "cell_type": "code",
   "execution_count": 52,
   "metadata": {
    "ExecuteTime": {
     "end_time": "2020-08-12T12:41:23.581419Z",
     "start_time": "2020-08-12T12:41:19.992845Z"
    }
   },
   "outputs": [
    {
     "name": "stdout",
     "output_type": "stream",
     "text": [
      "4.38 ms ± 180 µs per loop (mean ± std. dev. of 7 runs, 100 loops each)\n"
     ]
    }
   ],
   "source": [
    "%timeit select_states(18,9)"
   ]
  },
  {
   "cell_type": "code",
   "execution_count": 41,
   "metadata": {
    "ExecuteTime": {
     "end_time": "2020-08-12T12:38:37.190489Z",
     "start_time": "2020-08-12T12:38:37.147354Z"
    }
   },
   "outputs": [
    {
     "name": "stdout",
     "output_type": "stream",
     "text": [
      " \n",
      "================================================================================\n",
      " Parallel Accelerator Optimizing:  Function select_states, <ipython-\n",
      "input-40-34add9b8fe9f> (49)  \n",
      "================================================================================\n",
      "\n",
      "\n",
      "Parallel loop listing for  Function select_states, <ipython-input-40-34add9b8fe9f> (49) \n",
      "----------------------------------------------------------------------------------------|loop #ID\n",
      "@nb.njit('Tuple((uint64[:], uint64[:]))(uint32, uint32)', parallel=True, nogil=True)    | \n",
      "def select_states(L, nup):                                                              | \n",
      "    \"\"\"                                                                                 | \n",
      "    A routine for selecting states from a block                                         | \n",
      "    with a given number of nup spins or, in the                                         | \n",
      "    fermionic language, a given number of particles.                                    | \n",
      "    This is only applicable to models which                                             | \n",
      "    preserve the particle number/spin projection                                        | \n",
      "    along the z-axis.                                                                   | \n",
      "                                                                                        | \n",
      "    INPUT:                                                                              | \n",
      "                                                                                        | \n",
      "    L: uint32                                                                           | \n",
      "        The length of the 1-dimensional chain.                                          | \n",
      "                                                                                        | \n",
      "    nup: uint32                                                                         | \n",
      "        The number of up-spins or particles.                                            | \n",
      "                                                                                        | \n",
      "    OUTPUT:                                                                             | \n",
      "                                                                                        | \n",
      "    states: np.array, dtype=uint64                                                      | \n",
      "        An array of appropriate states selected                                         | \n",
      "        from the whole 2^L dimensional Hilbert                                          | \n",
      "        space of the problem                                                            | \n",
      "    state_indices: np.array, dtype=uint64                                               | \n",
      "        A matrix containing information on how                                          | \n",
      "        the selected states from the entire Hilbert                                     | \n",
      "        space are ordered in the selected nup                                           | \n",
      "        subspace of the Hilbert space.                                                  | \n",
      "                                                                                        | \n",
      "    \"\"\"                                                                                 | \n",
      "    states = []                                                                         | \n",
      "    state_indices = np.zeros(1 << L, dtype=np.uint64)-----------------------------------| #25\n",
      "    idx = 0                                                                             | \n",
      "                                                                                        | \n",
      "    nsteps = 1 << L                                                                     | \n",
      "    for i in range(nsteps):                                                             | \n",
      "                                                                                        | \n",
      "        if countSetbits(i) == nup:                                                      | \n",
      "                                                                                        | \n",
      "            states.append(i)                                                            | \n",
      "            state_indices[i] = idx                                                      | \n",
      "                                                                                        | \n",
      "            idx += 1                                                                    | \n",
      "                                                                                        | \n",
      "    return np.array(states, dtype=np.uint64), state_indices                             | \n",
      "Performing sequential lowering of loops...\n",
      "--------------------------------------------------------------------------------\n",
      "----------------------------- Before Optimisation ------------------------------\n",
      "--------------------------------------------------------------------------------\n",
      "------------------------------ After Optimisation ------------------------------\n",
      "Parallel structure is already optimal.\n",
      "--------------------------------------------------------------------------------\n",
      "--------------------------------------------------------------------------------\n",
      " \n",
      "---------------------------Loop invariant code motion---------------------------\n",
      "\n",
      "Instruction hoisting:\n",
      "No instruction hoisting found\n",
      "--------------------------------------------------------------------------------\n"
     ]
    }
   ],
   "source": [
    "select_states.parallel_diagnostics(level=4)"
   ]
  },
  {
   "cell_type": "code",
   "execution_count": 32,
   "metadata": {
    "ExecuteTime": {
     "end_time": "2020-08-12T12:14:23.895430Z",
     "start_time": "2020-08-12T12:14:23.841807Z"
    }
   },
   "outputs": [
    {
     "name": "stdout",
     "output_type": "stream",
     "text": [
      " \n",
      "================================================================================\n",
      " Parallel Accelerator Optimizing:  Function _ham_ops, <ipython-\n",
      "input-31-8ecdce37b75f> (101)  \n",
      "================================================================================\n",
      "\n",
      "\n",
      "Parallel loop listing for  Function _ham_ops, <ipython-input-31-8ecdce37b75f> (101) \n",
      "--------------------------------------------------------------------------------|loop #ID\n",
      "@nb.njit(_signature, fastmath=True, nogil=True, cache=True, parallel=True)      | \n",
      "def _ham_ops(states, state_indices, couplings, sites, sel_opt):                 | \n",
      "    \"\"\"                                                                         | \n",
      "    Numba-optimized code for hamiltonian construction in the                    | \n",
      "    spin 1/2 case for arbitrary couplings between (arbitrarily                  | \n",
      "    chosen) sites. This routine is internal and is intended                     | \n",
      "    for usage in the operators.buildham.buildham(...) function.                 | \n",
      "    The output of this function are the matrix elements                         | \n",
      "    corresponding to a single hamiltonian term in the decomposition             | \n",
      "    H = \\sum_i h_i                                                              | \n",
      "    where H is the entire hamiltonian and h_i are the aforementioned            | \n",
      "    subterms.                                                                   | \n",
      "                                                                                | \n",
      "    INPUT:                                                                      | \n",
      "                                                                                | \n",
      "    states: np.array, dtype=np.uint64                                           | \n",
      "        An array of states available to the system.                             | \n",
      "    state_indices: np.array, dtype=np.uint64                                    | \n",
      "        A helper array used for finding the index                               | \n",
      "        of a state which was obtained after hamiltonian                         | \n",
      "        action on some selected initial state. Both                             | \n",
      "        states and state_indices arrays are usually                             | \n",
      "        provided as the output of the                                           | \n",
      "        bitmanip.select_states(...) function.                                   | \n",
      "    couplings: np.array, dtype=np.complex128                                    | \n",
      "        An array of the coupling constants which                                | \n",
      "        are simply (complex) multiplicative                                     | \n",
      "        prefactors for the hamiltonian matrix                                   | \n",
      "        elements.                                                               | \n",
      "    sites: 2D np.array, dtype=np.uint32,                                        | \n",
      "           shape=(len(couplings), len(sel_opt))                                 | \n",
      "        An array indicating which sites the                                     | \n",
      "        operators specified in the sel_opt (see below)                          | \n",
      "        and their corresponding coupling constants                              | \n",
      "        (see 'couplings' above) should couple.                                  | \n",
      "    sel_opt: np.array, dtype=uint32                                             | \n",
      "        An array specifying which operators constitute                          | \n",
      "        a particular hamiltonian term. Allowed entries                          | \n",
      "        in the sel_opt array are:                                               | \n",
      "                                                                                | \n",
      "            0: S+ operator                                                      | \n",
      "            1: S- operator                                                      | \n",
      "            2: Identity operator                                                | \n",
      "            3: Sx operator                                                      | \n",
      "            4: Sy operator                                                      | \n",
      "            5: Sz operator                                                      | \n",
      "                                                                                | \n",
      "    OUTPUT:                                                                     | \n",
      "                                                                                | \n",
      "    rows, cols: np.array(s), dtype=np.uint64                                    | \n",
      "        Rows and columns arrays needed in the                                   | \n",
      "        construction of a sparse array.                                         | \n",
      "    vals: np.array, dtype=np.complex128                                         | \n",
      "        Values of the matrix elements whose                                     | \n",
      "        positions are given by the entries in                                   | \n",
      "        the rows and cols arrays.                                               | \n",
      "                                                                                | \n",
      "    EXAMPLE:                                                                    | \n",
      "                                                                                | \n",
      "        Here we show how to construct individual                                | \n",
      "        hamiltonian terms for an anisotropic XXZ                                | \n",
      "        chain with added potential disorder:                                    | \n",
      "                                                                                | \n",
      "        H_xxz = J * (\\sum_i (S_i^+S_{i+1}^- +                                   | \n",
      "                 + S_i^- S_{i+1}^+) +                                           | \n",
      "                 + delta * S_i^z S_{i+1}^z) +                                   | \n",
      "                 + \\sum_i h_i S_i^z                                             | \n",
      "                                                                                | \n",
      "        We set L=4 with PBC and with the                                        | \n",
      "        total spin projection Sz=0 (nup=2) and                                  | \n",
      "        J = 1, delta = 0.55.                                                    | \n",
      "                                                                                | \n",
      "        First, the selection of states is                                       | \n",
      "        most conveniently done as follows:                                      | \n",
      "                                                                                | \n",
      "        states, state_indices = bmp.select_states(L=4, nup=2)                   | \n",
      "                                                                                | \n",
      "        We define the coupling constants:                                       | \n",
      "                                                                                | \n",
      "        J = 1.                                                                  | \n",
      "        delta = 0.55                                                            | \n",
      "        W = 1. # the disorder strength parameter                                | \n",
      "                                                                                | \n",
      "        Let us simulate the xy part of the anisotropic                          | \n",
      "        XXZ hamiltonian:                                                        | \n",
      "                                                                                | \n",
      "            couplings_xy = np.array([J * 0.5 for i in range(L)])                | \n",
      "            sites_xy = np.array([[i, (i + 1) % L] for i in range(L) ]) #PBC     | \n",
      "            sel_opt_xy = [0, 1]                                                 | \n",
      "                                                                                | \n",
      "        Note: to simulate the hermitian conjugate part, we can simply set       | \n",
      "        sel_opt_xy = [1, 0].                                                    | \n",
      "                                                                                | \n",
      "        Things are very similar for the interaction along the z-axis:           | \n",
      "                                                                                | \n",
      "            couplings_zz = np.array([J * delta for i in range(L)])              | \n",
      "            sites_zz = np.array([[i, (i + 1) % L] for i in range(L) ]) #PBC     | \n",
      "            sel_opt_zz = [5, 5]                                                 | \n",
      "                                                                                | \n",
      "        Let us now define the random fields in the random part:                 | \n",
      "                                                                                | \n",
      "            couplings_z = np.random.uniform(-W, W, size=L)                      | \n",
      "            sites_z = np.array([i for i in range(L)])                           | \n",
      "            sel_opt_z = [5]                                                     | \n",
      "                                                                                | \n",
      "        To construct any of the above terms, simply call:                       | \n",
      "                                                                                | \n",
      "            _ham_ops(states, state_indices, couplings_{}, sites_{},             | \n",
      "                     sel_opt_{})                                                | \n",
      "                                                                                | \n",
      "        NOTE: as it is evident from the above cases, the sites                  | \n",
      "        array's shape should be of the shape (len(couplings), len(sel_opt)).    | \n",
      "                                                                                | \n",
      "    \"\"\"                                                                         | \n",
      "                                                                                | \n",
      "    rows = []                                                                   | \n",
      "    cols = []                                                                   | \n",
      "    vals = []                                                                   | \n",
      "                                                                                | \n",
      "    # for i, state in enumerate(states):                                        | \n",
      "    for i in prange(len(states)):-----------------------------------------------| #18\n",
      "        state = states[i]                                                       | \n",
      "        for j in prange(len(couplings)):----------------------------------------| #17\n",
      "                                                                                | \n",
      "            coupling = couplings[j]                                             | \n",
      "            sitelist = sites[j]                                                 | \n",
      "                                                                                | \n",
      "            newstate = state                                                    | \n",
      "            factor = 1.                                                         | \n",
      "                                                                                | \n",
      "            for k in range(len(sitelist)):                                      | \n",
      "                site = sitelist[k]                                              | \n",
      "                if sel_opt[k] == 0:                                             | \n",
      "                                                                                | \n",
      "                    factor_, newstate = so.sp(newstate, site)                   | \n",
      "                                                                                | \n",
      "                elif sel_opt[k] == 1:                                           | \n",
      "                                                                                | \n",
      "                    factor_, newstate = so.sm(newstate, site)                   | \n",
      "                                                                                | \n",
      "                elif sel_opt[k] == 2:                                           | \n",
      "                                                                                | \n",
      "                    factor_, newstate = so.id2(newstate, site)                  | \n",
      "                                                                                | \n",
      "                elif sel_opt[k] == 3:                                           | \n",
      "                                                                                | \n",
      "                    factor_, newstate = so.sx(newstate, site)                   | \n",
      "                                                                                | \n",
      "                elif sel_opt[k] == 4:                                           | \n",
      "                                                                                | \n",
      "                    factor_, newstate = so.sy(newstate, site)                   | \n",
      "                                                                                | \n",
      "                elif sel_opt[k] == 5:                                           | \n",
      "                                                                                | \n",
      "                    factor_, newstate = so.sz(newstate, site)                   | \n",
      "                                                                                | \n",
      "                factor *= factor_                                               | \n",
      "                                                                                | \n",
      "            if factor:                                                          | \n",
      "                                                                                | \n",
      "                rows.append(i)                                                  | \n",
      "                cols.append(state_indices[newstate])                            | \n",
      "                vals.append(coupling * factor)                                  | \n",
      "                                                                                | \n",
      "    rows = np.array(rows, dtype=np.uint64)                                      | \n",
      "    cols = np.array(cols, dtype=np.uint64)                                      | \n",
      "    vals = np.array(vals, dtype=np.complex128)                                  | \n",
      "    return rows, cols, vals                                                     | \n",
      "Performing sequential lowering of loops...\n",
      "--------------------------------------------------------------------------------\n",
      "----------------------------- Before Optimisation ------------------------------\n",
      "--------------------------------------------------------------------------------\n",
      "------------------------------ After Optimisation ------------------------------\n",
      "Parallel structure is already optimal.\n",
      "--------------------------------------------------------------------------------\n",
      "--------------------------------------------------------------------------------\n",
      " \n",
      "---------------------------Loop invariant code motion---------------------------\n",
      "\n",
      "Instruction hoisting:\n",
      "No instruction hoisting found\n",
      "--------------------------------------------------------------------------------\n"
     ]
    }
   ],
   "source": [
    "_ham_ops.parallel_diagnostics(level=4)"
   ]
  },
  {
   "cell_type": "code",
   "execution_count": 88,
   "metadata": {
    "ExecuteTime": {
     "end_time": "2020-08-12T12:57:14.482744Z",
     "start_time": "2020-08-12T12:57:14.466240Z"
    }
   },
   "outputs": [],
   "source": [
    "nb.config.NUMBA_NUM_THREADS=1"
   ]
  },
  {
   "cell_type": "code",
   "execution_count": 3,
   "metadata": {
    "ExecuteTime": {
     "end_time": "2020-08-13T08:09:13.793048Z",
     "start_time": "2020-08-13T08:09:13.771570Z"
    }
   },
   "outputs": [],
   "source": [
    "@nb.njit(fastmath=True, parallel=True)\n",
    "def test_numba(a):\n",
    "    \n",
    "    val = 0.\n",
    "    for i in prange(a.shape[0]):\n",
    "        val += a[i]**2\n",
    "        \n",
    "    return val"
   ]
  },
  {
   "cell_type": "code",
   "execution_count": null,
   "metadata": {
    "ExecuteTime": {
     "end_time": "2020-08-12T12:53:02.552020Z",
     "start_time": "2020-08-12T12:53:00.318803Z"
    }
   },
   "outputs": [],
   "source": [
    "test_numba()"
   ]
  },
  {
   "cell_type": "code",
   "execution_count": 4,
   "metadata": {
    "ExecuteTime": {
     "end_time": "2020-08-13T08:09:34.122926Z",
     "start_time": "2020-08-13T08:09:34.102228Z"
    }
   },
   "outputs": [],
   "source": [
    "input_ndarray = np.arange(1., 100000., 1.)"
   ]
  },
  {
   "cell_type": "code",
   "execution_count": 6,
   "metadata": {
    "ExecuteTime": {
     "end_time": "2020-08-13T08:09:42.566605Z",
     "start_time": "2020-08-13T08:09:41.115112Z"
    }
   },
   "outputs": [
    {
     "name": "stdout",
     "output_type": "stream",
     "text": [
      "16.6 µs ± 1.54 µs per loop (mean ± std. dev. of 7 runs, 10000 loops each)\n"
     ]
    }
   ],
   "source": [
    "%timeit test_numba(input_ndarray)"
   ]
  },
  {
   "cell_type": "code",
   "execution_count": 79,
   "metadata": {
    "ExecuteTime": {
     "end_time": "2020-08-12T15:31:59.188878Z",
     "start_time": "2020-08-12T15:31:59.162205Z"
    }
   },
   "outputs": [],
   "source": [
    "from numba import autojit\n",
    "\n",
    "@nb.njit()\n",
    "def do_sum(A):\n",
    "    acc = 0.0\n",
    "    for i in range(A.shape[0]):\n",
    "        acc += np.sqrt(A[i])\n",
    "\n",
    "    return acc\n",
    "\n",
    "\n",
    "@njit(parallel=True)\n",
    "def do_sum_parallel(A):\n",
    "    # each thread can accumulate its own partial sum, and then a cross\n",
    "    # thread reduction is performed to obtain the result to return\n",
    "    n = len(A)\n",
    "    acc = 0.\n",
    "    for i in prange(n):\n",
    "        acc += np.sqrt(A[i])\n",
    "    return acc\n",
    "\n",
    "@njit(parallel=True, fastmath=True)\n",
    "def do_sum_parallel_fast(A):\n",
    "    n = len(A)\n",
    "    acc = 0.\n",
    "    for i in prange(n):\n",
    "        acc += np.sqrt(A[i])\n",
    "    return acc"
   ]
  },
  {
   "cell_type": "code",
   "execution_count": 81,
   "metadata": {
    "ExecuteTime": {
     "end_time": "2020-08-12T15:32:11.879767Z",
     "start_time": "2020-08-12T15:32:09.823526Z"
    }
   },
   "outputs": [
    {
     "name": "stdout",
     "output_type": "stream",
     "text": [
      "244 µs ± 1.61 µs per loop (mean ± std. dev. of 7 runs, 1000 loops each)\n"
     ]
    }
   ],
   "source": [
    "%timeit do_sum(input_ndarray)\n",
    "\n"
   ]
  },
  {
   "cell_type": "code",
   "execution_count": 83,
   "metadata": {
    "ExecuteTime": {
     "end_time": "2020-08-12T15:32:29.909938Z",
     "start_time": "2020-08-12T15:32:17.838936Z"
    }
   },
   "outputs": [
    {
     "name": "stdout",
     "output_type": "stream",
     "text": [
      "149 µs ± 9.36 µs per loop (mean ± std. dev. of 7 runs, 10000 loops each)\n"
     ]
    }
   ],
   "source": [
    "%timeit do_sum_parallel(input_ndarray)"
   ]
  },
  {
   "cell_type": "code",
   "execution_count": 84,
   "metadata": {
    "ExecuteTime": {
     "end_time": "2020-08-12T15:32:32.956352Z",
     "start_time": "2020-08-12T15:32:32.528391Z"
    }
   },
   "outputs": [
    {
     "name": "stdout",
     "output_type": "stream",
     "text": [
      "84.2 µs ± 32.1 µs per loop (mean ± std. dev. of 7 runs, 1 loop each)\n"
     ]
    }
   ],
   "source": [
    "%timeit do_sum_parallel_fast(input_ndarray)"
   ]
  },
  {
   "cell_type": "code",
   "execution_count": 51,
   "metadata": {
    "ExecuteTime": {
     "end_time": "2020-08-13T08:47:22.441612Z",
     "start_time": "2020-08-13T08:47:22.174881Z"
    }
   },
   "outputs": [],
   "source": [
    "import numpy as np\n",
    "import numba as nb\n",
    "\n",
    "LOOKUP_TABLE = np.array([\n",
    "    1, 1, 2, 6, 24, 120, 720, 5040, 40320,\n",
    "    362880, 3628800, 39916800, 479001600,\n",
    "    6227020800, 87178291200, 1307674368000,\n",
    "    20922789888000, 355687428096000, 6402373705728000,\n",
    "    121645100408832000, 2432902008176640000], dtype='int64')\n",
    "\n",
    "\n",
    "@nb.njit('i8(i8,i8)')\n",
    "def binomial(n, k):\n",
    "    \"\"\"\n",
    "    A fast way to calculate binomial coefficients by Andrew Dalke.\n",
    "    See http://stackoverflow.com/questions/3025162/statistics-combinations-in-python\n",
    "    \"\"\"\n",
    "    if 0 <= k <= n:\n",
    "        ntok = 1\n",
    "        ktok = 1\n",
    "        for t in range(1, min(k, n - k) + 1):\n",
    "            ntok *= n\n",
    "            ktok *= t\n",
    "            n -= 1\n",
    "        return ntok // ktok\n",
    "    else:\n",
    "        return 0\n",
    "    \n",
    "@nb.njit(fastmath=True, parallel=True)\n",
    "def _ind0(iconf, npart):\n",
    "    \"\"\"\n",
    "    A routine that finds a configuration index for\n",
    "    a lattice with only two entities (spins and holes\n",
    "    or up and down spins, for instance). NOTE:\n",
    "    This is an internal (helper) routine, that is\n",
    "    meant to be called from the ind routine.\n",
    "\n",
    "    Parameters:\n",
    "    -----------\n",
    "    iconf - a configuration array, entries\n",
    "            correspond to the sites at which\n",
    "            the entities reside. For the\n",
    "            following spin configuration:\n",
    "            u d d u\n",
    "            the iconf array would be:\n",
    "            0 3 0 0\n",
    "    npart - number of particles on a lattice\n",
    "\n",
    "    Returns:\n",
    "    --------\n",
    "\n",
    "    indx: int\n",
    "          The index of the state with a given\n",
    "          configuration of up spins/particles.\n",
    "\n",
    "    \"\"\"\n",
    "    indx = 1\n",
    "\n",
    "    for i in prange(0, npart):\n",
    "\n",
    "        # we obtain the site at which\n",
    "        # the particle resides\n",
    "        site = iconf[i]\n",
    "\n",
    "        # we add the number of possible\n",
    "        # preceeding combinations\n",
    "        # i + 1 ensures proper increase\n",
    "        indx += binomial(site, i + 1, )\n",
    "\n",
    "    return indx\n",
    "\n",
    "\n",
    "@nb.njit(fastmath=True, parallel=True)\n",
    "def ind(iconf, L, nu):\n",
    "    \"\"\"\n",
    "    A routine that finds a configuration index for a\n",
    "    lattice with a\n",
    "    given configuration of holes and up, down spins.\n",
    "\n",
    "    INPUT:\n",
    "    iconf - configuration array\n",
    "    L - lattice size\n",
    "    nu - number of up spins\n",
    "    \"\"\"\n",
    "\n",
    "    icu = np.zeros(L, dtype=np.int64)\n",
    "    # jh = 0\n",
    "    ju = 0\n",
    "    for i in range(L):\n",
    "\n",
    "        if iconf[i] == 1:\n",
    "            icu[ju] = i\n",
    "            ju += 1\n",
    "\n",
    "    # find indexes of the hole and up spin configurations:\n",
    "    iu = _ind0(icu, nu)\n",
    "\n",
    "    ind = iu\n",
    "\n",
    "    return ind\n",
    "\n",
    "\n",
    "@nb.njit()\n",
    "def _conf0(ind, L, npart):\n",
    "    \"\"\"\n",
    "    A routine to find a given configuration index for\n",
    "    the case when there are only two entities on a lattice\n",
    "    (for instance electrons/holes, up/down spins)\n",
    "\n",
    "    Parameters:\n",
    "    -----------\n",
    "\n",
    "    ind: int\n",
    "         configuration index of a requested state.\n",
    "    L: int\n",
    "       system size.\n",
    "    npart: int\n",
    "           Number of entities, such as particles or\n",
    "           up pointing spins.\n",
    "\n",
    "    Returns:\n",
    "    --------\n",
    "\n",
    "    iconf: ndarray, int\n",
    "           A configuration array specifying at which\n",
    "           sites the entities reside. Example for\n",
    "           the following spin configuration:\n",
    "           u d d u\n",
    "           iconf => 0 3 0 0\n",
    "\n",
    "    \"\"\"\n",
    "\n",
    "    if ind < 1:\n",
    "\n",
    "        # print(\"Indexing should start with 1.\")\n",
    "\n",
    "        return\n",
    "\n",
    "    ind -= 1\n",
    "    iconf = np.zeros(L, dtype=np.int64)\n",
    "\n",
    "    isite = L - 1\n",
    "    while npart > 0:\n",
    "        if ind >= binomial(isite, npart, ):\n",
    "            iconf[npart - 1] = isite\n",
    "            ind -= binomial(isite, npart, )\n",
    "\n",
    "            npart -= 1\n",
    "\n",
    "        isite -= 1\n",
    "\n",
    "    return iconf\n",
    "\n",
    "\n",
    "@nb.njit()\n",
    "def conf(ind, L, nu, nh=0):\n",
    "    if ind < 1:\n",
    "        # print(\"Indexing starts with 1.\")\n",
    "        return\n",
    "\n",
    "    iconf = np.zeros(L, dtype=np.int64)\n",
    "    # iconfh=np.zeros(L, dtype=int)\n",
    "    # iconfu=np.zeros(L, dtype=int)\n",
    "    # the number of spin up configurations:\n",
    "\n",
    "    iconfu = _conf0(ind, L, nu)\n",
    "\n",
    "    for i in range(nu):\n",
    "        iconf[iconfu[i]] = 1\n",
    "\n",
    "    return iconf"
   ]
  },
  {
   "cell_type": "code",
   "execution_count": 53,
   "metadata": {
    "ExecuteTime": {
     "end_time": "2020-08-13T08:47:40.961364Z",
     "start_time": "2020-08-13T08:47:26.856603Z"
    }
   },
   "outputs": [
    {
     "name": "stdout",
     "output_type": "stream",
     "text": [
      "1.76 µs ± 313 ns per loop (mean ± std. dev. of 7 runs, 1000000 loops each)\n"
     ]
    }
   ],
   "source": [
    "%timeit val=_ind0(np.array([0,3,0,0]), 2)\n",
    "\n",
    "#print(val)"
   ]
  },
  {
   "cell_type": "code",
   "execution_count": null,
   "metadata": {},
   "outputs": [],
   "source": []
  }
 ],
 "metadata": {
  "kernelspec": {
   "display_name": "Python [conda env:petscenv] *",
   "language": "python",
   "name": "conda-env-petscenv-py"
  },
  "language_info": {
   "codemirror_mode": {
    "name": "ipython",
    "version": 3
   },
   "file_extension": ".py",
   "mimetype": "text/x-python",
   "name": "python",
   "nbconvert_exporter": "python",
   "pygments_lexer": "ipython3",
   "version": "3.7.4"
  },
  "latex_envs": {
   "LaTeX_envs_menu_present": true,
   "autoclose": false,
   "autocomplete": true,
   "bibliofile": "biblio.bib",
   "cite_by": "apalike",
   "current_citInitial": 1,
   "eqLabelWithNumbers": true,
   "eqNumInitial": 1,
   "hotkeys": {
    "equation": "Ctrl-E",
    "itemize": "Ctrl-I"
   },
   "labels_anchors": false,
   "latex_user_defs": false,
   "report_style_numbering": false,
   "user_envs_cfg": false
  },
  "toc": {
   "base_numbering": 1,
   "nav_menu": {},
   "number_sections": true,
   "sideBar": true,
   "skip_h1_title": false,
   "title_cell": "Table of Contents",
   "title_sidebar": "Contents",
   "toc_cell": false,
   "toc_position": {},
   "toc_section_display": true,
   "toc_window_display": false
  },
  "varInspector": {
   "cols": {
    "lenName": 16,
    "lenType": 16,
    "lenVar": 40
   },
   "kernels_config": {
    "python": {
     "delete_cmd_postfix": "",
     "delete_cmd_prefix": "del ",
     "library": "var_list.py",
     "varRefreshCmd": "print(var_dic_list())"
    },
    "r": {
     "delete_cmd_postfix": ") ",
     "delete_cmd_prefix": "rm(",
     "library": "var_list.r",
     "varRefreshCmd": "cat(var_dic_list()) "
    }
   },
   "types_to_exclude": [
    "module",
    "function",
    "builtin_function_or_method",
    "instance",
    "_Feature"
   ],
   "window_display": false
  }
 },
 "nbformat": 4,
 "nbformat_minor": 2
}
