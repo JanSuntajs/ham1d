{
 "cells": [
  {
   "cell_type": "markdown",
   "metadata": {},
   "source": [
    "# Introduction to ham1d package\n",
    "\n",
    "## What is this notebook about?\n",
    "\n",
    "This Jupyter notebook serves as an introduction to the ham1d package. The package is intended\n",
    "for construction of 1-dimensional quantum Hamiltonians in either fermionic or hard-core bosonic\n",
    "(spin 1/2) case. In the following sections we show how to use the package's functionalities in the\n",
    "form of walk-through examples.\n",
    "\n",
    "## The intented usage\n",
    "\n",
    "Construction of 1D lattice hamiltonians for both the fermionic and hard-core bosonic as well as\n",
    "noninteracting case. The aim of this code is to provide functionality for rather simple and\n",
    "straightforward implementation of arbitrary (though physically relevant and, importantly, sparse)\n",
    "1D quantum hamiltonians.\n",
    "\n",
    "## What is currently implemented?\n",
    "\n",
    "The package currently implements three classes, which allow for construction of:\n",
    "\n",
    "* fermionic 1D Hamiltonians (defined in ```ham1d.models.ferm1d```)\n",
    "* hard-core bosonic 1D Hamiltonians (defined in ```ham1d.models.spin1d```)\n",
    "* noninteracting 1D case (defined in ```ham1d.models.free1d```)\n",
    "\n",
    "The above three casese are defined in the usual way, where a Hilbert space basis\n",
    "is first constructed and then the model Hamiltonian is obtained by Hamiltonian\n",
    "action on the basis states. To speed up the code just-in-time compilation (jit)\n",
    "tools from the ```numba``` library are used. Note that while the first two\n",
    "implementations could also handle the noninteracting case, the underlying array\n",
    "constructions are specifically tailored for the interacting case and its exponential\n",
    "scaling of the corresponding Hilbert space dimensions. To reach larger system sizes\n",
    "in the noninteracting case, one should thus make use of the code for the noninteracting\n",
    "systems.\n",
    "Additionaly, Hamiltonian construction\n",
    "using the Kronecker product of sparse matrices is also supported in the hard-core\n",
    "bosonic case:\n",
    "\n",
    "* hard-core bosonic 1D Hamiltonians using sparse Kronecker product (defined in ```ham1d.models.spin1d_kron```)\n",
    "\n",
    "## TO DO:\n",
    "\n",
    "* conduct proper testing\n",
    "* provide documentation using sphinx\n",
    "* provide functionalities for the time-dependent hamiltonians"
   ]
  },
  {
   "cell_type": "markdown",
   "metadata": {},
   "source": [
    "## Usage examples\n",
    "\n",
    "First, load the necessary modules. Currently, the ```ham1d``` package has the following\n",
    "subpackages:\n",
    "\n",
    "* ```basis``` (not yet implemented, only a placeholder for now)\n",
    "* ```models``` (the most relevant for the end user, this is where the typical Hamiltonian classes are defined)\n",
    "* ```operators``` (where the internal routines are implemented, should not be visible to the end user and could as well be designated as private in the future)"
   ]
  },
  {
   "cell_type": "code",
   "execution_count": 1,
   "metadata": {},
   "outputs": [],
   "source": [
    "%matplotlib inline\n",
    "\"\"\"\n",
    "Each of the modules defined in ham1d.models defines a class\n",
    "for construction of a particular hamiltonian type. All of the\n",
    "classes share the same base class and thus their functionality\n",
    "is more or less the same, the difference is in the internal routines\n",
    "used.\n",
    "\"\"\"\n",
    "\n",
    "# to load classes utilizing numba's jit\n",
    "# compilation optimizations, load the following\n",
    "# modules. The following lines would load modules\n",
    "# with routines for creation of spin 1/2 (hard-core\n",
    "# bosonic), spinless fermionic and noninteracting\n",
    "# hamiltonians.\n",
    "from ham1d.models import spin1d as sp1\n",
    "from ham1d.models import ferm1d as fe1\n",
    "from ham1d.models import free1d as fr1\n",
    "\n",
    "# in case of the spin 1/2 hamiltonians,\n",
    "# one can also construct the model hamiltonians\n",
    "# using the kronecker product of sparse operators.\n",
    "# In general, this could be easily achieved for\n",
    "# any spin value, simply by providing an appropriate\n",
    "# set of spin operators. For now, only the spin 1/2\n",
    "# matrices are provided.\n",
    "from ham1d.models import spin1d_kron as spk\n",
    "\n",
    "import numpy as np\n",
    "import matplotlib.pyplot as plt"
   ]
  },
  {
   "cell_type": "markdown",
   "metadata": {},
   "source": [
    "### Construct a spin 1/2 hamiltonian and diagonalize it\n",
    "\n",
    "Below we will display some of the packages's key functionalities by constructing\n",
    "an isotropic XXZ spin 1/2 hamiltonian in the presence of quasirandom magnetic field\n",
    "and then obtaining its eigenvalues and eigenvectors. The interface presented below\n",
    "also applies to all the other cases defined above. Below is an excerpt from the\n",
    "packages's documentation:\n",
    "\n",
    "```python\n",
    "\"\"\"\n",
    "A hamiltonian class for some typical hamiltonian type <type>\n",
    "is instantiated as follows:\n",
    "\n",
    "hamiltonian = <type>(L, static_list, dynamic_list=[], t=0, Nu=None)\n",
    "\n",
    "Note that the examples below correspond to the spin 1/2 case but the\n",
    "syntax in all other cases is very much the same.\n",
    "\n",
    "Parameters\n",
    "----------\n",
    "\n",
    "L: int\n",
    "    An integer specifying the spin chain length.\n",
    "\n",
    "static_list: list\n",
    "    A nested list of the operator description strings\n",
    "    and site-coupling lists for the time-independent\n",
    "    part of the Hamiltonian. An example of the\n",
    "    static_ham list would be:\n",
    "\n",
    "        static_ham = [['zz', J_zz]]\n",
    "\n",
    "    Here, 'zz' is the operator descriptor string specifiying\n",
    "    2-spin interaction along the z-axis direction. For a chain-\n",
    "    of L sites with constant nearest-neighbour exchange\n",
    "    J and PBC, the site coupling list would be given by:\n",
    "\n",
    "        J_zz = [[J, i, (i+1)%L] for i in range(L)]\n",
    "\n",
    "    In the upper expression, J is the term describing\n",
    "    the interaction strength and the following entries\n",
    "    in the inner list specify the positions of the coupled\n",
    "    sites. The upper example should serve as a general\n",
    "    template which should allow for simple extension to\n",
    "    the case of n-spin interaction and varying couplings.\n",
    "\n",
    "dynamic_list: list\n",
    "    A nested list of the operator description strings. The\n",
    "    description is similar to the static_ham description,\n",
    "    however, additional terms are needed to incorporate\n",
    "    the time dependence: an example would be:\n",
    "\n",
    "        dynamic_ham = [['zz', J_zz, time_fun, time_fun_args]]\n",
    "\n",
    "    Here, 'zz' is the same operator descriptor string as the\n",
    "    one in the static case. J_zz, however, now refers to\n",
    "    the initial (dynamic) site coupling list at t=0. time_fun\n",
    "    is a function object describing a protocol for\n",
    "    time-dependent part of the hamiltonian with the following\n",
    "    interface: time_fun(t, *time_fun_args) where time_fun_args\n",
    "    are the possible additional arguments of the time-dependence.\n",
    "    NOTE THAT THIS FUNCTIONALITY HAS NOT YET BEEN IMPLEMENTED,\n",
    "    THEREFORE PROVIDING THE DYNAMIC_LIST PARAMETER CURRENTLY\n",
    "    HAS NO PARTICULAR EFFECT!\n",
    "\n",
    "Nu: {int, None}\n",
    "    Number of up spins (or number of particles),\n",
    "    relevant for the hamiltonians where the\n",
    "    total spin z projection is a conserved quantity. Defaults to\n",
    "    None in which case all the sectors for various total spin\n",
    "    projections are considered. In order to examine a particular\n",
    "    sector or sectors, one could either provide a single integer\n",
    "    or a list of integer values.\n",
    "\n",
    "\"\"\"\n",
    "```\n",
    "\n",
    "The Hamiltonian itself has the following structure: \n",
    "\n",
    "$$\n",
    "H = J\\sum_{i} \\left[\\frac{1}{2}\\left(S^+_iS_{i+1}^- + S^-_iS_{i+1}^+\\right) + \\Delta S_i^z S_{i+1}^z\\right] + \\sum_i h_i S_i^z,\n",
    "$$\n",
    "where $h_i$ is the (quasi)random disorder at a site $i$, defined as follows:\n",
    "$$\n",
    "h_i = W\\cos(2\\pi\\alpha i), \\hspace{4mm} \\alpha = \\frac{1}{2}\\left(\\sqrt{5} - 1\\right).\n",
    "$$\n",
    "Here, $W$ is the disorder strength parameter. Below, we set $J=W=1$ and $\\Delta = 0.55$.\n",
    "We assume the validity of periodic boundary conditions (PBC).\n"
   ]
  },
  {
   "cell_type": "markdown",
   "metadata": {},
   "source": [
    "### Defining the model constants"
   ]
  },
  {
   "cell_type": "code",
   "execution_count": 2,
   "metadata": {},
   "outputs": [],
   "source": [
    "#first, define the chain length. We choose a rather small system here:\n",
    "L=12\n",
    "# define constants and model parameters:\n",
    "J=1.\n",
    "W=1.\n",
    "Delta = 0.55\n",
    "gldn = (np.sqrt(5.) - 1.) * 0.5"
   ]
  },
  {
   "cell_type": "markdown",
   "metadata": {},
   "source": [
    "### Setting up the static_list\n",
    "\n",
    "To set up the hamiltonian, we need to provide the system size (L) and a ```static_list```,\n",
    "which is a list specifying all the terms contributing to the hamiltonian. The main idea is pretty\n",
    "simple - our hamiltonian defined above consists of four terms, each of which can be constructed by\n",
    "specifying the contributing operators and a list of sites on which the operators act together with\n",
    "the values of the scalar multiplicative constants. The following lines show the actual syntax used\n",
    "in our package."
   ]
  },
  {
   "cell_type": "code",
   "execution_count": 3,
   "metadata": {},
   "outputs": [],
   "source": [
    "# first, let us simulate the spin-flipping part, consisting of operators\n",
    "# S+ and S- acting on sites i and i+1, respectively. We first need to define\n",
    "# the site coupling list:\n",
    "J_pm = [[J * 0.5 , i, (i + 1)%L] for i in range(L)] # the %L part ensures PBC\n",
    "\n",
    "# the first entry in the nested list is always the value of the exchange constant\n",
    "# the following entries are integers specifying the sites on which the operators act.\n",
    "\n",
    "# then, specify the operators:\n",
    "flip_left = ['+-', J_pm]\n",
    "\n",
    "# the first entry is the operator specification string (opstring), the second one is the site coupling\n",
    "# list. len(list(opstring)) should match the number of sites in the site coupling list, otherwise the\n",
    "# could will raise an error.\n",
    "# The allowed operators in the spin case\n",
    "# are:\n",
    "# {'+': s+, '-': s-, 'I': id2, 'x': sx, 'y': sy, 'z': sz}\n",
    " \n",
    "# the specification of operators together with the site-coupling list J_pm completely\n",
    "# determines one single hamiltonian term. \n",
    "\n",
    "# Let's now define the other hamiltonian terms, namely the right-flipping term, the interaction\n",
    "# term and the disorder term.\n",
    "\n",
    "# right-flipping:\n",
    "flip_right = ['-+', J_pm] #couplings remain the same, only the operator order changes\n",
    "\n",
    "# interaction:\n",
    "J_zz = [[J*Delta, i, (i+1)%L] for i in range(L)]\n",
    "inter = ['zz', J_zz]\n",
    "\n",
    "#random field\n",
    "\n",
    "fields = np.array([W * np.cos(2*np.pi*gldn*i) for i in range(1, L+1)])\n",
    "J_z = [[fields[i], i] for i in range(L)]\n",
    "rnd = ['z', J_z]\n",
    "\n",
    "# we can now put together the static_list -> just a list of hamiltonian term\n",
    "# definitions\n",
    "\n",
    "static_list = [flip_left, flip_right, inter, rnd]"
   ]
  },
  {
   "cell_type": "markdown",
   "metadata": {},
   "source": [
    "### Instantiating the hamiltonian object\n",
    "\n",
    "Below, we create a hamiltomian object and specify how a particular block with \n",
    "a given projection of total spin along the z-axis can be chosen."
   ]
  },
  {
   "cell_type": "code",
   "execution_count": 4,
   "metadata": {},
   "outputs": [
    {
     "name": "stdout",
     "output_type": "stream",
     "text": [
      "Please wait, building the Hamiltonian ...\n",
      "Building the Hamiltonian finished!\n"
     ]
    }
   ],
   "source": [
    "# first, let us construct a hamiltonian for all the\n",
    "# spin projection blocks. We do this by selecting Nu=None.\n",
    "ham = sp1.hamiltonian(L, static_list, [], Nu=None)"
   ]
  },
  {
   "cell_type": "code",
   "execution_count": 5,
   "metadata": {},
   "outputs": [
    {
     "name": "stdout",
     "output_type": "stream",
     "text": [
      "4096\n"
     ]
    },
    {
     "data": {
      "text/plain": [
       "<matplotlib.image.AxesImage at 0x7f482af11ef0>"
      ]
     },
     "execution_count": 5,
     "metadata": {},
     "output_type": "execute_result"
    },
    {
     "data": {
      "image/png": "[encoded data removed]",
      "text/plain": [
       "<Figure size 432x288 with 1 Axes>"
      ]
     },
     "metadata": {
      "needs_background": "light"
     },
     "output_type": "display_data"
    }
   ],
   "source": [
    "# we can access the basis states and the number of states in the \n",
    "# hamiltonian using ham.states and ham.nstates attributes:\n",
    "states, nstates = ham.states, ham.nstates\n",
    "# we can make sure that all the states were actually considered:\n",
    "print(nstates)\n",
    "# display the hamiltonian matrix - accessing the matrix can be done\n",
    "# using the .mat attribute\n",
    "\n",
    "plt.imshow(np.real(ham.mat.todense()))\n"
   ]
  },
  {
   "cell_type": "code",
   "execution_count": 6,
   "metadata": {},
   "outputs": [
    {
     "name": "stdout",
     "output_type": "stream",
     "text": [
      "Please wait, building the Hamiltonian ...\n",
      "Building the Hamiltonian finished!\n",
      "924\n"
     ]
    },
    {
     "data": {
      "text/plain": [
       "<matplotlib.image.AxesImage at 0x7f482aed38d0>"
      ]
     },
     "execution_count": 6,
     "metadata": {},
     "output_type": "execute_result"
    },
    {
     "data": {
      "image/png": "[encoded data removed]",
      "text/plain": [
       "<Figure size 432x288 with 1 Axes>"
      ]
     },
     "metadata": {
      "needs_background": "light"
     },
     "output_type": "display_data"
    }
   ],
   "source": [
    "# now construct a hamiltonian in the Sz=0 total spin sector\n",
    "\n",
    "ham = sp1.hamiltonian(L, static_list, [], Nu=int(L/2.))\n",
    "print(ham.nstates)\n",
    "plt.imshow(np.real(ham.mat[:100,:100].todense()))"
   ]
  },
  {
   "cell_type": "markdown",
   "metadata": {},
   "source": [
    "### Diagonalizing the hamiltonian"
   ]
  },
  {
   "cell_type": "code",
   "execution_count": 7,
   "metadata": {},
   "outputs": [],
   "source": [
    "# obtaining only the eigvals:\n",
    "\n",
    "eigvals1 = ham.eigvals()\n",
    "# obtaining the eigenvectors as well\n",
    "eigvals2, eigvecs2 = ham.eigsystem()"
   ]
  },
  {
   "cell_type": "code",
   "execution_count": 8,
   "metadata": {},
   "outputs": [
    {
     "name": "stdout",
     "output_type": "stream",
     "text": [
      "First ten eigenvalues\n",
      "[-5.89381843 -5.74278916 -5.4664338  -5.19306317 -4.92232587 -4.83229415\n",
      " -4.80571153 -4.74965194 -4.69317547 -4.53743831]\n",
      "Spectral extrema:\n",
      "-5.8938184254666215 4.555779635299792\n"
     ]
    },
    {
     "data": {
      "image/png": "[encoded data removed]",
      "text/plain": [
       "<Figure size 432x288 with 1 Axes>"
      ]
     },
     "metadata": {
      "needs_background": "light"
     },
     "output_type": "display_data"
    }
   ],
   "source": [
    "# plotting the spectrum\n",
    "plt.plot(eigvals1)\n",
    "\n",
    "print('First ten eigenvalues')\n",
    "print(eigvals1[:10])\n",
    "print('Spectral extrema:')\n",
    "print(eigvals1[0], eigvals1[-1])"
   ]
  },
  {
   "cell_type": "markdown",
   "metadata": {},
   "source": [
    "## The fermionic case\n",
    "\n",
    "Let us now redo the calculation for the fermionic case. In this case, the allowed\n",
    "operator strings are:\n",
    "\n",
    "* ```['+', '-', 'I', 'n']```\n",
    "\n",
    "their meaning is:\n",
    "\n",
    "* ```{'+': c+, '-': c-, 'I': id2, 'n': cn}```"
   ]
  },
  {
   "cell_type": "code",
   "execution_count": 39,
   "metadata": {},
   "outputs": [],
   "source": [
    "# define the hamiltonian here.\n",
    "L=12\n",
    "\n",
    "J_pm = [[J * 0.5 , i, (i + 1)%L] for i in range(L)] # the %L part ensures PBC\n",
    "\n",
    "\n",
    "hop_left = ['+-', J_pm]\n",
    "\n",
    "# since we are now dealing with the fermions, we need to take care of the\n",
    "# normal ordering. The case right hopping is now a bit different than\n",
    "# in the spin case -> we leave the operator description string unchanged\n",
    "# and modify the  coupling list instead to properly account for the reversed\n",
    "# hopping direction.\n",
    "\n",
    "# right-flipping:\n",
    "J_mp = [[J * 0.5 , i, (i - 1)%L] for i in range(L)]\n",
    "hop_right = ['+-', J_mp] #couplings remain the same, only the operator order changes\n",
    "\n",
    "# interaction:\n",
    "J_nn = [[J*Delta, i, (i+1)%L] for i in range(L)]\n",
    "inter_fer = ['nn', J_nn]\n",
    "\n",
    "#random field\n",
    "\n",
    "fields = np.array([W * np.cos(2*np.pi*gldn*i) for i in range(1, L+1)])\n",
    "J_n = [[fields[i], i] for i in range(L)]\n",
    "rnd_fer = ['n', J_n]\n",
    "\n",
    "# we can now put together the static_list -> just a list of hamiltonian term\n",
    "# definitions\n",
    "\n",
    "static_fer_1 = [hop_left, hop_right, inter_fer, rnd_fer]"
   ]
  },
  {
   "cell_type": "code",
   "execution_count": 40,
   "metadata": {},
   "outputs": [
    {
     "name": "stdout",
     "output_type": "stream",
     "text": [
      "Please wait, building the Hamiltonian ...\n",
      "Building the Hamiltonian finished!\n"
     ]
    }
   ],
   "source": [
    "ham_fer_1 = fe1.hamiltonian(L, static_fer_1, Nu= int(L/2.))"
   ]
  },
  {
   "cell_type": "code",
   "execution_count": 41,
   "metadata": {},
   "outputs": [],
   "source": [
    "\n",
    "eigvals_fer_1 = ham_fer_1.eigvals()"
   ]
  },
  {
   "cell_type": "code",
   "execution_count": 42,
   "metadata": {},
   "outputs": [
    {
     "name": "stdout",
     "output_type": "stream",
     "text": [
      "First ten eigenvalues\n",
      "[-5.87955467 -5.76693489 -5.45855886 -5.19224725 -4.86766257 -4.85415088\n",
      " -4.83538082 -4.76572031 -4.67754415 -4.54223033]\n",
      "Spectral extrema:\n",
      "-5.879554667435218 4.535185943280719\n"
     ]
    }
   ],
   "source": [
    "print('First ten eigenvalues')\n",
    "print(eigvals_fer_1[:10])\n",
    "print('Spectral extrema:')\n",
    "print(eigvals_fer_1[0], eigvals_fer_1[-1])"
   ]
  },
  {
   "cell_type": "markdown",
   "metadata": {},
   "source": [
    "## Fermionic case with included second-nearest neighbour terms"
   ]
  },
  {
   "cell_type": "code",
   "execution_count": 43,
   "metadata": {},
   "outputs": [
    {
     "name": "stdout",
     "output_type": "stream",
     "text": [
      "Please wait, building the Hamiltonian ...\n",
      "Building the Hamiltonian finished!\n"
     ]
    }
   ],
   "source": [
    "# we now add the second nearest neighbour terms to the mix\n",
    "L=12\n",
    "J_pm_2 = [[J * 0.5 , i, (i + 2)%L] for i in range(L)] # the %L part ensures PBC\n",
    "\n",
    "\n",
    "hop_left_2 = ['+-', J_pm_2]\n",
    "\n",
    "J_mp_2 = [[J * 0.5 , i, (i - 2)%L] for i in range(L)]\n",
    "hop_right_2 = ['+-', J_mp_2] #couplings remain the same, only the operator order changes\n",
    "\n",
    "J_nn_2 = [[J*Delta, i, (i+2)%L] for i in range(L)]\n",
    "inter_fer_2 = ['nn', J_nn]\n",
    "static_fer_2 = static_fer_1 + [hop_left_2, hop_right_2, inter_fer_2]\n",
    "\n",
    "ham_fer_2 = fe1.hamiltonian(L, static_fer_2, Nu = int(L/2.))"
   ]
  },
  {
   "cell_type": "code",
   "execution_count": 44,
   "metadata": {},
   "outputs": [],
   "source": [
    "eigvals_fer_2 = ham_fer_2.eigvals()"
   ]
  },
  {
   "cell_type": "code",
   "execution_count": 45,
   "metadata": {},
   "outputs": [
    {
     "name": "stdout",
     "output_type": "stream",
     "text": [
      "First ten eigenvalues\n",
      "[-7.164116   -6.94311567 -6.759775   -6.46211964 -6.42938426 -6.40261063\n",
      " -6.16827363 -6.12010324 -5.97998765 -5.91946862]\n",
      "Spectral extrema:\n",
      "-7.164115999319101 5.590659660264921\n"
     ]
    },
    {
     "data": {
      "text/plain": [
       "<matplotlib.image.AxesImage at 0x7f482c5fd5c0>"
      ]
     },
     "execution_count": 45,
     "metadata": {},
     "output_type": "execute_result"
    },
    {
     "data": {
      "image/png": "[encoded data removed]",
      "text/plain": [
       "<Figure size 432x288 with 1 Axes>"
      ]
     },
     "metadata": {
      "needs_background": "light"
     },
     "output_type": "display_data"
    }
   ],
   "source": [
    "print('First ten eigenvalues')\n",
    "print(eigvals_fer_2[:10])\n",
    "print('Spectral extrema:')\n",
    "print(eigvals_fer_2[0], eigvals_fer_2[-1])\n",
    "\n",
    "plt.imshow(np.real(ham_fer_2.mat.todense()))"
   ]
  },
  {
   "cell_type": "markdown",
   "metadata": {},
   "source": [
    "## Noninteracting case, hopping, second-nearest hopping and quasirandom potential"
   ]
  },
  {
   "cell_type": "code",
   "execution_count": 18,
   "metadata": {},
   "outputs": [
    {
     "name": "stdout",
     "output_type": "stream",
     "text": [
      "Please wait, building the Hamiltonian ...\n",
      "Building the Hamiltonian finished!\n"
     ]
    }
   ],
   "source": [
    "L=3000\n",
    "J=1\n",
    "W=0.005\n",
    "fields_free = np.random.uniform(-W, W, size=L)\n",
    "J_pm = [[J * 0.5 , i, (i + 1)%L] for i in range(L)] # the %L part ensures PBC\n",
    "\n",
    "hop_left_free = ['+-', J_pm]\n",
    "\n",
    "J_mp = [[J * 0.5 , i, (i - 1)%L] for i in range(L)]\n",
    "hop_right_free = ['+-', J_mp] #couplings remain the same, only the operator order changes\n",
    "rnd_free = ['n', [[fields_free[i], i] for i in range(L)]]\n",
    "\n",
    "static_free_2 = [hop_right_free, hop_left_free, rnd_free]\n",
    "ham_free_2 = fr1.hamiltonian(L, static_free_2)"
   ]
  },
  {
   "cell_type": "code",
   "execution_count": 19,
   "metadata": {},
   "outputs": [
    {
     "data": {
      "text/plain": [
       "<matplotlib.image.AxesImage at 0x7fe8bd92e358>"
      ]
     },
     "execution_count": 19,
     "metadata": {},
     "output_type": "execute_result"
    },
    {
     "data": {
      "image/png": "[encoded data removed]",
      "text/plain": [
       "<Figure size 432x288 with 1 Axes>"
      ]
     },
     "metadata": {
      "needs_background": "light"
     },
     "output_type": "display_data"
    }
   ],
   "source": [
    "plt.imshow(np.real(ham_free_2.mat).todense()[:30,:30])"
   ]
  },
  {
   "cell_type": "code",
   "execution_count": 21,
   "metadata": {},
   "outputs": [],
   "source": [
    "eigvals_free = ham_free_2.eigvals()"
   ]
  },
  {
   "cell_type": "code",
   "execution_count": 6,
   "metadata": {},
   "outputs": [
    {
     "data": {
      "text/plain": [
       "array([1., 0., 0., 0., 0.])"
      ]
     },
     "execution_count": 6,
     "metadata": {},
     "output_type": "execute_result"
    }
   ],
   "source": [
    "import numpy as np; \n",
    "\n",
    "neki = np.zeros(5)\n",
    "neki[0] = 1\n",
    "neki"
   ]
  },
  {
   "cell_type": "code",
   "execution_count": 22,
   "metadata": {},
   "outputs": [
    {
     "data": {
      "text/plain": [
       "[<matplotlib.lines.Line2D at 0x7fe8bdb90240>]"
      ]
     },
     "execution_count": 22,
     "metadata": {},
     "output_type": "execute_result"
    },
    {
     "data": {
      "image/png": "[encoded data removed]",
      "text/plain": [
       "<Figure size 432x288 with 1 Axes>"
      ]
     },
     "metadata": {
      "needs_background": "light"
     },
     "output_type": "display_data"
    }
   ],
   "source": [
    "plt.plot(np.sort(eigvals_free))"
   ]
  }
 ],
 "metadata": {
  "kernelspec": {
   "display_name": "ipython_full (myenv)",
   "language": "python",
   "name": "ipython_full"
  },
  "language_info": {
   "codemirror_mode": {
    "name": "ipython",
    "version": 3
   },
   "file_extension": ".py",
   "mimetype": "text/x-python",
   "name": "python",
   "nbconvert_exporter": "python",
   "pygments_lexer": "ipython3",
   "version": "3.6.8"
  }
 },
 "nbformat": 4,
 "nbformat_minor": 2
}
