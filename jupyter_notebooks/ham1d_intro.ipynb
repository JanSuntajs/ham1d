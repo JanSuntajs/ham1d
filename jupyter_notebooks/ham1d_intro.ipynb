{
 "cells": [
  {
   "cell_type": "markdown",
   "metadata": {},
   "source": [
    "# Introduction to ham1d package\n",
    "\n",
    "## What is this notebook about?\n",
    "\n",
    "This Jupyter notebook serves as an introduction to the ham1d package. The package is intended\n",
    "for construction of 1-dimensional quantum Hamiltonians in either fermionic or hard-core bosonic\n",
    "(spin 1/2) case. In the following sections we show how to use the package's functionalities in the\n",
    "form of walk-through examples.\n",
    "\n",
    "## The intented usage\n",
    "\n",
    "Construction of 1D lattice hamiltonians for both the fermionic and hard-core bosonic as well as\n",
    "noninteracting case. The aim of this code is to provide functionality for rather simple and\n",
    "straightforward implementation of arbitrary (though physically relevant and, importantly, sparse)\n",
    "1D quantum hamiltonians.\n",
    "\n",
    "## What is currently implemented?\n",
    "\n",
    "The package currently implements three classes, which allow for construction of:\n",
    "\n",
    "* fermionic 1D Hamiltonians (defined in ```ham1d.models.ferm1d```)\n",
    "* hard-core bosonic 1D Hamiltonians (defined in ```ham1d.models.spin1d```)\n",
    "* noninteracting 1D case (defined in ```ham1d.models.free1d```)\n",
    "\n",
    "The above three casese are defined in the usual way, where a Hilbert space basis\n",
    "is first constructed and then the model Hamiltonian is obtained by Hamiltonian\n",
    "action on the basis states. To speed up the code just-in-time compilation (jit)\n",
    "tools from the ```numba``` library are used. Note that while the first two\n",
    "implementations could also handle the noninteracting case, the underlying array\n",
    "constructions are specifically tailored for the interacting case and its exponential\n",
    "scaling of the corresponding Hilbert space dimensions. To reach larger system sizes\n",
    "in the noninteracting case, one should thus make use of the code for the noninteracting\n",
    "systems.\n",
    "Additionaly, Hamiltonian construction\n",
    "using the Kronecker product of sparse matrices is also supported in the hard-core\n",
    "bosonic case:\n",
    "\n",
    "* hard-core bosonic 1D Hamiltonians using sparse Kronecker product (defined in ```ham1d.models.spin1d_kron```)\n",
    "\n",
    "## TO DO:\n",
    "\n",
    "* conduct proper testing\n",
    "* provide documentation using sphinx\n",
    "* provide functionalities for the time-dependent hamiltonians"
   ]
  },
  {
   "cell_type": "markdown",
   "metadata": {},
   "source": [
    "## Usage examples\n",
    "\n",
    "First, load the necessary modules. Currently, the ```ham1d``` package has the following\n",
    "subpackages:\n",
    "\n",
    "* ```basis``` (not yet implemented, only a placeholder for now)\n",
    "* ```models``` (the most relevant for the end user, this is where the typical Hamiltonian classes are defined)\n",
    "* ```operators``` (where the internal routines are implemented, should not be visible to the end user and could as well be designated as private in the future)"
   ]
  },
  {
   "cell_type": "code",
   "execution_count": 4,
   "metadata": {
    "ExecuteTime": {
     "end_time": "2021-04-06T09:46:37.428946Z",
     "start_time": "2021-04-06T09:46:34.428444Z"
    }
   },
   "outputs": [],
   "source": [
    "%matplotlib inline\n",
    "\"\"\"\n",
    "Each of the modules defined in ham1d.models defines a class\n",
    "for construction of a particular hamiltonian type. All of the\n",
    "classes share the same base class and thus their functionality\n",
    "is more or less the same, the difference is in the internal routines\n",
    "used.\n",
    "\"\"\"\n",
    "\n",
    "# to load classes utilizing numba's jit\n",
    "# compilation optimizations, load the following\n",
    "# modules. The following lines would load modules\n",
    "# with routines for creation of spin 1/2 (hard-core\n",
    "# bosonic), spinless fermionic and noninteracting\n",
    "# hamiltonians.\n",
    "from ham1d.models import spin1d as sp1\n",
    "from ham1d.models import ferm1d as fe1\n",
    "from ham1d.models import free1d as fr1\n",
    "\n",
    "# in case of the spin 1/2 hamiltonians,\n",
    "# one can also construct the model hamiltonians\n",
    "# using the kronecker product of sparse operators.\n",
    "# In general, this could be easily achieved for\n",
    "# any spin value, simply by providing an appropriate\n",
    "# set of spin operators. For now, only the spin 1/2\n",
    "# matrices are provided.\n",
    "from ham1d.models import spin1d_kron as spk\n",
    "\n",
    "import numpy as np\n",
    "import matplotlib.pyplot as plt"
   ]
  },
  {
   "cell_type": "markdown",
   "metadata": {},
   "source": [
    "### Construct a spin 1/2 hamiltonian and diagonalize it\n",
    "\n",
    "Below we will display some of the packages's key functionalities by constructing\n",
    "an isotropic XXZ spin 1/2 hamiltonian in the presence of quasirandom magnetic field\n",
    "and then obtaining its eigenvalues and eigenvectors. The interface presented below\n",
    "also applies to all the other cases defined above. Below is an excerpt from the\n",
    "packages's documentation:\n",
    "\n",
    "```python\n",
    "\"\"\"\n",
    "A hamiltonian class for some typical hamiltonian type <type>\n",
    "is instantiated as follows:\n",
    "\n",
    "hamiltonian = <type>(L, static_list, dynamic_list=[], t=0, Nu=None)\n",
    "\n",
    "Note that the examples below correspond to the spin 1/2 case but the\n",
    "syntax in all other cases is very much the same.\n",
    "\n",
    "Parameters\n",
    "----------\n",
    "\n",
    "L: int\n",
    "    An integer specifying the spin chain length.\n",
    "\n",
    "static_list: list\n",
    "    A nested list of the operator description strings\n",
    "    and site-coupling lists for the time-independent\n",
    "    part of the Hamiltonian. An example of the\n",
    "    static_ham list would be:\n",
    "\n",
    "        static_ham = [['zz', J_zz]]\n",
    "\n",
    "    Here, 'zz' is the operator descriptor string specifiying\n",
    "    2-spin interaction along the z-axis direction. For a chain-\n",
    "    of L sites with constant nearest-neighbour exchange\n",
    "    J and PBC, the site coupling list would be given by:\n",
    "\n",
    "        J_zz = [[J, i, (i+1)%L] for i in range(L)]\n",
    "\n",
    "    In the upper expression, J is the term describing\n",
    "    the interaction strength and the following entries\n",
    "    in the inner list specify the positions of the coupled\n",
    "    sites. The upper example should serve as a general\n",
    "    template which should allow for simple extension to\n",
    "    the case of n-spin interaction and varying couplings.\n",
    "\n",
    "dynamic_list: list\n",
    "    A nested list of the operator description strings. The\n",
    "    description is similar to the static_ham description,\n",
    "    however, additional terms are needed to incorporate\n",
    "    the time dependence: an example would be:\n",
    "\n",
    "        dynamic_ham = [['zz', J_zz, time_fun, time_fun_args]]\n",
    "\n",
    "    Here, 'zz' is the same operator descriptor string as the\n",
    "    one in the static case. J_zz, however, now refers to\n",
    "    the initial (dynamic) site coupling list at t=0. time_fun\n",
    "    is a function object describing a protocol for\n",
    "    time-dependent part of the hamiltonian with the following\n",
    "    interface: time_fun(t, *time_fun_args) where time_fun_args\n",
    "    are the possible additional arguments of the time-dependence.\n",
    "    NOTE THAT THIS FUNCTIONALITY HAS NOT YET BEEN IMPLEMENTED,\n",
    "    THEREFORE PROVIDING THE DYNAMIC_LIST PARAMETER CURRENTLY\n",
    "    HAS NO PARTICULAR EFFECT!\n",
    "\n",
    "Nu: {int, None}\n",
    "    Number of up spins (or number of particles),\n",
    "    relevant for the hamiltonians where the\n",
    "    total spin z projection is a conserved quantity. Defaults to\n",
    "    None in which case all the sectors for various total spin\n",
    "    projections are considered. In order to examine a particular\n",
    "    sector or sectors, one could either provide a single integer\n",
    "    or a list of integer values.\n",
    "\n",
    "\"\"\"\n",
    "```\n",
    "\n",
    "The Hamiltonian itself has the following structure: \n",
    "\n",
    "$$\n",
    "H = J\\sum_{i} \\left[\\frac{1}{2}\\left(S^+_iS_{i+1}^- + S^-_iS_{i+1}^+\\right) + \\Delta S_i^z S_{i+1}^z\\right] + \\sum_i h_i S_i^z,\n",
    "$$\n",
    "where $h_i$ is the (quasi)random disorder at a site $i$, defined as follows:\n",
    "$$\n",
    "h_i = W\\cos(2\\pi\\alpha i), \\hspace{4mm} \\alpha = \\frac{1}{2}\\left(\\sqrt{5} - 1\\right).\n",
    "$$\n",
    "Here, $W$ is the disorder strength parameter. Below, we set $J=W=1$ and $\\Delta = 0.55$.\n",
    "We assume the validity of periodic boundary conditions (PBC).\n"
   ]
  },
  {
   "cell_type": "markdown",
   "metadata": {},
   "source": [
    "### Defining the model constants"
   ]
  },
  {
   "cell_type": "code",
   "execution_count": 36,
   "metadata": {
    "ExecuteTime": {
     "end_time": "2021-04-06T09:56:18.395855Z",
     "start_time": "2021-04-06T09:56:18.385633Z"
    }
   },
   "outputs": [],
   "source": [
    "#first, define the chain length. We choose a rather small system here:\n",
    "L=8\n",
    "# define constants and model parameters:\n",
    "J=(1. + 0.01j)\n",
    "W=3\n",
    "Delta = 0.5\n",
    "gldn = (np.sqrt(5.) - 1.) * 0.5"
   ]
  },
  {
   "cell_type": "markdown",
   "metadata": {},
   "source": [
    "### Setting up the static_list\n",
    "\n",
    "To set up the hamiltonian, we need to provide the system size (L) and a ```static_list```,\n",
    "which is a list specifying all the terms contributing to the hamiltonian. The main idea is pretty\n",
    "simple - our hamiltonian defined above consists of four terms, each of which can be constructed by\n",
    "specifying the contributing operators and a list of sites on which the operators act together with\n",
    "the values of the scalar multiplicative constants. The following lines show the actual syntax used\n",
    "in our package."
   ]
  },
  {
   "cell_type": "code",
   "execution_count": 37,
   "metadata": {
    "ExecuteTime": {
     "end_time": "2021-04-06T09:56:37.295766Z",
     "start_time": "2021-04-06T09:56:37.276035Z"
    }
   },
   "outputs": [],
   "source": [
    "# first, let us simulate the spin-flipping part, consisting of operators\n",
    "# S+ and S- acting on sites i and i+1, respectively. We first need to define\n",
    "# the site coupling list:\n",
    "J_pm = [[J * 0.5 , i, (i + 1)%L] for i in range(L)] # the %L part ensures PBC\n",
    "\n",
    "# the first entry in the nested list is always the value of the exchange constant\n",
    "# the following entries are integers specifying the sites on which the operators act.\n",
    "\n",
    "# then, specify the operators:\n",
    "flip_left = ['+-', J_pm]\n",
    "\n",
    "# the first entry is the operator specification string (opstring), the second one is the site coupling\n",
    "# list. len(list(opstring)) should match the number of sites in the site coupling list, otherwise the\n",
    "# could will raise an error.\n",
    "# The allowed operators in the spin case\n",
    "# are:\n",
    "# {'+': s+, '-': s-, 'I': id2, 'x': sx, 'y': sy, 'z': sz}\n",
    " \n",
    "# the specification of operators together with the site-coupling list J_pm completely\n",
    "# determines one single hamiltonian term. \n",
    "\n",
    "# Let's now define the other hamiltonian terms, namely the right-flipping term, the interaction\n",
    "# term and the disorder term.\n",
    "\n",
    "# right-flipping:\n",
    "flip_right = ['-+', np.conj(J_pm)] #couplings remain the same, only the operator order changes\n",
    "\n",
    "# interaction:\n",
    "J_zz = [[np.real(J)*Delta, i, (i+1)%L] for i in range(L)]\n",
    "inter = ['zz', J_zz]\n",
    "\n",
    "#random field\n",
    "\n",
    "fields = np.array([W * np.cos(2*np.pi*gldn*i) for i in range(1, L+1)])\n",
    "J_z = [[fields[i], i] for i in range(L)]\n",
    "rnd = ['z', J_z]\n",
    "\n",
    "# we can now put together the static_list -> just a list of hamiltonian term\n",
    "# definitions\n",
    "\n",
    "static_list = [flip_left, flip_right, inter, rnd]"
   ]
  },
  {
   "cell_type": "code",
   "execution_count": 39,
   "metadata": {
    "ExecuteTime": {
     "end_time": "2021-04-06T09:56:57.826991Z",
     "start_time": "2021-04-06T09:56:57.811968Z"
    }
   },
   "outputs": [
    {
     "name": "stdout",
     "output_type": "stream",
     "text": [
      "['+-', [[(0.5+0.005j), 0, 1], [(0.5+0.005j), 1, 2], [(0.5+0.005j), 2, 3], [(0.5+0.005j), 3, 4], [(0.5+0.005j), 4, 5], [(0.5+0.005j), 5, 6], [(0.5+0.005j), 6, 7], [(0.5+0.005j), 7, 0]]]\n",
      "['-+', array([[0.5-0.005j, 0. -0.j   , 1. -0.j   ],\n",
      "       [0.5-0.005j, 1. -0.j   , 2. -0.j   ],\n",
      "       [0.5-0.005j, 2. -0.j   , 3. -0.j   ],\n",
      "       [0.5-0.005j, 3. -0.j   , 4. -0.j   ],\n",
      "       [0.5-0.005j, 4. -0.j   , 5. -0.j   ],\n",
      "       [0.5-0.005j, 5. -0.j   , 6. -0.j   ],\n",
      "       [0.5-0.005j, 6. -0.j   , 7. -0.j   ],\n",
      "       [0.5-0.005j, 7. -0.j   , 0. -0.j   ]])]\n"
     ]
    }
   ],
   "source": [
    "print(flip_left)\n",
    "print(flip_right)"
   ]
  },
  {
   "cell_type": "markdown",
   "metadata": {},
   "source": [
    "### Instantiating the hamiltonian object\n",
    "\n",
    "Below, we create a hamiltomian object and specify how a particular block with \n",
    "a given projection of total spin along the z-axis can be chosen."
   ]
  },
  {
   "cell_type": "code",
   "execution_count": 40,
   "metadata": {
    "ExecuteTime": {
     "end_time": "2021-04-06T09:57:06.763422Z",
     "start_time": "2021-04-06T09:57:06.737140Z"
    }
   },
   "outputs": [
    {
     "name": "stdout",
     "output_type": "stream",
     "text": [
      "Preparing mpi parameters!\n",
      "Preparing mpi parameters finished!\n",
      "Please wait, building the Hamiltonian ...\n",
      "Building the Hamiltonian finished!\n",
      "Calculating nnz, o_nnz, d_nnz!\n",
      "Calculating nnz, o_nnz, d_nnz finished!\n"
     ]
    },
    {
     "name": "stderr",
     "output_type": "stream",
     "text": [
      "/home/jan/anaconda3/envs/petscenv/lib/python3.7/site-packages/ham1d/models/_base_ham_cls.py:624: ComplexWarning: Casting complex values to real discards the imaginary part\n",
      "  sites = np.uint32(coupsites[:, 1:])\n"
     ]
    }
   ],
   "source": [
    "import os\n",
    "\n",
    "#os.environ['NUMBA_DISABLE_JIT'] = \"1\"\n",
    "# first, let us construct a hamiltonian for all the\n",
    "# spin projection blocks. We do this by selecting Nu=None.\n",
    "ham = sp1.hamiltonian(L, static_list, [], Nu=None,parallel=True, mpisize=1, mpirank=0)\n"
   ]
  },
  {
   "cell_type": "code",
   "execution_count": 41,
   "metadata": {
    "ExecuteTime": {
     "end_time": "2021-04-06T09:57:09.318426Z",
     "start_time": "2021-04-06T09:57:09.305856Z"
    }
   },
   "outputs": [
    {
     "name": "stdout",
     "output_type": "stream",
     "text": [
      "256\n"
     ]
    }
   ],
   "source": [
    "# we can access the basis states and the number of states in the \n",
    "# hamiltonian using ham.states and ham.nstates attributes:\n",
    "states, nstates = ham.states, ham.nstates\n",
    "# we can make sure that all the states were actually considered:\n",
    "print(nstates)\n",
    "# display the hamiltonian matrix - accessing the matrix can be done\n",
    "# using the .mat attribute\n",
    "\n",
    "#plt.imshow(np.real(ham.mat.todense()))\n"
   ]
  },
  {
   "cell_type": "code",
   "execution_count": 42,
   "metadata": {
    "ExecuteTime": {
     "end_time": "2021-04-06T09:57:17.129096Z",
     "start_time": "2021-04-06T09:57:16.910616Z"
    }
   },
   "outputs": [
    {
     "name": "stdout",
     "output_type": "stream",
     "text": [
      "Please wait, building the Hamiltonian ...\n",
      "Building the Hamiltonian finished!\n",
      "Calculating nnz, o_nnz, d_nnz!\n",
      "Calculating nnz, o_nnz, d_nnz finished!\n",
      "70\n",
      "[69 68 64 54 34 67 63 53 33 60 50 30 44 24 14 66 62 52 32 59 49 29 43 23\n",
      " 13 57 47 27 41 21 11 38 18  8  4 65 61 51 31 58 48 28 42 22 12 56 46 26\n",
      " 40 20 10 37 17  7  3 55 45 25 39 19  9 36 16  6  2 35 15  5  1  0]\n"
     ]
    },
    {
     "data": {
      "image/png": "[encoded data removed]",
      "text/plain": [
       "<Figure size 432x288 with 1 Axes>"
      ]
     },
     "metadata": {
      "needs_background": "light"
     },
     "output_type": "display_data"
    }
   ],
   "source": [
    "# now construct a hamiltonian in the Sz=0 total spin sector\n",
    "\n",
    "ham = sp1.hamiltonian(L, static_list, [], Nu=int(L/2.))\n",
    "print(ham.nstates)\n",
    "plt.imshow(np.imag(ham.mat.todense()))\n",
    "\n",
    "parity_ = ham.parity_shuffle()\n",
    "part_hole = ham.particle_hole_shuffle()\n",
    "print(parity_)"
   ]
  },
  {
   "cell_type": "code",
   "execution_count": 43,
   "metadata": {
    "ExecuteTime": {
     "end_time": "2021-04-06T09:57:20.897819Z",
     "start_time": "2021-04-06T09:57:20.685947Z"
    }
   },
   "outputs": [
    {
     "data": {
      "text/plain": [
       "<matplotlib.image.AxesImage at 0x7fba96f9c510>"
      ]
     },
     "execution_count": 43,
     "metadata": {},
     "output_type": "execute_result"
    },
    {
     "data": {
      "image/png": "[encoded data removed]",
      "text/plain": [
       "<Figure size 432x288 with 1 Axes>"
      ]
     },
     "metadata": {
      "needs_background": "light"
     },
     "output_type": "display_data"
    }
   ],
   "source": [
    "plt.imshow(np.real(ham.mat.todense()))"
   ]
  },
  {
   "cell_type": "markdown",
   "metadata": {},
   "source": [
    "### Diagonalizing the hamiltonian"
   ]
  },
  {
   "cell_type": "code",
   "execution_count": 7,
   "metadata": {
    "ExecuteTime": {
     "end_time": "2020-06-03T10:16:41.547418Z",
     "start_time": "2020-06-03T10:16:41.430632Z"
    }
   },
   "outputs": [],
   "source": [
    "# obtaining only the eigvals:\n",
    "\n",
    "eigvals1 = ham.eigvals()\n",
    "# obtaining the eigenvectors as well\n",
    "eigvals2, eigvecs2 = ham.eigsystem()"
   ]
  },
  {
   "cell_type": "code",
   "execution_count": 13,
   "metadata": {
    "ExecuteTime": {
     "end_time": "2020-06-03T10:20:42.829126Z",
     "start_time": "2020-06-03T10:20:42.697454Z"
    }
   },
   "outputs": [
    {
     "name": "stdout",
     "output_type": "stream",
     "text": [
      "(-1+0j)\n",
      "(1+0j)\n",
      "(-1.0000000000000004+0j)\n",
      "(-0.999244183471546+0j)\n",
      "(0.9992441834715462+0j)\n",
      "(-0.9929496212552082+0j)\n",
      "(0.9929496212552075+0j)\n",
      "(-0.9152310837622999+0j)\n",
      "(0.9152310837622977+0j)\n",
      "(0.9998175605591395+0j)\n",
      "(-0.9998175605591393+0j)\n",
      "(-0.9907547988082025+0j)\n",
      "(0.9907547988082025+0j)\n",
      "(-1.0000000000000007+0j)\n",
      "(-0.9895995889602984+0j)\n",
      "(0.9895995889602981+0j)\n",
      "(-0.9531765664774987+0j)\n",
      "(0.9531765664774982+0j)\n",
      "(1.0000000000000004+0j)\n",
      "(-0.4756399106723212+0j)\n",
      "(0.4756399106723208+0j)\n",
      "(0.9853557818237008+0j)\n",
      "(-0.9853557818237031+0j)\n",
      "(0.9402058769932984+0j)\n",
      "(-0.9402058769932962+0j)\n",
      "(-1.0000000000000009+0j)\n",
      "(-0.9998126018291127+0j)\n",
      "(0.9998126018291129+0j)\n",
      "(-0.6271635809326441+0j)\n",
      "(0.6271635809326439+0j)\n",
      "(-0.863837397643951+0j)\n",
      "(0.8638373976439547+0j)\n",
      "(0.9966818992715476+0j)\n",
      "(-0.9966818992715474+0j)\n",
      "(0.9632780620890575+0j)\n",
      "(-0.9632780620890571+0j)\n",
      "(0.9998490100270312+0j)\n",
      "(-0.9998490100270313+0j)\n",
      "(-0.0780814571913857+0j)\n",
      "(0.07808145719138554+0j)\n",
      "(0.9971454845113552+0j)\n",
      "(-0.9971454845113558+0j)\n",
      "(1+0j)\n",
      "(0.8294233668067461+0j)\n",
      "(-0.9995806771129496+0j)\n",
      "(-0.4663373835913691+0j)\n",
      "(0.6364946938975728+0j)\n",
      "(-0.9999999999999994+0j)\n",
      "(-0.0012314780784682161+0j)\n",
      "(0.999513773831282+0j)\n",
      "(-0.3927132024496329+0j)\n",
      "(-0.6055690933031824+0j)\n",
      "(-0.9957846257000319+0j)\n",
      "(0.9957846257000317+0j)\n",
      "(0.3736880667247092+0j)\n",
      "(-0.37368806672470906+0j)\n",
      "(-0.9973525416792541+0j)\n",
      "(0.9973525416792539+0j)\n",
      "(-0.836179105448137+0j)\n",
      "(0.8361791054481365+0j)\n",
      "(0.0895617627162096+0j)\n",
      "(-0.08956176271621366+0j)\n",
      "(0.8516800193512486+0j)\n",
      "(-0.8516800193512483+0j)\n",
      "(0.9282310216974621+0j)\n",
      "(-0.9282310216974629+0j)\n",
      "(-1+0j)\n",
      "(0.9994369984057849+0j)\n",
      "(-0.9994369984057832+0j)\n",
      "(0.999744140153078+0j)\n",
      "(-0.9997441401530781+0j)\n",
      "(-0.9994476315649541+0j)\n",
      "(0.9994476315649534+0j)\n",
      "(0.9999999999999998+0j)\n",
      "(0.9976469694792831+0j)\n",
      "(-0.997646969479284+0j)\n",
      "(0.9999993216228092+0j)\n",
      "(-0.9999993216228088+0j)\n",
      "(-0.19165084634511032+0j)\n",
      "(0.19165084634510984+0j)\n",
      "(-0.9583184642863861+0j)\n",
      "(0.9583184642863872+0j)\n",
      "(0.7172116529781547+0j)\n",
      "(-0.9818627437681987+0j)\n",
      "(0.9991836275670185+0j)\n",
      "(-0.7345325367769739+0j)\n",
      "(0.09504180721283104+0j)\n",
      "(-0.09504180721283123+0j)\n",
      "(-0.999303311993569+0j)\n",
      "(-0.8594004832017687+0j)\n",
      "(0.938426636289483+0j)\n",
      "(0.920277158905854+0j)\n",
      "(0.9996409164760687+0j)\n",
      "(-0.9996409164760691+0j)\n",
      "(-0.9999685137493621+0j)\n",
      "(0.9999685137493627+0j)\n",
      "(-0.8787901667068305+0j)\n",
      "(0.8787901667068296+0j)\n",
      "(-0.999008313700411+0j)\n",
      "(0.9990083137004113+0j)\n",
      "(-0.9965505224868616+0j)\n",
      "(0.9965505224868614+0j)\n",
      "(-0.3082433337792122+0j)\n",
      "(0.30824333377920077+0j)\n",
      "(-1.0000000000000004+0j)\n",
      "(0.6265818966996552+0j)\n",
      "(-0.9821067653626094+0j)\n",
      "(-0.238039554994483+0j)\n",
      "(0.5935644236574029+0j)\n",
      "(-0.8448444074014578+0j)\n",
      "(0.8448444074014585+0j)\n",
      "(0.9349307306338172+0j)\n",
      "(-0.9349307306338182+0j)\n",
      "(-0.9507568449352973+0j)\n",
      "(-0.1437767483375851+0j)\n",
      "(0.09527454690997283+0j)\n",
      "(0.9992590463629089+0j)\n",
      "(1.0000000000000002+0j)\n",
      "(0.3878695485100975+0j)\n",
      "(-0.38786954851009786+0j)\n",
      "(0.9851173340928718+0j)\n",
      "(-0.9851173340928738+0j)\n",
      "(-0.9999999999999996+0j)\n",
      "(0.5225394736042248+0j)\n",
      "(-0.5225394736042239+0j)\n",
      "(0.9998429187644802+0j)\n",
      "(-0.999842918764478+0j)\n",
      "(0.9601530873469164+0j)\n",
      "(-0.9059586719814466+0j)\n",
      "(0.42733521658192564+0j)\n",
      "(-0.48152963194738524+0j)\n",
      "(-0.9913616103781517+0j)\n",
      "(0.9913616103781515+0j)\n",
      "(-0.618496111430375+0j)\n",
      "(0.3696414250620942+0j)\n",
      "(0.9792234074833341+0j)\n",
      "(-0.7303687211150522+0j)\n",
      "(-0.9971741445498794+0j)\n",
      "(0.9971741445498777+0j)\n",
      "(0.8049146530056845+0j)\n",
      "(-0.8049146530056848+0j)\n",
      "(0.9995711127646881+0j)\n",
      "(-0.9995711127646882+0j)\n",
      "(0.9834249214178197+0j)\n",
      "(-0.9834249214178203+0j)\n",
      "(0.2114524127740911+0j)\n",
      "(-0.21145241277409102+0j)\n",
      "(-0.756346944496169+0j)\n",
      "(0.12622512374346292+0j)\n",
      "(0.9678997016257469+0j)\n",
      "(-0.8159633615655061+0j)\n",
      "(0.6822377963510602+0j)\n",
      "(-0.20405231565858972+0j)\n",
      "(-0.09416669182019807+0j)\n",
      "(0.09416669182019799+0j)\n",
      "(0.2726906259641906+0j)\n",
      "(-0.2726906259641908+0j)\n",
      "(-0.9999014684085399+0j)\n",
      "(0.9999014684085397+0j)\n",
      "(0.44853568061693316+0j)\n",
      "(-0.4673961408924842+0j)\n",
      "(-0.9480592637310631+0j)\n",
      "(0.9669197240066167+0j)\n",
      "(0.9992538951341283+0j)\n",
      "(-0.9569826855634771+0j)\n",
      "(0.9571120898182514+0j)\n",
      "(-0.999383299388902+0j)\n",
      "(0.9994178690810246+0j)\n",
      "(-0.999417869081024+0j)\n",
      "(0.9940694237040404+0j)\n",
      "(-0.9940694237040395+0j)\n",
      "(0.9998865439237421+0j)\n",
      "(-0.9998865439237425+0j)\n",
      "(0.9920419859403038+0j)\n",
      "(-0.9920419859403034+0j)\n",
      "(-0.9984620268295019+0j)\n",
      "(0.9984620268295022+0j)\n",
      "(-0.3392060118408468+0j)\n",
      "(0.3392060118408464+0j)\n",
      "(0.8410000781875544+0j)\n",
      "(-0.8410000781875544+0j)\n",
      "(0.9953215937584579+0j)\n",
      "(-0.9953215937584593+0j)\n",
      "(0.99857007395548+0j)\n",
      "(-0.9985700739554804+0j)\n",
      "(-0.7553728776780717+0j)\n",
      "(0.7903582277005934+0j)\n",
      "(-0.9634212642215607+0j)\n",
      "(0.9284359141990377+0j)\n",
      "(-0.9069807797101855+0j)\n",
      "(0.7372450772126065+0j)\n",
      "(0.9771905460198815+0j)\n",
      "(-0.8074548435223017+0j)\n",
      "(1.0000000000000002+0j)\n",
      "(-0.9999958160620785+0j)\n",
      "(0.9999958160620781+0j)\n",
      "(0.5622917409781241+0j)\n",
      "(0.9007605666667649+0j)\n",
      "(-0.5924121564079541+0j)\n",
      "(-0.8706401512369186+0j)\n",
      "(-1.0000000000000002+0j)\n",
      "(0.954276047531242+0j)\n",
      "(-0.9542760475312424+0j)\n",
      "(0.9946492621666447+0j)\n",
      "(-0.9946492621666445+0j)\n",
      "(0.9956412900181155+0j)\n",
      "(-0.995641290018116+0j)\n",
      "(-0.3325142004550771+0j)\n",
      "(0.3325142004550775+0j)\n",
      "(0.46371039333899305+0j)\n",
      "(-0.828647327813612+0j)\n",
      "(0.8309197742466805+0j)\n",
      "(-0.4659828397720679+0j)\n",
      "(-0.804717495349504+0j)\n",
      "(0.8047174953495168+0j)\n",
      "(1.0000000000000009+0j)\n",
      "(-0.9575997078998455+0j)\n",
      "(0.992701730015292+0j)\n",
      "(0.46413032581372227+0j)\n",
      "(-0.4992323479291681+0j)\n",
      "(0.9817120960577703+0j)\n",
      "(-0.9562813967098587+0j)\n",
      "(-0.7068335774962354+0j)\n",
      "(0.6814028781483243+0j)\n",
      "(0.9686963074278402+0j)\n",
      "(-0.9686963074278403+0j)\n",
      "(-0.999790179061026+0j)\n",
      "(0.9997901790610253+0j)\n",
      "(-0.9999986311819734+0j)\n",
      "(0.9999986311819713+0j)\n",
      "(0.9992174412805582+0j)\n",
      "(-0.9992174412805583+0j)\n",
      "(0.9996527546937478+0j)\n",
      "(-0.9996527546937478+0j)\n",
      "(-0.5735215959409861+0j)\n",
      "(0.9619016666622867+0j)\n",
      "(-0.9296714271178748+0j)\n",
      "(0.5412913563965778+0j)\n",
      "(0.09540780435347354+0j)\n",
      "(-0.668085774780281+0j)\n",
      "(0.46732445736197537+0j)\n",
      "(0.10535351306483212+0j)\n",
      "(-0.973807976233972+0j)\n",
      "(0.9738079762339719+0j)\n",
      "(0.9999999999999998+0j)\n",
      "(-0.9999146971008+0j)\n",
      "(0.9999146971007997+0j)\n",
      "(-0.9965304454648086+0j)\n",
      "(0.9965304454648092+0j)\n",
      "(0.9999695286423527+0j)\n",
      "(-0.9999695286423531+0j)\n",
      "(1.0000000000000004+0j)\n"
     ]
    }
   ],
   "source": [
    "for i in range(ham.nstates):\n",
    "    print(np.dot(eigvecs2[:,i], eigvecs2[:, i][part_hole]))"
   ]
  },
  {
   "cell_type": "code",
   "execution_count": 9,
   "metadata": {},
   "outputs": [
    {
     "name": "stdout",
     "output_type": "stream",
     "text": [
      "First ten eigenvalues\n",
      "[-5.89381843 -5.74278916 -5.4664338  -5.19306317 -4.92232587 -4.83229415\n",
      " -4.80571153 -4.74965194 -4.69317547 -4.53743831]\n",
      "Spectral extrema:\n",
      "-5.8938184254666215 4.555779635299792\n"
     ]
    },
    {
     "data": {
      "image/png": "[encoded data removed]",
      "text/plain": [
       "<Figure size 432x288 with 1 Axes>"
      ]
     },
     "metadata": {
      "needs_background": "light"
     },
     "output_type": "display_data"
    }
   ],
   "source": [
    "# plotting the spectrum\n",
    "plt.plot(eigvals1)\n",
    "\n",
    "print('First ten eigenvalues')\n",
    "print(eigvals1[:10])\n",
    "print('Spectral extrema:')\n",
    "print(eigvals1[0], eigvals1[-1])"
   ]
  },
  {
   "cell_type": "markdown",
   "metadata": {},
   "source": [
    "## The fermionic case\n",
    "\n",
    "Let us now redo the calculation for the fermionic case. In this case, the allowed\n",
    "operator strings are:\n",
    "\n",
    "* ```['+', '-', 'I', 'n']```\n",
    "\n",
    "their meaning is:\n",
    "\n",
    "* ```{'+': c+, '-': c-, 'I': id2, 'n': cn}```"
   ]
  },
  {
   "cell_type": "code",
   "execution_count": 39,
   "metadata": {},
   "outputs": [],
   "source": [
    "# define the hamiltonian here.\n",
    "L=12\n",
    "\n",
    "J_pm = [[J * 0.5 , i, (i + 1)%L] for i in range(L)] # the %L part ensures PBC\n",
    "\n",
    "\n",
    "hop_left = ['+-', J_pm]\n",
    "\n",
    "# since we are now dealing with the fermions, we need to take care of the\n",
    "# normal ordering. The case right hopping is now a bit different than\n",
    "# in the spin case -> we leave the operator description string unchanged\n",
    "# and modify the  coupling list instead to properly account for the reversed\n",
    "# hopping direction.\n",
    "\n",
    "# right-flipping:\n",
    "J_mp = [[J * 0.5 , i, (i - 1)%L] for i in range(L)]\n",
    "hop_right = ['+-', J_mp] #couplings remain the same, only the operator order changes\n",
    "\n",
    "# interaction:\n",
    "J_nn = [[J*Delta, i, (i+1)%L] for i in range(L)]\n",
    "inter_fer = ['nn', J_nn]\n",
    "\n",
    "#random field\n",
    "\n",
    "fields = np.array([W * np.cos(2*np.pi*gldn*i) for i in range(1, L+1)])\n",
    "J_n = [[fields[i], i] for i in range(L)]\n",
    "rnd_fer = ['n', J_n]\n",
    "\n",
    "# we can now put together the static_list -> just a list of hamiltonian term\n",
    "# definitions\n",
    "\n",
    "static_fer_1 = [hop_left, hop_right, inter_fer, rnd_fer]"
   ]
  },
  {
   "cell_type": "code",
   "execution_count": 40,
   "metadata": {},
   "outputs": [
    {
     "name": "stdout",
     "output_type": "stream",
     "text": [
      "Please wait, building the Hamiltonian ...\n",
      "Building the Hamiltonian finished!\n"
     ]
    }
   ],
   "source": [
    "ham_fer_1 = fe1.hamiltonian(L, static_fer_1, Nu= int(L/2.))"
   ]
  },
  {
   "cell_type": "code",
   "execution_count": 41,
   "metadata": {},
   "outputs": [],
   "source": [
    "\n",
    "eigvals_fer_1 = ham_fer_1.eigvals()"
   ]
  },
  {
   "cell_type": "code",
   "execution_count": 42,
   "metadata": {},
   "outputs": [
    {
     "name": "stdout",
     "output_type": "stream",
     "text": [
      "First ten eigenvalues\n",
      "[-5.87955467 -5.76693489 -5.45855886 -5.19224725 -4.86766257 -4.85415088\n",
      " -4.83538082 -4.76572031 -4.67754415 -4.54223033]\n",
      "Spectral extrema:\n",
      "-5.879554667435218 4.535185943280719\n"
     ]
    }
   ],
   "source": [
    "print('First ten eigenvalues')\n",
    "print(eigvals_fer_1[:10])\n",
    "print('Spectral extrema:')\n",
    "print(eigvals_fer_1[0], eigvals_fer_1[-1])"
   ]
  },
  {
   "cell_type": "markdown",
   "metadata": {},
   "source": [
    "## Fermionic case with included second-nearest neighbour terms"
   ]
  },
  {
   "cell_type": "code",
   "execution_count": 6,
   "metadata": {
    "ExecuteTime": {
     "end_time": "2020-06-03T09:59:50.196603Z",
     "start_time": "2020-06-03T09:59:49.972173Z"
    }
   },
   "outputs": [
    {
     "ename": "NameError",
     "evalue": "name 'J_nn' is not defined",
     "output_type": "error",
     "traceback": [
      "\u001b[0;31m---------------------------------------------------------------------------\u001b[0m",
      "\u001b[0;31mNameError\u001b[0m                                 Traceback (most recent call last)",
      "\u001b[0;32m<ipython-input-6-c635dc95d252>\u001b[0m in \u001b[0;36m<module>\u001b[0;34m\u001b[0m\n\u001b[1;32m     10\u001b[0m \u001b[0;34m\u001b[0m\u001b[0m\n\u001b[1;32m     11\u001b[0m \u001b[0mJ_nn_2\u001b[0m \u001b[0;34m=\u001b[0m \u001b[0;34m[\u001b[0m\u001b[0;34m[\u001b[0m\u001b[0mJ\u001b[0m\u001b[0;34m*\u001b[0m\u001b[0mDelta\u001b[0m\u001b[0;34m,\u001b[0m \u001b[0mi\u001b[0m\u001b[0;34m,\u001b[0m \u001b[0;34m(\u001b[0m\u001b[0mi\u001b[0m\u001b[0;34m+\u001b[0m\u001b[0;36m2\u001b[0m\u001b[0;34m)\u001b[0m\u001b[0;34m%\u001b[0m\u001b[0mL\u001b[0m\u001b[0;34m]\u001b[0m \u001b[0;32mfor\u001b[0m \u001b[0mi\u001b[0m \u001b[0;32min\u001b[0m \u001b[0mrange\u001b[0m\u001b[0;34m(\u001b[0m\u001b[0mL\u001b[0m\u001b[0;34m)\u001b[0m\u001b[0;34m]\u001b[0m\u001b[0;34m\u001b[0m\u001b[0;34m\u001b[0m\u001b[0m\n\u001b[0;32m---> 12\u001b[0;31m \u001b[0minter_fer_2\u001b[0m \u001b[0;34m=\u001b[0m \u001b[0;34m[\u001b[0m\u001b[0;34m'nn'\u001b[0m\u001b[0;34m,\u001b[0m \u001b[0mJ_nn\u001b[0m\u001b[0;34m]\u001b[0m\u001b[0;34m\u001b[0m\u001b[0;34m\u001b[0m\u001b[0m\n\u001b[0m\u001b[1;32m     13\u001b[0m \u001b[0mstatic_fer_2\u001b[0m \u001b[0;34m=\u001b[0m \u001b[0mstatic_fer_1\u001b[0m \u001b[0;34m+\u001b[0m \u001b[0;34m[\u001b[0m\u001b[0mhop_left_2\u001b[0m\u001b[0;34m,\u001b[0m \u001b[0mhop_right_2\u001b[0m\u001b[0;34m,\u001b[0m \u001b[0minter_fer_2\u001b[0m\u001b[0;34m]\u001b[0m\u001b[0;34m\u001b[0m\u001b[0;34m\u001b[0m\u001b[0m\n\u001b[1;32m     14\u001b[0m \u001b[0;34m\u001b[0m\u001b[0m\n",
      "\u001b[0;31mNameError\u001b[0m: name 'J_nn' is not defined"
     ]
    }
   ],
   "source": [
    "# we now add the second nearest neighbour terms to the mix\n",
    "L=12\n",
    "J_pm_2 = [[J * 0.5 , i, (i + 2)%L] for i in range(L)] # the %L part ensures PBC\n",
    "\n",
    "\n",
    "hop_left_2 = ['+-', J_pm_2]\n",
    "\n",
    "J_mp_2 = [[J * 0.5 , i, (i - 2)%L] for i in range(L)]\n",
    "hop_right_2 = ['+-', J_mp_2] #couplings remain the same, only the operator order changes\n",
    "\n",
    "J_nn_2 = [[J*Delta, i, (i+2)%L] for i in range(L)]\n",
    "inter_fer_2 = ['nn', J_nn]\n",
    "static_fer_2 = static_fer_1 + [hop_left_2, hop_right_2, inter_fer_2]\n",
    "\n",
    "ham_fer_2 = fe1.hamiltonian(L, static_fer_2, Nu = int(L/2.))\n",
    "\n",
    "parity_ = ham_fer_2.parity_shuffle"
   ]
  },
  {
   "cell_type": "code",
   "execution_count": 44,
   "metadata": {},
   "outputs": [],
   "source": [
    "eigvals_fer_2 = ham_fer_2.eigvals()"
   ]
  },
  {
   "cell_type": "code",
   "execution_count": 45,
   "metadata": {},
   "outputs": [
    {
     "name": "stdout",
     "output_type": "stream",
     "text": [
      "First ten eigenvalues\n",
      "[-7.164116   -6.94311567 -6.759775   -6.46211964 -6.42938426 -6.40261063\n",
      " -6.16827363 -6.12010324 -5.97998765 -5.91946862]\n",
      "Spectral extrema:\n",
      "-7.164115999319101 5.590659660264921\n"
     ]
    },
    {
     "data": {
      "text/plain": [
       "<matplotlib.image.AxesImage at 0x7f482c5fd5c0>"
      ]
     },
     "execution_count": 45,
     "metadata": {},
     "output_type": "execute_result"
    },
    {
     "data": {
      "image/png": "[encoded data removed]",
      "text/plain": [
       "<Figure size 432x288 with 1 Axes>"
      ]
     },
     "metadata": {
      "needs_background": "light"
     },
     "output_type": "display_data"
    }
   ],
   "source": [
    "print('First ten eigenvalues')\n",
    "print(eigvals_fer_2[:10])\n",
    "print('Spectral extrema:')\n",
    "print(eigvals_fer_2[0], eigvals_fer_2[-1])\n",
    "\n",
    "plt.imshow(np.real(ham_fer_2.mat.todense()))"
   ]
  },
  {
   "cell_type": "markdown",
   "metadata": {},
   "source": [
    "## Noninteracting case, hopping, second-nearest hopping and quasirandom potential"
   ]
  },
  {
   "cell_type": "code",
   "execution_count": 1,
   "metadata": {},
   "outputs": [
    {
     "ename": "NameError",
     "evalue": "name 'np' is not defined",
     "output_type": "error",
     "traceback": [
      "\u001b[0;31m---------------------------------------------------------------------------\u001b[0m",
      "\u001b[0;31mNameError\u001b[0m                                 Traceback (most recent call last)",
      "\u001b[0;32m<ipython-input-1-d5f9553bad18>\u001b[0m in \u001b[0;36m<module>\u001b[0;34m\u001b[0m\n\u001b[1;32m      2\u001b[0m \u001b[0mJ\u001b[0m\u001b[0;34m=\u001b[0m\u001b[0;36m1\u001b[0m\u001b[0;34m\u001b[0m\u001b[0;34m\u001b[0m\u001b[0m\n\u001b[1;32m      3\u001b[0m \u001b[0mW\u001b[0m\u001b[0;34m=\u001b[0m\u001b[0;36m0.005\u001b[0m\u001b[0;34m\u001b[0m\u001b[0;34m\u001b[0m\u001b[0m\n\u001b[0;32m----> 4\u001b[0;31m \u001b[0mJ_rnd\u001b[0m \u001b[0;34m=\u001b[0m \u001b[0mnp\u001b[0m\u001b[0;34m.\u001b[0m\u001b[0mrandom\u001b[0m\u001b[0;34m.\u001b[0m\u001b[0muniform\u001b[0m\u001b[0;34m(\u001b[0m\u001b[0mJ\u001b[0m\u001b[0;34m*\u001b[0m\u001b[0;36m0.001\u001b[0m\u001b[0;34m,\u001b[0m \u001b[0mJ\u001b[0m\u001b[0;34m,\u001b[0m \u001b[0msize\u001b[0m\u001b[0;34m=\u001b[0m\u001b[0mL\u001b[0m\u001b[0;34m)\u001b[0m\u001b[0;34m\u001b[0m\u001b[0;34m\u001b[0m\u001b[0m\n\u001b[0m\u001b[1;32m      5\u001b[0m \u001b[0mfields_free\u001b[0m \u001b[0;34m=\u001b[0m \u001b[0mnp\u001b[0m\u001b[0;34m.\u001b[0m\u001b[0mrandom\u001b[0m\u001b[0;34m.\u001b[0m\u001b[0muniform\u001b[0m\u001b[0;34m(\u001b[0m\u001b[0;34m-\u001b[0m\u001b[0mW\u001b[0m\u001b[0;34m,\u001b[0m \u001b[0mW\u001b[0m\u001b[0;34m,\u001b[0m \u001b[0msize\u001b[0m\u001b[0;34m=\u001b[0m\u001b[0mL\u001b[0m\u001b[0;34m)\u001b[0m\u001b[0;34m\u001b[0m\u001b[0;34m\u001b[0m\u001b[0m\n\u001b[1;32m      6\u001b[0m \u001b[0mJ_pm\u001b[0m \u001b[0;34m=\u001b[0m \u001b[0;34m[\u001b[0m\u001b[0;34m[\u001b[0m\u001b[0mJ\u001b[0m \u001b[0;34m*\u001b[0m \u001b[0;36m0.5\u001b[0m \u001b[0;34m,\u001b[0m \u001b[0mi\u001b[0m\u001b[0;34m,\u001b[0m \u001b[0;34m(\u001b[0m\u001b[0mi\u001b[0m \u001b[0;34m+\u001b[0m \u001b[0;36m1\u001b[0m\u001b[0;34m)\u001b[0m\u001b[0;34m%\u001b[0m\u001b[0mL\u001b[0m\u001b[0;34m]\u001b[0m \u001b[0;32mfor\u001b[0m \u001b[0mi\u001b[0m \u001b[0;32min\u001b[0m \u001b[0mrange\u001b[0m\u001b[0;34m(\u001b[0m\u001b[0mL\u001b[0m\u001b[0;34m)\u001b[0m\u001b[0;34m]\u001b[0m \u001b[0;31m# the %L part ensures PBC\u001b[0m\u001b[0;34m\u001b[0m\u001b[0;34m\u001b[0m\u001b[0m\n",
      "\u001b[0;31mNameError\u001b[0m: name 'np' is not defined"
     ]
    }
   ],
   "source": [
    "L=12\n",
    "J=1\n",
    "W=0.005\n",
    "J_rnd = np.random.uniform(J*0.001, J, size=L)\n",
    "fields_free = np.random.uniform(-W, W, size=L)\n",
    "J_pm = [[J * 0.5 , i, (i + 1)%L] for i in range(L)] # the %L part ensures PBC\n",
    "\n",
    "hop_left_free = ['+-', J_pm]\n",
    "\n",
    "J_mp = [[J * 0.5 , i, (i - 1)%L] for i in range(L)]\n",
    "hop_right_free = ['+-', J_mp] #couplings remain the same, only the operator order changes\n",
    "#rnd_free = ['n', [[fields_free[i], i] for i in range(L)]]\n",
    "diag = ['n', [[1., i] for i in range(L)]]\n",
    "static_free_2 = [hop_right_free, hop_left_free]\n",
    "ham_free_2 = fr1.hamiltonian(L, static_free_2)"
   ]
  },
  {
   "cell_type": "code",
   "execution_count": 47,
   "metadata": {},
   "outputs": [
    {
     "data": {
      "text/plain": [
       "<matplotlib.image.AxesImage at 0x7fe8b94dc8d0>"
      ]
     },
     "execution_count": 47,
     "metadata": {},
     "output_type": "execute_result"
    },
    {
     "data": {
      "image/png": "[encoded data removed]",
      "text/plain": [
       "<Figure size 432x288 with 1 Axes>"
      ]
     },
     "metadata": {
      "needs_background": "light"
     },
     "output_type": "display_data"
    }
   ],
   "source": [
    "plt.imshow(np.real(ham_free_2.mat).todense())"
   ]
  },
  {
   "cell_type": "code",
   "execution_count": 48,
   "metadata": {},
   "outputs": [],
   "source": [
    "eigvals_free = ham_free_2.eigvals()"
   ]
  },
  {
   "cell_type": "code",
   "execution_count": 67,
   "metadata": {
    "ExecuteTime": {
     "end_time": "2021-04-06T10:48:28.203948Z",
     "start_time": "2021-04-06T10:48:28.168552Z"
    }
   },
   "outputs": [
    {
     "name": "stdout",
     "output_type": "stream",
     "text": [
      "[1.        +0.j         1.        +0.j         1.        +0.j\n",
      " 1.        +0.j         1.        +0.j         0.99500417+0.09983342j]\n",
      "Please wait, building the Hamiltonian ...\n",
      "Building the Hamiltonian finished!\n",
      "Calculating nnz, o_nnz, d_nnz!\n",
      "Calculating nnz, o_nnz, d_nnz finished!\n"
     ]
    }
   ],
   "source": [
    "import numpy as np\n",
    "from ham1d.models.spin1d import hamiltonian as sphm\n",
    "from ham1d.models.ferm1d import hamiltonian as fehm\n",
    "\n",
    "argsdict = {'L': 6,\n",
    "            'nu': 3,\n",
    "            'pbc': True,\n",
    "            'ham_type': 'spin1d',\n",
    "            'J_mod': 1.0,\n",
    "            'J_phase': 0.0,\n",
    "            'phase_bc': 0.1,\n",
    "            'delta': 1.0,\n",
    "            'dW': 5,}\n",
    "\n",
    "\n",
    "def construct_hamiltonian(argsdict, parallel=False, mpirank=0, mpisize=0):\n",
    "    \"\"\"\n",
    "    Constructs the Heisenberg's XXZ model Hamiltonian with\n",
    "    nearest and next-nearest interaction and exchange terms.\n",
    "\n",
    "    Parameters:\n",
    "    -----------\n",
    "\n",
    "    argsdict: dict\n",
    "        A dictionary containing the information needed to construct\n",
    "        the Hamiltonian. Should have the following keys:\n",
    "        'L': int, system size\n",
    "        'nu': int, number of up spins\n",
    "        'pbc': bool, True for periodic boundary conditions, False\n",
    "               for open boundary conditions\n",
    "        'disorder': str, specifies the disordered potential used.\n",
    "        'ham_type': str, which Hamiltonian type is used ('spin1d'\n",
    "                    for spin Hamiltonians, 'ferm1d' for fermionic\n",
    "                    ones and 'free1d' for free models).\n",
    "        'J_mod', 'J_phase', 'bc_mod', 'bc_phase',\n",
    "         'delta', 'W', 'dW': float\n",
    "            Model parameters for the Heisenberg model: modulus\n",
    "            and phase of the complex hopping, phase of the complex\n",
    "            boundary conditions factor,\n",
    "            nearest neighbour\n",
    "            anisotropy parameter, center of\n",
    "            the disorder distribution and width of the disorder\n",
    "            distribution, respectively.\n",
    "\n",
    "    parallel: boolean, optional\n",
    "        Whether the Hamiltonian is to be constructed in parallel\n",
    "        or not. Defaults to False.\n",
    "\n",
    "    mpirank: int, optional\n",
    "        In case when parallel==True (e.g. when mpi\n",
    "        parallel construction is used), specifies the mpi process\n",
    "        used to construct the parallel block of the Hamiltonian.\n",
    "        Defaults to 0.\n",
    "\n",
    "    mpisize: int, optional\n",
    "        In case mpi parallelism is used, specifies the size of\n",
    "        the mpi pool. Defaults to 0 which corresponds to the\n",
    "        sequential case.\n",
    "\n",
    "    Returns:\n",
    "    --------\n",
    "\n",
    "    hamiltonian:\n",
    "        An instance of the hamiltonian class from the\n",
    "        ham1d package\n",
    "\n",
    "    dict:\n",
    "        A dictionary containing the potential disorder\n",
    "        under the key 'Hamiltonian_random_disorder'.\n",
    "\n",
    "    \"\"\"\n",
    "\n",
    "    L = argsdict['L']\n",
    "    nu = argsdict['nu']\n",
    "\n",
    "    pbc = argsdict['pbc']\n",
    "    #disorder = argsdict['disorder']\n",
    "    ham_type = argsdict['ham_type']\n",
    "\n",
    "    J_mod = argsdict['J_mod']\n",
    "    J_phase = argsdict['J_phase']\n",
    "\n",
    "    # phase for the boundary conditions hop\n",
    "    bc_phase = argsdict['phase_bc']\n",
    "    # rescale the phase so that equal complex\n",
    "    # prefactor is obtained with each hopping\n",
    "    J_phase_ = 1.0 * J_phase / L\n",
    "\n",
    "    if pbc:\n",
    "        range_1 = range_2 = range(L)\n",
    "        coup1p = [[i, (i + 1) % L] for i in range_1]\n",
    "        coup1m = [[i, (i - 1) % L] for i in range_1]\n",
    "\n",
    "    else:\n",
    "        range_1 = range(L - 1)\n",
    "        range_2 = range(1, L)\n",
    "\n",
    "        coup1p = [[i, (i + 1)] for i in range_1]\n",
    "        coup1m = [[i, (i - 1)] for i in range_2]\n",
    "\n",
    "    pbc_1 = np.ones_like(range_1, dtype=np.complex128)\n",
    "    pbc_2 = np.ones_like(range_2, dtype=np.complex128)\n",
    "\n",
    "    couplings_1 = 0.5 * J_mod * np.exp(1j * J_phase_)\n",
    "    couplings_2 = couplings_1\n",
    "\n",
    "    if ham_type == 'ferm1d':\n",
    "\n",
    "        ham = fehm\n",
    "\n",
    "        if pbc:\n",
    "            # ferm1d and spind1 cases are different\n",
    "            # here\n",
    "            pbc_1[-1] = np.exp(1j * bc_phase)\n",
    "            pbc_2[0] = np.exp(1j * bc_phase)\n",
    "\n",
    "        couplings_1 *= pbc_1\n",
    "        couplings_2 *= pbc_2\n",
    "        couplings_2 = np.conj(couplings_2)\n",
    "\n",
    "        hops = [\n",
    "            ['+-', [[couplings_1, *coup] for coup\n",
    "                    in coup1p]],\n",
    "            ['+-', [[couplings_2, *coup] for i, coup\n",
    "                    in coup1m]],\n",
    "        ]\n",
    "        num_op = 'n'\n",
    "\n",
    "    elif ham_type == 'spin1d':\n",
    "\n",
    "        ham = sphm\n",
    "\n",
    "        if pbc:\n",
    "\n",
    "            pbc_1[-1] = np.exp(1j * bc_phase)\n",
    "            print(pbc_1)\n",
    "\n",
    "        couplings_1 *= pbc_1\n",
    "        couplings_2 *= pbc_1\n",
    "        couplings_2 = np.conj(couplings_2)\n",
    "\n",
    "        hops = [['+-', [[couplings_1[i], *coup] for i, coup\n",
    "                        in enumerate(coup1p)]],\n",
    "                ['-+', [[couplings_2[i], *coup] for i, coup\n",
    "                        in enumerate(coup1p)]], ]\n",
    "\n",
    "        num_op = 'z'\n",
    "\n",
    "    inter = [[num_op + num_op, [[J_mod * argsdict['delta'],\n",
    "                                 *coup]\n",
    "                                for i, coup in enumerate(coup1p)]]]\n",
    "\n",
    "    fields = np.random.uniform(-0.5*argsdict['dW'], 0.5*argsdict['dW'], size=L)\n",
    "            #get_disorder_dist(L, disorder, argsdict['W'],\n",
    "             #                  argsdict['dW'], argsdict['seed'])\n",
    "\n",
    "    rnd = [num_op, [[field, i] for i, field in enumerate(fields)]]\n",
    "\n",
    "    static_list = [*hops, *inter, rnd]\n",
    "\n",
    "    hamiltonian = ham(L, static_list, [], Nu=int(nu), parallel=parallel,\n",
    "                      mpirank=mpirank, mpisize=mpisize)\n",
    "\n",
    "    return hamiltonian, {'Hamiltonian_random_disorder': fields}\n",
    "\n",
    "ham_test, fields = construct_hamiltonian(argsdict)"
   ]
  },
  {
   "cell_type": "code",
   "execution_count": 68,
   "metadata": {
    "ExecuteTime": {
     "end_time": "2021-04-06T10:48:31.644586Z",
     "start_time": "2021-04-06T10:48:31.427628Z"
    }
   },
   "outputs": [
    {
     "data": {
      "text/plain": [
       "<matplotlib.image.AxesImage at 0x7fba95e926d0>"
      ]
     },
     "execution_count": 68,
     "metadata": {},
     "output_type": "execute_result"
    },
    {
     "data": {
      "image/png": "[encoded data removed]",
      "text/plain": [
       "<Figure size 432x288 with 1 Axes>"
      ]
     },
     "metadata": {
      "needs_background": "light"
     },
     "output_type": "display_data"
    }
   ],
   "source": [
    "plt.imshow(np.real(ham_test.mat.todense()))"
   ]
  },
  {
   "cell_type": "code",
   "execution_count": 69,
   "metadata": {
    "ExecuteTime": {
     "end_time": "2021-04-06T10:48:33.729830Z",
     "start_time": "2021-04-06T10:48:33.503384Z"
    }
   },
   "outputs": [
    {
     "data": {
      "text/plain": [
       "<matplotlib.image.AxesImage at 0x7fba95e1dd10>"
      ]
     },
     "execution_count": 69,
     "metadata": {},
     "output_type": "execute_result"
    },
    {
     "data": {
      "image/png": "[encoded data removed]",
      "text/plain": [
       "<Figure size 432x288 with 1 Axes>"
      ]
     },
     "metadata": {
      "needs_background": "light"
     },
     "output_type": "display_data"
    }
   ],
   "source": [
    "plt.imshow(np.imag(ham_test.mat.todense()))"
   ]
  },
  {
   "cell_type": "code",
   "execution_count": 65,
   "metadata": {
    "ExecuteTime": {
     "end_time": "2021-04-06T10:46:44.721892Z",
     "start_time": "2021-04-06T10:46:44.711348Z"
    }
   },
   "outputs": [
    {
     "data": {
      "text/plain": [
       "(0.9999500004166653+0.009999833334166664j)"
      ]
     },
     "execution_count": 65,
     "metadata": {},
     "output_type": "execute_result"
    }
   ],
   "source": [
    "np.exp(1j*0.01)"
   ]
  },
  {
   "cell_type": "code",
   "execution_count": null,
   "metadata": {},
   "outputs": [],
   "source": []
  }
 ],
 "metadata": {
  "kernelspec": {
   "display_name": "Python [conda env:petscenv] *",
   "language": "python",
   "name": "conda-env-petscenv-py"
  },
  "language_info": {
   "codemirror_mode": {
    "name": "ipython",
    "version": 3
   },
   "file_extension": ".py",
   "mimetype": "text/x-python",
   "name": "python",
   "nbconvert_exporter": "python",
   "pygments_lexer": "ipython3",
   "version": "3.7.4"
  },
  "latex_envs": {
   "LaTeX_envs_menu_present": true,
   "autoclose": false,
   "autocomplete": true,
   "bibliofile": "biblio.bib",
   "cite_by": "apalike",
   "current_citInitial": 1,
   "eqLabelWithNumbers": true,
   "eqNumInitial": 1,
   "hotkeys": {
    "equation": "Ctrl-E",
    "itemize": "Ctrl-I"
   },
   "labels_anchors": false,
   "latex_user_defs": false,
   "report_style_numbering": false,
   "user_envs_cfg": false
  },
  "toc": {
   "base_numbering": 1,
   "nav_menu": {},
   "number_sections": true,
   "sideBar": true,
   "skip_h1_title": false,
   "title_cell": "Table of Contents",
   "title_sidebar": "Contents",
   "toc_cell": false,
   "toc_position": {},
   "toc_section_display": true,
   "toc_window_display": false
  },
  "varInspector": {
   "cols": {
    "lenName": 16,
    "lenType": 16,
    "lenVar": 40
   },
   "kernels_config": {
    "python": {
     "delete_cmd_postfix": "",
     "delete_cmd_prefix": "del ",
     "library": "var_list.py",
     "varRefreshCmd": "print(var_dic_list())"
    },
    "r": {
     "delete_cmd_postfix": ") ",
     "delete_cmd_prefix": "rm(",
     "library": "var_list.r",
     "varRefreshCmd": "cat(var_dic_list()) "
    }
   },
   "types_to_exclude": [
    "module",
    "function",
    "builtin_function_or_method",
    "instance",
    "_Feature"
   ],
   "window_display": false
  }
 },
 "nbformat": 4,
 "nbformat_minor": 2
}
