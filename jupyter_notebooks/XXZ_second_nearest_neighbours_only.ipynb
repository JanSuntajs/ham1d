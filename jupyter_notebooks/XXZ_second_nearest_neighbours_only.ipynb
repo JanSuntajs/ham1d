{
 "cells": [
  {
   "cell_type": "code",
   "execution_count": 20,
   "metadata": {
    "ExecuteTime": {
     "end_time": "2020-06-10T09:33:59.715068Z",
     "start_time": "2020-06-10T09:33:59.646543Z"
    }
   },
   "outputs": [],
   "source": [
    "%matplotlib notebook\n",
    "\n",
    "import numpy as np\n",
    "\n",
    "%matplotlib inline\n",
    "\n",
    "\n",
    "# to load classes utilizing numba's jit\n",
    "# compilation optimizations, load the following\n",
    "# modules. The following lines would load modules\n",
    "# with routines for creation of spin 1/2 (hard-core\n",
    "# bosonic) hamiltonians\n",
    "from ham1d.models import spin1d as sp1\n",
    "\n",
    "import numpy as np\n",
    "import matplotlib.pyplot as plt\n",
    "\n",
    "from matplotlib import rc\n",
    "rc('font',**{'family':'sans-serif','sans-serif':['Helvetica']})\n",
    "\n",
    "rc('text', usetex=True)\n",
    "\n",
    "#first, define the chain length. We choose a rather small system here:\n",
    "L=12\n",
    "# define constants and model parameters:\n",
    "J=1.\n",
    "\n",
    "\n"
   ]
  },
  {
   "cell_type": "markdown",
   "metadata": {},
   "source": [
    "## Defining the Hamiltonian and instantiating it"
   ]
  },
  {
   "cell_type": "code",
   "execution_count": 38,
   "metadata": {
    "ExecuteTime": {
     "end_time": "2020-06-10T09:42:15.290612Z",
     "start_time": "2020-06-10T09:42:06.954361Z"
    }
   },
   "outputs": [
    {
     "name": "stdout",
     "output_type": "stream",
     "text": [
      "Please wait, building the Hamiltonian ...\n",
      "Building the Hamiltonian finished!\n",
      "Calculating nnz, o_nnz, d_nnz!\n",
      "Calculating nnz, o_nnz, d_nnz finished!\n",
      "Number of degeneracies: 863.\n",
      "Number of unique values: 489.\n",
      "Please wait, building the Hamiltonian ...\n",
      "Building the Hamiltonian finished!\n",
      "Calculating nnz, o_nnz, d_nnz!\n",
      "Calculating nnz, o_nnz, d_nnz finished!\n",
      "Number of degeneracies: 918.\n",
      "Number of unique values: 49.\n",
      "Please wait, building the Hamiltonian ...\n",
      "Building the Hamiltonian finished!\n",
      "Calculating nnz, o_nnz, d_nnz!\n",
      "Calculating nnz, o_nnz, d_nnz finished!\n",
      "Number of degeneracies: 887.\n",
      "Number of unique values: 374.\n",
      "Please wait, building the Hamiltonian ...\n",
      "Building the Hamiltonian finished!\n",
      "Calculating nnz, o_nnz, d_nnz!\n",
      "Calculating nnz, o_nnz, d_nnz finished!\n",
      "Number of degeneracies: 874.\n",
      "Number of unique values: 455.\n",
      "Please wait, building the Hamiltonian ...\n",
      "Building the Hamiltonian finished!\n",
      "Calculating nnz, o_nnz, d_nnz!\n",
      "Calculating nnz, o_nnz, d_nnz finished!\n",
      "Number of degeneracies: 863.\n",
      "Number of unique values: 489.\n",
      "Please wait, building the Hamiltonian ...\n",
      "Building the Hamiltonian finished!\n",
      "Calculating nnz, o_nnz, d_nnz!\n",
      "Calculating nnz, o_nnz, d_nnz finished!\n",
      "Number of degeneracies: 863.\n",
      "Number of unique values: 489.\n",
      "Please wait, building the Hamiltonian ...\n",
      "Building the Hamiltonian finished!\n",
      "Calculating nnz, o_nnz, d_nnz!\n",
      "Calculating nnz, o_nnz, d_nnz finished!\n",
      "Number of degeneracies: 887.\n",
      "Number of unique values: 374.\n",
      "Please wait, building the Hamiltonian ...\n",
      "Building the Hamiltonian finished!\n",
      "Calculating nnz, o_nnz, d_nnz!\n",
      "Calculating nnz, o_nnz, d_nnz finished!\n",
      "Number of degeneracies: 918.\n",
      "Number of unique values: 49.\n"
     ]
    },
    {
     "data": {
      "image/png": "[encoded data removed]",
      "text/plain": [
       "<Figure size 432x288 with 1 Axes>"
      ]
     },
     "metadata": {
      "needs_background": "light"
     },
     "output_type": "display_data"
    }
   ],
   "source": [
    "deglist = []\n",
    "deltalist = []\n",
    "for l_ in range(1,3):\n",
    "    for m_ in range(1,5):\n",
    "        J_pm = [[J * 0.5 , i, (i + 1)%L] for i in range(L)] # the %L part ensures PBC\n",
    "\n",
    "        # the first entry in the nested list is always the value of the exchange constant\n",
    "        # the following entries are integers specifying the sites on which the operators act.\n",
    "\n",
    "        # then, specify the operators:\n",
    "        flip_left = ['+-', J_pm]\n",
    "\n",
    "        flip_right = ['-+', J_pm] #couplings remain the same, only the operator order changes\n",
    "\n",
    "        # interaction:\n",
    "        J_zz = [[J*np.cos(np.pi*l_/m_), i, (i+1)%L] for i in range(L)]\n",
    "        inter = ['zz', J_zz]\n",
    "\n",
    "        # we can now put together the static_list -> just a list of hamiltonian term\n",
    "        # definitions\n",
    "\n",
    "        static_list = [flip_left, flip_right, inter]\n",
    "\n",
    "        ham = sp1.hamiltonian(L, static_list, [], Nu=int(L/2.))\n",
    "\n",
    "        # obtain both symmetry operators -> for the parity and particle-hole symmetry\n",
    "        parity_ = ham.parity_shuffle()\n",
    "        part_hole_ = ham.particle_hole_shuffle()\n",
    "        # get the eigensystem\n",
    "        eigvals, eigvecs = ham.eigsystem()\n",
    "\n",
    "        # count the degeneracies\n",
    "        u, c = np.unique(np.around(eigvals, decimals=12), return_counts=True)\n",
    "        # sum all the values with multiplicities greater than 1\n",
    "        degs = np.sum(c[c > 1])\n",
    "        # number of unique values\n",
    "        n_unique = len(u)\n",
    "\n",
    "        print(f'Number of degeneracies: {degs}.')\n",
    "        print(f'Number of unique values: {n_unique}.')\n",
    "\n",
    "        multiplicities=[]\n",
    "\n",
    "        for c_ in c:\n",
    "            multiplicities += [c_ for i in range(c_)]\n",
    "\n",
    "        multiplicities = np.array(multiplicities)\n",
    "\n",
    "        deglist.append(degs)\n",
    "        deltalist.append(np.cos(np.pi*l_/m_))\n",
    "\n",
    "fig = plt.figure()\n",
    "\n",
    "plt.plot(deltalist, deglist, 'o')\n",
    "plt.xlim(0,1)\n",
    "\n",
    "plt.show()"
   ]
  },
  {
   "cell_type": "markdown",
   "metadata": {},
   "source": [
    "### Instantiating the Hamiltonian"
   ]
  },
  {
   "cell_type": "code",
   "execution_count": 22,
   "metadata": {
    "ExecuteTime": {
     "end_time": "2020-06-10T09:34:00.593813Z",
     "start_time": "2020-06-10T09:33:59.827214Z"
    }
   },
   "outputs": [
    {
     "name": "stdout",
     "output_type": "stream",
     "text": [
      "Please wait, building the Hamiltonian ...\n",
      "Building the Hamiltonian finished!\n",
      "Calculating nnz, o_nnz, d_nnz!\n",
      "Calculating nnz, o_nnz, d_nnz finished!\n"
     ]
    }
   ],
   "source": [
    "ham = sp1.hamiltonian(L, static_list, [], Nu=int(L/2.))\n",
    "\n",
    "# obtain both symmetry operators -> for the parity and particle-hole symmetry\n",
    "parity_ = ham.parity_shuffle()\n",
    "part_hole_ = ham.particle_hole_shuffle()\n",
    "# get the eigensystem\n",
    "eigvals, eigvecs = ham.eigsystem()"
   ]
  },
  {
   "cell_type": "markdown",
   "metadata": {},
   "source": [
    "### Count the degeneracies"
   ]
  },
  {
   "cell_type": "code",
   "execution_count": 26,
   "metadata": {
    "ExecuteTime": {
     "end_time": "2020-06-10T09:34:19.963441Z",
     "start_time": "2020-06-10T09:34:19.918903Z"
    }
   },
   "outputs": [
    {
     "name": "stdout",
     "output_type": "stream",
     "text": [
      "Number of degeneracies: 24.\n",
      "Number of unique values: 912.\n"
     ]
    }
   ],
   "source": [
    "# count the degeneracies\n",
    "u, c = np.unique(np.around(eigvals, decimals=12), return_counts=True)\n",
    "# sum all the values with multiplicities greater than 1\n",
    "degs = np.sum(c[c > 1])\n",
    "# number of unique values\n",
    "n_unique = len(u)\n",
    "\n",
    "print(f'Number of degeneracies: {degs}.')\n",
    "print(f'Number of unique values: {n_unique}.')\n",
    "\n",
    "multiplicities=[]\n",
    "\n",
    "for c_ in c:\n",
    "    multiplicities += [c_ for i in range(c_)]\n",
    "\n",
    "multiplicities = np.array(multiplicities)\n",
    "# get nondegenerate states"
   ]
  },
  {
   "cell_type": "code",
   "execution_count": null,
   "metadata": {},
   "outputs": [],
   "source": []
  },
  {
   "cell_type": "code",
   "execution_count": 28,
   "metadata": {
    "ExecuteTime": {
     "end_time": "2020-06-10T09:37:37.644027Z",
     "start_time": "2020-06-10T09:37:37.622625Z"
    }
   },
   "outputs": [
    {
     "data": {
      "text/plain": [
       "array([1, 2, 3, 4])"
      ]
     },
     "execution_count": 28,
     "metadata": {},
     "output_type": "execute_result"
    }
   ],
   "source": [
    "np.arange(1,5,1)"
   ]
  },
  {
   "cell_type": "code",
   "execution_count": null,
   "metadata": {},
   "outputs": [],
   "source": []
  }
 ],
 "metadata": {
  "kernelspec": {
   "display_name": "Python [conda env:petscenv] *",
   "language": "python",
   "name": "conda-env-petscenv-py"
  },
  "language_info": {
   "codemirror_mode": {
    "name": "ipython",
    "version": 3
   },
   "file_extension": ".py",
   "mimetype": "text/x-python",
   "name": "python",
   "nbconvert_exporter": "python",
   "pygments_lexer": "ipython3",
   "version": "3.7.4"
  },
  "latex_envs": {
   "LaTeX_envs_menu_present": true,
   "autoclose": false,
   "autocomplete": true,
   "bibliofile": "biblio.bib",
   "cite_by": "apalike",
   "current_citInitial": 1,
   "eqLabelWithNumbers": true,
   "eqNumInitial": 1,
   "hotkeys": {
    "equation": "Ctrl-E",
    "itemize": "Ctrl-I"
   },
   "labels_anchors": false,
   "latex_user_defs": false,
   "report_style_numbering": false,
   "user_envs_cfg": false
  },
  "toc": {
   "base_numbering": 1,
   "nav_menu": {},
   "number_sections": true,
   "sideBar": true,
   "skip_h1_title": false,
   "title_cell": "Table of Contents",
   "title_sidebar": "Contents",
   "toc_cell": false,
   "toc_position": {},
   "toc_section_display": true,
   "toc_window_display": false
  },
  "varInspector": {
   "cols": {
    "lenName": 16,
    "lenType": 16,
    "lenVar": 40
   },
   "kernels_config": {
    "python": {
     "delete_cmd_postfix": "",
     "delete_cmd_prefix": "del ",
     "library": "var_list.py",
     "varRefreshCmd": "print(var_dic_list())"
    },
    "r": {
     "delete_cmd_postfix": ") ",
     "delete_cmd_prefix": "rm(",
     "library": "var_list.r",
     "varRefreshCmd": "cat(var_dic_list()) "
    }
   },
   "types_to_exclude": [
    "module",
    "function",
    "builtin_function_or_method",
    "instance",
    "_Feature"
   ],
   "window_display": false
  }
 },
 "nbformat": 4,
 "nbformat_minor": 2
}
