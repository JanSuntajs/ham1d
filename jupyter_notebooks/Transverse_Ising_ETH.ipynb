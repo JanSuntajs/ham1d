{
 "cells": [
  {
   "cell_type": "markdown",
   "metadata": {},
   "source": [
    "# What is this notebook about?\n",
    "\n",
    "In this notebook, we provide a simple benchmark to test the implementation of\n",
    "the code for simulation of the transverse Ising model with random potentials.\n",
    "The model is defined [here](https://arxiv.org/pdf/1408.0535.pdf).\n",
    "\n",
    "### The Hamiltonian:\n",
    "\n",
    "$$\n",
    "\\hat{H} = \\sum\\limits_{i=1}^L \\left[ g\\hat{\\sigma}_i^x + h\\hat{\\sigma}_i^z + J\\sigma_i^z\\sigma_{i+1}^z \\right]\n",
    "$$\n",
    "\n"
   ]
  },
  {
   "cell_type": "markdown",
   "metadata": {},
   "source": [
    "### Prepare the code, import libraries"
   ]
  },
  {
   "cell_type": "code",
   "execution_count": 1,
   "metadata": {},
   "outputs": [],
   "source": [
    "%matplotlib inline\n",
    "\"\"\"\n",
    "Each of the modules defined in ham1d.models defines a class\n",
    "for construction of a particular hamiltonian type. All of the\n",
    "classes share the same base class and thus their functionality\n",
    "is more or less the same, the difference is in the internal routines\n",
    "used.\n",
    "\"\"\"\n",
    "\n",
    "# to load classes utilizing numba's jit\n",
    "# compilation optimizations, load the following\n",
    "# modules. The following lines would load modules\n",
    "# with routines for creation of spin 1/2 hamiltonians\n",
    "from ham1d.models import spin1d as sp1\n",
    "\n",
    "import numpy as np\n",
    "import matplotlib.pyplot as plt"
   ]
  },
  {
   "cell_type": "markdown",
   "metadata": {},
   "source": [
    "### Construct the Hamiltonian and diagonalize it\n",
    "\n",
    "#### Set up the model parameters, construct the Hamiltonian object"
   ]
  },
  {
   "cell_type": "code",
   "execution_count": 2,
   "metadata": {},
   "outputs": [
    {
     "name": "stdout",
     "output_type": "stream",
     "text": [
      "Preparing mpi parameters!\n",
      "Preparing mpi parameters finished!\n",
      "Please wait, building the Hamiltonian ...\n",
      "Building the Hamiltonian finished!\n",
      "Calculating nnz, o_nnz, d_nnz!\n",
      "Calculating nnz, o_nnz, d_nnz finished!\n"
     ]
    }
   ],
   "source": [
    "# system size\n",
    "L=10\n",
    "# define constants and model parameters\n",
    "# we take the values from the paper\n",
    "g, h, J = (0.9045, 0.8090, 1.)\n",
    "\n",
    "# interaction:\n",
    "J_zz = [[J, i, (i+1)%L] for i in range(L)]\n",
    "inter = ['zz', J_zz]\n",
    "\n",
    "h_z= [[h, i] for i in range(L)]\n",
    "rnd_z = ['z', h_z]\n",
    "\n",
    "g_x = [[g, i] for i in range(L)]\n",
    "rnd_x = ['x', g_x]\n",
    "\n",
    "# we can now put together the static_list -> just a list of hamiltonian term\n",
    "# definitions\n",
    "\n",
    "static_list = [inter, rnd_z, rnd_x]\n",
    "\n",
    "# construct the hamiltonian\n",
    "ham = sp1.hamiltonian(L, static_list, [], Nu=None,parallel=True, mpisize=1, mpirank=0)"
   ]
  },
  {
   "cell_type": "markdown",
   "metadata": {},
   "source": [
    "#### Diagonalize the Hamiltonian"
   ]
  },
  {
   "cell_type": "code",
   "execution_count": 3,
   "metadata": {},
   "outputs": [],
   "source": [
    "eigvals = ham.eigvals()"
   ]
  },
  {
   "cell_type": "code",
   "execution_count": 6,
   "metadata": {},
   "outputs": [
    {
     "data": {
      "text/plain": [
       "array([-4.46333521e+00, -3.88670572e+00, -3.72728742e+00, -3.72728742e+00,\n",
       "       -3.45246733e+00, -3.45246733e+00, -3.27814530e+00, -3.26909507e+00,\n",
       "       -3.26909507e+00, -3.09698342e+00, -2.95276762e+00, -2.95276762e+00,\n",
       "       -2.86714629e+00, -2.86714629e+00, -2.71279696e+00, -2.71279696e+00,\n",
       "       -2.66413978e+00, -2.59744586e+00, -2.59744586e+00, -2.55947948e+00,\n",
       "       -2.50411756e+00, -2.44902354e+00, -2.42252269e+00, -2.42252269e+00,\n",
       "       -2.34397913e+00, -2.34397913e+00, -2.26681400e+00, -2.24166666e+00,\n",
       "       -2.24166666e+00, -2.22696571e+00, -2.22696571e+00, -2.20818717e+00,\n",
       "       -2.15841727e+00, -2.09000889e+00, -2.09000889e+00, -2.07546451e+00,\n",
       "       -2.07546451e+00, -2.02521939e+00, -1.98636849e+00, -1.98636849e+00,\n",
       "       -1.91379637e+00, -1.91379637e+00, -1.80779413e+00, -1.70877865e+00,\n",
       "       -1.70877865e+00, -1.65903270e+00, -1.65903270e+00, -1.65670557e+00,\n",
       "       -1.65167163e+00, -1.62980884e+00, -1.62980884e+00, -1.51012033e+00,\n",
       "       -1.51012033e+00, -1.48689347e+00, -1.48689347e+00, -1.47407888e+00,\n",
       "       -1.47407888e+00, -1.43953025e+00, -1.43953025e+00, -1.43749590e+00,\n",
       "       -1.43749590e+00, -1.40619413e+00, -1.39633410e+00, -1.39633410e+00,\n",
       "       -1.38779661e+00, -1.34893384e+00, -1.23910277e+00, -1.22716166e+00,\n",
       "       -1.22716166e+00, -1.22045015e+00, -1.21350783e+00, -1.15141630e+00,\n",
       "       -1.15141630e+00, -1.12129908e+00, -1.12129908e+00, -1.10837370e+00,\n",
       "       -1.10837370e+00, -1.02659786e+00, -9.96884688e-01, -9.96884688e-01,\n",
       "       -9.96660938e-01, -9.80217222e-01, -9.80217222e-01, -9.41387985e-01,\n",
       "       -9.41387985e-01, -9.12004538e-01, -8.97378354e-01, -8.88602315e-01,\n",
       "       -8.73266689e-01, -8.73266689e-01, -8.59146812e-01, -8.59146812e-01,\n",
       "       -8.30997545e-01, -8.30997545e-01, -8.02055237e-01, -7.52251780e-01,\n",
       "       -7.38485335e-01, -7.38485335e-01, -6.92628745e-01, -6.92628745e-01,\n",
       "       -5.93619728e-01, -5.93619728e-01, -5.68635963e-01, -4.79372215e-01,\n",
       "       -4.79372215e-01, -4.72575277e-01, -4.72575277e-01, -4.16084444e-01,\n",
       "       -4.16084444e-01, -3.82981990e-01, -3.76835339e-01, -3.62515914e-01,\n",
       "       -3.62515914e-01, -2.59273940e-01, -2.37995516e-01, -2.37995516e-01,\n",
       "       -2.30278317e-01, -2.30278317e-01, -2.14648703e-01, -2.14648703e-01,\n",
       "       -1.97515367e-01, -1.97515367e-01, -1.83787917e-01, -1.39803776e-01,\n",
       "       -1.39803776e-01, -1.35304679e-01, -1.35304679e-01, -1.29667189e-01,\n",
       "       -1.11382767e-01, -9.72044418e-02, -9.72044418e-02, -8.09452241e-02,\n",
       "       -4.76686362e-02, -1.98182121e-16,  8.92512731e-17,  8.49723536e-04,\n",
       "        8.49723536e-04,  6.06367015e-02,  6.06367015e-02,  6.42250926e-02,\n",
       "        6.42250926e-02,  8.21824626e-02,  8.21824626e-02,  1.73821570e-01,\n",
       "        1.75177083e-01,  1.75177083e-01,  2.68478577e-01,  2.87655433e-01,\n",
       "        2.87655433e-01,  3.00160585e-01,  3.00160585e-01,  3.11031136e-01,\n",
       "        3.11031136e-01,  3.33319012e-01,  3.90460247e-01,  4.18276087e-01,\n",
       "        4.45856287e-01,  4.46086765e-01,  4.46086765e-01,  4.52225341e-01,\n",
       "        4.52225341e-01,  4.64316212e-01,  4.64316212e-01,  5.03157226e-01,\n",
       "        5.30881476e-01,  5.30881476e-01,  6.65655166e-01,  6.65655166e-01,\n",
       "        6.93481484e-01,  6.93481484e-01,  7.26786699e-01,  8.05887024e-01,\n",
       "        8.05887024e-01,  8.48065184e-01,  8.48065184e-01,  8.60336983e-01,\n",
       "        9.10390560e-01,  9.10390560e-01,  9.75818995e-01,  1.03465362e+00,\n",
       "        1.09453464e+00,  1.09453464e+00,  1.09593994e+00,  1.09593994e+00,\n",
       "        1.13188463e+00,  1.13188463e+00,  1.18047301e+00,  1.18923298e+00,\n",
       "        1.18923298e+00,  1.20262410e+00,  1.20262410e+00,  1.21350783e+00,\n",
       "        1.23798450e+00,  1.23798450e+00,  1.25872353e+00,  1.27082215e+00,\n",
       "        1.34544708e+00,  1.34544708e+00,  1.36428624e+00,  1.37674687e+00,\n",
       "        1.37674687e+00,  1.39586458e+00,  1.39586458e+00,  1.54232536e+00,\n",
       "        1.54232536e+00,  1.54791419e+00,  1.54791419e+00,  1.57862978e+00,\n",
       "        1.57862978e+00,  1.58001527e+00,  1.59855803e+00,  1.73904269e+00,\n",
       "        1.74826317e+00,  1.74826317e+00,  1.76659859e+00,  1.76659859e+00,\n",
       "        1.78656244e+00,  1.78656244e+00,  1.80395590e+00,  2.13778644e+00,\n",
       "        2.22893649e+00,  2.22893649e+00,  2.30981330e+00,  2.30981330e+00,\n",
       "        2.41681936e+00,  2.41681936e+00,  2.43551832e+00,  2.44644946e+00,\n",
       "        2.47454493e+00,  2.50237731e+00,  2.50237731e+00,  2.58823689e+00,\n",
       "        2.60724852e+00,  2.60724852e+00,  2.64105266e+00,  2.64105266e+00,\n",
       "        2.69066483e+00,  2.69066483e+00,  2.76437398e+00,  3.06559064e+00,\n",
       "        3.08042402e+00,  3.08042402e+00,  3.11723902e+00,  3.11723902e+00,\n",
       "        3.15404612e+00,  3.15404612e+00,  3.17168073e+00,  4.09638273e+00,\n",
       "        4.14813489e+00,  4.14813489e+00,  4.27563346e+00,  4.27563346e+00,\n",
       "        4.40818601e+00,  4.40818601e+00,  4.46504903e+00,  6.12349139e+00])"
      ]
     },
     "execution_count": 6,
     "metadata": {},
     "output_type": "execute_result"
    }
   ],
   "source": [
    "eigvals"
   ]
  },
  {
   "cell_type": "code",
   "execution_count": 4,
   "metadata": {},
   "outputs": [],
   "source": [
    "# also the eigenvectors\n",
    "\n",
    "eigvals, eigvecs = ham.eigsystem()\n",
    "\n",
    "# evaluate the sz\n",
    "\n",
    "#siz_vals = ham.eval_diag_Siz(eigvecs, 1)"
   ]
  },
  {
   "cell_type": "code",
   "execution_count": 7,
   "metadata": {},
   "outputs": [],
   "source": [
    "siz_vals = ham.eval_diag_Siz(eigvecs, 4)"
   ]
  },
  {
   "cell_type": "code",
   "execution_count": 8,
   "metadata": {},
   "outputs": [
    {
     "data": {
      "text/plain": [
       "[<matplotlib.lines.Line2D at 0x7f37c91baa50>]"
      ]
     },
     "execution_count": 8,
     "metadata": {},
     "output_type": "execute_result"
    },
    {
     "data": {
      "image/png": "[encoded data removed]",
      "text/plain": [
       "<Figure size 432x288 with 1 Axes>"
      ]
     },
     "metadata": {
      "needs_background": "light"
     },
     "output_type": "display_data"
    }
   ],
   "source": [
    "plt.plot(np.real(siz_vals))"
   ]
  },
  {
   "cell_type": "markdown",
   "metadata": {},
   "source": [
    "#### Perform the same calculation with OBC\n",
    "\n",
    "OBC - ordinary boundary conditions"
   ]
  },
  {
   "cell_type": "code",
   "execution_count": 9,
   "metadata": {},
   "outputs": [
    {
     "name": "stdout",
     "output_type": "stream",
     "text": [
      "Preparing mpi parameters!\n",
      "Preparing mpi parameters finished!\n",
      "Please wait, building the Hamiltonian ...\n",
      "Building the Hamiltonian finished!\n",
      "Calculating nnz, o_nnz, d_nnz!\n",
      "Calculating nnz, o_nnz, d_nnz finished!\n"
     ]
    }
   ],
   "source": [
    "# interaction:\n",
    "J_zz_obc = [[J, i, (i+1)] for i in range(L-1)]\n",
    "inter_obc = ['zz', J_zz_obc]\n",
    "\n",
    "static_list_obc = [inter_obc, rnd_z, rnd_x]\n",
    "ham_obc = sp1.hamiltonian(L, static_list_obc, [], Nu=None,parallel=True, mpisize=1, mpirank=0)"
   ]
  },
  {
   "cell_type": "code",
   "execution_count": 10,
   "metadata": {},
   "outputs": [],
   "source": [
    "eigvals_obc = ham_obc.eigvals()"
   ]
  },
  {
   "cell_type": "code",
   "execution_count": 11,
   "metadata": {},
   "outputs": [
    {
     "data": {
      "text/plain": [
       "array([-4.49499048, -3.88079446, -3.78190302, -3.64805144, -3.50306496,\n",
       "       -3.40027762, -3.32721605, -3.27328664, -3.26520437, -3.11438823,\n",
       "       -2.98473242, -2.87370325, -2.846518  , -2.74608943, -2.73422232,\n",
       "       -2.67204167, -2.63809691, -2.6281042 , -2.58208622, -2.55877489,\n",
       "       -2.50082972, -2.48943219, -2.41244926, -2.39663029, -2.35732737,\n",
       "       -2.31758484, -2.29925348, -2.27833054, -2.22325339, -2.20609245,\n",
       "       -2.18706209, -2.16392367, -2.15347911, -2.10558396, -2.10426745,\n",
       "       -2.07031629, -2.05615632, -2.02627567, -2.01595048, -1.91629198,\n",
       "       -1.87725522, -1.85394346, -1.77896066, -1.74555148, -1.73018094,\n",
       "       -1.66302489, -1.65243825, -1.63525808, -1.59531713, -1.58863122,\n",
       "       -1.54009982, -1.52763915, -1.52018854, -1.48803643, -1.48522635,\n",
       "       -1.46497405, -1.43628602, -1.42106818, -1.41881167, -1.39888421,\n",
       "       -1.39632529, -1.38613306, -1.33499429, -1.32786423, -1.30279053,\n",
       "       -1.28345742, -1.26667739, -1.26581357, -1.24662825, -1.23282361,\n",
       "       -1.18712508, -1.16256074, -1.15122551, -1.14530781, -1.09745108,\n",
       "       -1.08253536, -1.0697941 , -1.06913172, -1.01864372, -1.01253323,\n",
       "       -0.99692047, -0.98298834, -0.96117115, -0.95729796, -0.95582173,\n",
       "       -0.92092704, -0.91657674, -0.88642751, -0.88577796, -0.87913292,\n",
       "       -0.86693651, -0.83523256, -0.79732979, -0.78523669, -0.78371166,\n",
       "       -0.7699909 , -0.71590095, -0.66656709, -0.64359699, -0.60626013,\n",
       "       -0.58817932, -0.58374645, -0.55101635, -0.52486842, -0.45303967,\n",
       "       -0.44121721, -0.43256599, -0.3991722 , -0.3945195 , -0.35790327,\n",
       "       -0.34439877, -0.31575699, -0.30403817, -0.28202828, -0.27041008,\n",
       "       -0.2575051 , -0.23986573, -0.20688585, -0.20176409, -0.18429997,\n",
       "       -0.17496885, -0.16475112, -0.15843739, -0.14913934, -0.12683685,\n",
       "       -0.12571182, -0.10921642, -0.09764981, -0.09471725, -0.06944827,\n",
       "       -0.05952282, -0.04250011, -0.04241341, -0.0208421 ,  0.0113909 ,\n",
       "        0.02956832,  0.06422819,  0.06645289,  0.0751105 ,  0.07534895,\n",
       "        0.10288479,  0.12146782,  0.13299469,  0.13686613,  0.14716088,\n",
       "        0.19111229,  0.21549107,  0.26010731,  0.26150387,  0.26189592,\n",
       "        0.28718109,  0.31293029,  0.32814031,  0.33069535,  0.33194287,\n",
       "        0.37443946,  0.39153109,  0.39447812,  0.39489302,  0.44403441,\n",
       "        0.4449877 ,  0.46230052,  0.52138021,  0.53780245,  0.538295  ,\n",
       "        0.61531069,  0.65659993,  0.65995939,  0.7000823 ,  0.74456368,\n",
       "        0.76964897,  0.82023761,  0.83585663,  0.86526707,  0.88942843,\n",
       "        0.91549683,  0.92198839,  0.95665948,  0.98566886,  0.99604288,\n",
       "        1.04147689,  1.05194353,  1.08724576,  1.10266458,  1.11716133,\n",
       "        1.12538378,  1.15637257,  1.16473055,  1.19551184,  1.21316674,\n",
       "        1.21427024,  1.2497266 ,  1.25028847,  1.2684647 ,  1.27360949,\n",
       "        1.28077996,  1.34367561,  1.34986055,  1.35880639,  1.3593061 ,\n",
       "        1.37917227,  1.46056929,  1.46465361,  1.47091221,  1.49237265,\n",
       "        1.53069301,  1.53298748,  1.55978302,  1.56140676,  1.56868288,\n",
       "        1.58260949,  1.62190922,  1.64637842,  1.73047851,  1.73224873,\n",
       "        1.74456156,  1.74533334,  1.8564395 ,  1.85643986,  2.04715073,\n",
       "        2.14524375,  2.2131844 ,  2.24115923,  2.29967834,  2.37821871,\n",
       "        2.38205679,  2.39537758,  2.46123078,  2.49278826,  2.49908745,\n",
       "        2.52821902,  2.57445216,  2.57661042,  2.63671806,  2.63854072,\n",
       "        2.70957711,  2.71118363,  2.78401522,  2.78536937,  2.90591958,\n",
       "        2.94316908,  2.9768591 ,  3.00884839,  3.04270385,  3.04425928,\n",
       "        3.19939098,  3.19939771,  3.93924821,  3.99573569,  4.06965488,\n",
       "        4.14773009,  4.21797079,  4.2676456 ,  4.47633872,  4.47650863,\n",
       "        5.94402357])"
      ]
     },
     "execution_count": 11,
     "metadata": {},
     "output_type": "execute_result"
    }
   ],
   "source": [
    "eigvals_obc"
   ]
  },
  {
   "cell_type": "code",
   "execution_count": null,
   "metadata": {},
   "outputs": [],
   "source": []
  }
 ],
 "metadata": {
  "kernelspec": {
   "display_name": "Python [conda env:petscenv] *",
   "language": "python",
   "name": "conda-env-petscenv-py"
  },
  "language_info": {
   "codemirror_mode": {
    "name": "ipython",
    "version": 3
   },
   "file_extension": ".py",
   "mimetype": "text/x-python",
   "name": "python",
   "nbconvert_exporter": "python",
   "pygments_lexer": "ipython3",
   "version": "3.7.4"
  }
 },
 "nbformat": 4,
 "nbformat_minor": 4
}
