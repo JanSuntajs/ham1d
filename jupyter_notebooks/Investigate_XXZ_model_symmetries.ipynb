{
 "cells": [
  {
   "cell_type": "markdown",
   "metadata": {},
   "source": [
    "# What is this notebook about?\n",
    "\n",
    "This notebook is intended as an introduction to the usage of the ```ham1d``` package using a\n",
    "hands-on example of the Heisenberg-XXZ model.\n",
    "\n",
    "## The model\n",
    "The Hamiltonian itself has the following structure: \n",
    "\n",
    "$$\n",
    "H = J\\sum_{i} \\left[\\frac{1}{2}\\left(S^+_iS_{i+1}^- + S^-_iS_{i+1}^+\\right) + \\Delta S_i^z S_{i+1}^z\\right] \n",
    "$$\n",
    "\n",
    "Below, we set $J=1$ and $\\Delta = 0.5$.\n",
    "We assume the validity of periodic or open boundary conditions (PBC or OBC)."
   ]
  },
  {
   "cell_type": "code",
   "execution_count": 18,
   "metadata": {
    "ExecuteTime": {
     "end_time": "2020-06-03T12:46:36.868405Z",
     "start_time": "2020-06-03T12:46:36.860989Z"
    }
   },
   "outputs": [],
   "source": [
    "%matplotlib inline\n",
    "\n",
    "\n",
    "# to load classes utilizing numba's jit\n",
    "# compilation optimizations, load the following\n",
    "# modules. The following lines would load modules\n",
    "# with routines for creation of spin 1/2 (hard-core\n",
    "# bosonic) hamiltonians\n",
    "from ham1d.models import spin1d as sp1\n",
    "\n",
    "import numpy as np\n",
    "import matplotlib.pyplot as plt\n",
    "\n",
    "from matplotlib import rc\n",
    "rc('font',**{'family':'sans-serif','sans-serif':['Helvetica']})\n",
    "\n",
    "rc('text', usetex=True)"
   ]
  },
  {
   "cell_type": "markdown",
   "metadata": {},
   "source": [
    "### Defining the model constants"
   ]
  },
  {
   "cell_type": "code",
   "execution_count": 19,
   "metadata": {
    "ExecuteTime": {
     "end_time": "2020-06-03T12:46:36.945232Z",
     "start_time": "2020-06-03T12:46:36.942217Z"
    }
   },
   "outputs": [],
   "source": [
    "#first, define the chain length. We choose a rather small system here:\n",
    "L=12\n",
    "# define constants and model parameters:\n",
    "J=1.\n",
    "Delta = 0.5"
   ]
  },
  {
   "cell_type": "markdown",
   "metadata": {},
   "source": [
    "### PBC case"
   ]
  },
  {
   "cell_type": "code",
   "execution_count": 20,
   "metadata": {
    "ExecuteTime": {
     "end_time": "2020-06-03T12:46:37.026311Z",
     "start_time": "2020-06-03T12:46:37.020823Z"
    }
   },
   "outputs": [],
   "source": [
    "\n",
    "J_pm = [[J * 0.5 , i, (i + 1)%L] for i in range(L)] # the %L part ensures PBC\n",
    "\n",
    "# the first entry in the nested list is always the value of the exchange constant\n",
    "# the following entries are integers specifying the sites on which the operators act.\n",
    "\n",
    "# then, specify the operators:\n",
    "flip_left = ['+-', J_pm]\n",
    "\n",
    "flip_right = ['-+', J_pm] #couplings remain the same, only the operator order changes\n",
    "\n",
    "# interaction:\n",
    "J_zz = [[J*Delta, i, (i+1)%L] for i in range(L)]\n",
    "inter = ['zz', J_zz]\n",
    "\n",
    "# we can now put together the static_list -> just a list of hamiltonian term\n",
    "# definitions\n",
    "\n",
    "static_list = [flip_left, flip_right, inter]"
   ]
  },
  {
   "cell_type": "markdown",
   "metadata": {},
   "source": [
    "### Instantiating the Hamiltonian"
   ]
  },
  {
   "cell_type": "code",
   "execution_count": 21,
   "metadata": {
    "ExecuteTime": {
     "end_time": "2020-06-03T12:46:37.975839Z",
     "start_time": "2020-06-03T12:46:37.099134Z"
    }
   },
   "outputs": [
    {
     "name": "stdout",
     "output_type": "stream",
     "text": [
      "Please wait, building the Hamiltonian ...\n",
      "Building the Hamiltonian finished!\n",
      "Calculating nnz, o_nnz, d_nnz!\n",
      "Calculating nnz, o_nnz, d_nnz finished!\n"
     ]
    }
   ],
   "source": [
    "ham = sp1.hamiltonian(L, static_list, [], Nu=int(L/2.))\n",
    "\n",
    "# obtain both symmetry operators -> for the parity and particle-hole symmetry\n",
    "parity_ = ham.parity_shuffle()\n",
    "part_hole_ = ham.particle_hole_shuffle()\n",
    "# get the eigensystem\n",
    "eigvals, eigvecs = ham.eigsystem()"
   ]
  },
  {
   "cell_type": "markdown",
   "metadata": {
    "ExecuteTime": {
     "end_time": "2020-06-03T11:23:15.049682Z",
     "start_time": "2020-06-03T11:23:15.034038Z"
    }
   },
   "source": [
    "### Counting the degeneracies, investigating the parity and particle-hole symmetry properties"
   ]
  },
  {
   "cell_type": "markdown",
   "metadata": {},
   "source": [
    "#### Degeneration count"
   ]
  },
  {
   "cell_type": "code",
   "execution_count": 22,
   "metadata": {
    "ExecuteTime": {
     "end_time": "2020-06-03T12:46:37.994030Z",
     "start_time": "2020-06-03T12:46:37.978468Z"
    }
   },
   "outputs": [
    {
     "name": "stdout",
     "output_type": "stream",
     "text": [
      "Number of degeneracies: 888.\n",
      "Number of unique values: 373.\n"
     ]
    }
   ],
   "source": [
    "# count the degeneracies\n",
    "u, c = np.unique(np.around(eigvals, decimals=10), return_counts=True)\n",
    "# sum all the values with multiplicities greater than 1\n",
    "degs = np.sum(c[c > 1])\n",
    "# number of unique values\n",
    "n_unique = len(u)\n",
    "\n",
    "print(f'Number of degeneracies: {degs}.')\n",
    "print(f'Number of unique values: {n_unique}.')"
   ]
  },
  {
   "cell_type": "markdown",
   "metadata": {
    "ExecuteTime": {
     "end_time": "2020-06-03T11:26:55.729882Z",
     "start_time": "2020-06-03T11:26:55.710433Z"
    }
   },
   "source": [
    "#### Symmetry properties of the eigenstates"
   ]
  },
  {
   "cell_type": "code",
   "execution_count": 23,
   "metadata": {
    "ExecuteTime": {
     "end_time": "2020-06-03T12:46:38.475008Z",
     "start_time": "2020-06-03T12:46:37.997457Z"
    }
   },
   "outputs": [],
   "source": [
    "#act with the parity op. on the eigvectors\n",
    "eigvecs_parity = eigvecs[parity_,:]\n",
    "eigvecs_part_hole = eigvecs[part_hole_,:]\n",
    "# do the product\n",
    "\n",
    "check_parity = np.diag(eigvecs.T@(np.conj(eigvecs_parity)))\n",
    "check_part_hole = np.diag(eigvecs.T@(np.conj(eigvecs_part_hole)))"
   ]
  },
  {
   "cell_type": "code",
   "execution_count": 24,
   "metadata": {
    "ExecuteTime": {
     "end_time": "2020-06-03T12:46:39.054104Z",
     "start_time": "2020-06-03T12:46:38.477309Z"
    }
   },
   "outputs": [
    {
     "data": {
      "text/plain": [
       "Text(0.5, 1.0, '$L=12, \\\\, J=1, \\\\, \\\\Delta=0.5,\\\\,$ parity symmetry investigation, PBC')"
      ]
     },
     "execution_count": 24,
     "metadata": {},
     "output_type": "execute_result"
    },
    {
     "data": {
      "image/png": "[encoded data removed]",
      "text/plain": [
       "<Figure size 432x288 with 1 Axes>"
      ]
     },
     "metadata": {
      "needs_background": "light"
     },
     "output_type": "display_data"
    }
   ],
   "source": [
    "fig = plt.figure()\n",
    "\n",
    "plt.hist(np.real(check_parity), bins=np.linspace(-1, 1.,100))\n",
    "plt.grid()\n",
    "plt.xlabel('$\\langle\\Psi_E|\\hat{P}|\\Psi_E\\\\rangle$')\n",
    "plt.ylabel('Number of events')\n",
    "plt.title(f'$L=12, \\, J=1, \\, \\\\Delta={Delta},\\,$ parity symmetry investigation, PBC')\n",
    "#plt.show()\n",
    "#plt.savefig('pbc_isotropic_XXZ_parity_investigation_L12.pdf')"
   ]
  },
  {
   "cell_type": "code",
   "execution_count": 25,
   "metadata": {
    "ExecuteTime": {
     "end_time": "2020-06-03T12:46:39.628626Z",
     "start_time": "2020-06-03T12:46:39.055932Z"
    }
   },
   "outputs": [
    {
     "data": {
      "text/plain": [
       "Text(0.5, 1.0, '$L=12, \\\\, J=1, \\\\, \\\\Delta=0.5,\\\\,$ particle-hole symmetry investigation, PBC')"
      ]
     },
     "execution_count": 25,
     "metadata": {},
     "output_type": "execute_result"
    },
    {
     "data": {
      "image/png": "[encoded data removed]",
      "text/plain": [
       "<Figure size 432x288 with 1 Axes>"
      ]
     },
     "metadata": {
      "needs_background": "light"
     },
     "output_type": "display_data"
    }
   ],
   "source": [
    "fig = plt.figure()\n",
    "\n",
    "plt.hist(np.real(check_part_hole), bins=np.linspace(-1, 1., 100))\n",
    "plt.xlabel('$\\langle\\Psi_E|\\hat{O}_\\mathrm{PH}|\\Psi_E\\\\rangle$')\n",
    "plt.ylabel('Number of events')\n",
    "plt.title(f'$L=12, \\, J=1, \\, \\\\Delta={Delta},\\,$ particle-hole symmetry investigation, PBC')\n",
    "#plt.show()\n",
    "#plt.savefig('pbc_isotropic_XXZ_part_hole_investigation_L12.pdf')"
   ]
  },
  {
   "cell_type": "markdown",
   "metadata": {},
   "source": [
    "## OBC case"
   ]
  },
  {
   "cell_type": "code",
   "execution_count": 26,
   "metadata": {
    "ExecuteTime": {
     "end_time": "2020-06-03T12:46:39.638084Z",
     "start_time": "2020-06-03T12:46:39.630626Z"
    }
   },
   "outputs": [],
   "source": [
    "\n",
    "J_pm_obc = [[J * 0.5 , i, (i+1)] for i in range(L - 1)] \n",
    "\n",
    "# the first entry in the nested list is always the value of the exchange constant\n",
    "# the following entries are integers specifying the sites on which the operators act.\n",
    "\n",
    "# then, specify the operators:\n",
    "flip_left_obc = ['+-', J_pm_obc]\n",
    "\n",
    "flip_right_obc = ['-+', J_pm_obc] #couplings remain the same, only the operator order changes\n",
    "\n",
    "# interaction:\n",
    "J_zz_obc = [[J*Delta, i, (i+1)] for i in range(L - 1)]\n",
    "inter_obc = ['zz', J_zz_obc]\n",
    "\n",
    "# we can now put together the static_list -> just a list of hamiltonian term\n",
    "# definitions\n",
    "\n",
    "static_list_obc = [flip_left_obc, flip_right_obc, inter_obc]"
   ]
  },
  {
   "cell_type": "code",
   "execution_count": 27,
   "metadata": {
    "ExecuteTime": {
     "end_time": "2020-06-03T12:46:40.380086Z",
     "start_time": "2020-06-03T12:46:39.640688Z"
    }
   },
   "outputs": [
    {
     "name": "stdout",
     "output_type": "stream",
     "text": [
      "Please wait, building the Hamiltonian ...\n",
      "Building the Hamiltonian finished!\n",
      "Calculating nnz, o_nnz, d_nnz!\n",
      "Calculating nnz, o_nnz, d_nnz finished!\n"
     ]
    }
   ],
   "source": [
    "ham_obc = sp1.hamiltonian(L, static_list_obc, [], Nu=int(L/2.))\n",
    "\n",
    "# obtain both symmetry operators -> for the parity and particle-hole symmetry\n",
    "parity_obc = ham_obc.parity_shuffle()\n",
    "part_hole_obc = ham_obc.particle_hole_shuffle()\n",
    "# get the eigensystem\n",
    "eigvals_obc, eigvecs_obc = ham_obc.eigsystem()"
   ]
  },
  {
   "cell_type": "markdown",
   "metadata": {},
   "source": [
    "#### Degeneration count"
   ]
  },
  {
   "cell_type": "code",
   "execution_count": 28,
   "metadata": {
    "ExecuteTime": {
     "end_time": "2020-06-03T12:46:40.393068Z",
     "start_time": "2020-06-03T12:46:40.384012Z"
    }
   },
   "outputs": [
    {
     "name": "stdout",
     "output_type": "stream",
     "text": [
      "Number of degeneracies: 438.\n",
      "Number of unique values: 703.\n"
     ]
    }
   ],
   "source": [
    "# count the degeneracies\n",
    "u_obc, c_obc = np.unique(np.around(eigvals_obc, decimals=10), return_counts=True)\n",
    "# sum all the values with multiplicities greater than 1\n",
    "degs_obc = np.sum(c_obc[c_obc > 1])\n",
    "# number of unique values\n",
    "n_unique_obc = len(u_obc)\n",
    "\n",
    "print(f'Number of degeneracies: {degs_obc}.')\n",
    "print(f'Number of unique values: {n_unique_obc}.')"
   ]
  },
  {
   "cell_type": "markdown",
   "metadata": {},
   "source": [
    "#### Symmetry properties of the eigenstates"
   ]
  },
  {
   "cell_type": "code",
   "execution_count": 29,
   "metadata": {
    "ExecuteTime": {
     "end_time": "2020-06-03T12:46:40.907200Z",
     "start_time": "2020-06-03T12:46:40.401779Z"
    }
   },
   "outputs": [],
   "source": [
    "#act with the parity op. on the eigvectors\n",
    "eigvecs_parity_obc = eigvecs_obc[parity_obc,:]\n",
    "eigvecs_part_hole_obc = eigvecs_obc[part_hole_obc,:]\n",
    "# do the product\n",
    "\n",
    "check_parity_obc = np.diag(eigvecs_obc.T@(np.conj(eigvecs_parity_obc)))\n",
    "check_part_hole_obc = np.diag(eigvecs_obc.T@(np.conj(eigvecs_part_hole_obc)))"
   ]
  },
  {
   "cell_type": "code",
   "execution_count": 30,
   "metadata": {
    "ExecuteTime": {
     "end_time": "2020-06-03T12:46:43.597232Z",
     "start_time": "2020-06-03T12:46:40.909022Z"
    }
   },
   "outputs": [
    {
     "data": {
      "image/png": "[encoded data removed]",
      "text/plain": [
       "<Figure size 432x288 with 1 Axes>"
      ]
     },
     "metadata": {
      "needs_background": "light"
     },
     "output_type": "display_data"
    }
   ],
   "source": [
    "fig = plt.figure()\n",
    "\n",
    "plt.hist(np.real(check_parity_obc), bins=np.linspace(-1, 1.,100))\n",
    "plt.grid()\n",
    "plt.xlabel('$\\langle\\Psi_E|\\hat{P}|\\Psi_E\\\\rangle$')\n",
    "plt.ylabel('Number of events')\n",
    "plt.title(f'$L=12, \\, J=1, \\, \\\\Delta={Delta},\\,$ parity symmetry investigation, OBC')\n",
    "#plt.show()\n",
    "plt.savefig(f'obc_delta_{Delta}_XXZ_parity_investigation_L12.pdf')"
   ]
  },
  {
   "cell_type": "code",
   "execution_count": 31,
   "metadata": {
    "ExecuteTime": {
     "end_time": "2020-06-03T12:46:44.717531Z",
     "start_time": "2020-06-03T12:46:43.600609Z"
    }
   },
   "outputs": [
    {
     "data": {
      "image/png": "[encoded data removed]",
      "text/plain": [
       "<Figure size 432x288 with 1 Axes>"
      ]
     },
     "metadata": {
      "needs_background": "light"
     },
     "output_type": "display_data"
    }
   ],
   "source": [
    "fig = plt.figure()\n",
    "\n",
    "plt.hist(np.real(check_part_hole_obc), bins=np.linspace(-1, 1., 100))\n",
    "plt.xlabel('$\\langle\\Psi_E|\\hat{O}_\\mathrm{PH}|\\Psi_E\\\\rangle$')\n",
    "plt.ylabel('Number of events')\n",
    "plt.title(f'$L=12, \\, J=1, \\, \\\\Delta={Delta},\\,$ particle-hole symmetry investigation, OBC')\n",
    "#plt.show()\n",
    "plt.savefig(f'obc_delta_{Delta}_XXZ_part_hole_investigation_L12.pdf')"
   ]
  },
  {
   "cell_type": "code",
   "execution_count": 41,
   "metadata": {
    "ExecuteTime": {
     "end_time": "2020-06-03T12:51:12.504526Z",
     "start_time": "2020-06-03T12:51:11.950203Z"
    }
   },
   "outputs": [
    {
     "data": {
      "image/png": "[encoded data removed]",
      "text/plain": [
       "<Figure size 432x288 with 1 Axes>"
      ]
     },
     "metadata": {
      "needs_background": "light"
     },
     "output_type": "display_data"
    }
   ],
   "source": [
    "fig = plt.figure()\n",
    "\n",
    "plt.plot(check_part_hole_obc,'<', label='part-hole', ms=4, fillstyle='left')\n",
    "plt.plot(check_parity_obc,'>', label='parity', ms=2, fillstyle='none')\n",
    "plt.legend()\n",
    "plt.xlabel('Eigenstate')\n",
    "plt.title(f'$L=12, \\, J=1, \\, \\\\Delta={Delta}\\,$, OBC')\n",
    "plt.savefig(f'obc_parity_part_hole_state_delta_{Delta}.pdf')"
   ]
  },
  {
   "cell_type": "code",
   "execution_count": null,
   "metadata": {
    "ExecuteTime": {
     "end_time": "2020-06-03T12:46:44.738341Z",
     "start_time": "2020-06-03T12:46:37.867Z"
    }
   },
   "outputs": [],
   "source": [
    "plt.plot(eigvals_obc)"
   ]
  },
  {
   "cell_type": "code",
   "execution_count": 43,
   "metadata": {
    "ExecuteTime": {
     "end_time": "2020-06-03T12:53:43.482640Z",
     "start_time": "2020-06-03T12:53:43.458247Z"
    }
   },
   "outputs": [
    {
     "data": {
      "text/plain": [
       "array([0, 0, 0, 0, 0, 0, 0, 0, 0, 0, 0, 0, 0, 0, 0, 0, 0, 0, 0, 0, 0, 0,\n",
       "       0, 0, 0, 0, 0, 0, 0, 0, 0, 0, 0, 0, 0, 0, 0, 0, 0, 0, 0, 0, 0, 0,\n",
       "       0, 0, 0, 0, 0, 0, 0, 0, 0, 0, 0, 0, 0, 0, 0, 0, 0, 0, 0, 0, 0, 0,\n",
       "       0, 0, 0, 0, 0, 0, 0, 0, 0, 0, 0, 0, 0, 0, 0, 0, 0, 0, 0, 0, 0, 0,\n",
       "       0, 0, 0, 0, 0, 0, 0, 0, 0, 0, 0, 0, 0, 0, 0, 0, 0, 0, 0, 0, 0, 0,\n",
       "       0, 0, 0, 0, 0, 0, 0, 0, 0, 0, 0, 0, 0, 0, 0, 0, 0, 0, 0, 0, 0, 0,\n",
       "       0, 0, 0, 0, 0, 0, 0, 0, 0, 0, 0, 0, 0, 0, 0, 0, 0, 0, 0, 0, 0, 0,\n",
       "       0, 0, 0, 0, 0, 0, 0, 0, 0, 0, 0, 0, 0, 0, 0, 0, 0, 0, 0, 0, 0, 0,\n",
       "       0, 0, 0, 0, 0, 0, 0, 0, 0, 0, 0, 0, 0, 0, 0, 0, 0, 0, 0, 0, 0, 0,\n",
       "       0, 0, 0, 0, 0, 0, 0, 0, 0, 0, 0, 0, 0, 0, 0, 0, 0, 0, 0, 0, 0, 0,\n",
       "       0, 0, 0, 0, 0, 0, 0, 0, 0, 0, 0, 0, 0, 0, 0, 0, 0, 0, 0, 0, 0, 0,\n",
       "       0, 0, 0, 0, 0, 0, 0, 0, 0, 0, 0, 0, 0, 0, 0, 0, 0, 0, 0, 0, 0, 0,\n",
       "       0, 0, 0, 0, 0, 0, 0, 0, 0, 0, 0, 0, 0, 0, 0, 0, 0, 0, 0, 0, 0, 0,\n",
       "       0, 0, 0, 0, 0, 0, 0, 0, 0, 0, 0, 0, 0, 0, 0, 0, 0, 0, 0, 0, 0, 0,\n",
       "       0, 0, 0, 0, 0, 0, 0, 0, 0, 0, 0, 0, 0, 0, 0, 0, 0, 0, 0, 0, 0, 0,\n",
       "       0, 0, 0, 0, 0, 0, 0, 0, 0, 0, 0, 0, 0, 0, 0, 0, 0, 0, 0, 0, 0, 0,\n",
       "       0, 0, 0, 0, 0, 0, 0, 0, 0, 0, 0, 0, 0, 0, 0, 0, 0, 0, 0, 0, 0, 0,\n",
       "       0, 0, 0, 0, 0, 0, 0, 0, 0, 0, 0, 0, 0, 0, 0, 0, 0, 0, 0, 0, 0, 0,\n",
       "       0, 0, 0, 0, 0, 0, 0, 0, 0, 0, 0, 0, 0, 0, 0, 0, 0, 0, 0, 0, 0, 0,\n",
       "       0, 0, 0, 0, 0, 0, 0, 0, 0, 0, 0, 0, 0, 0, 0, 0, 0, 0, 0, 0, 0, 0,\n",
       "       0, 0, 0, 0, 0, 0, 0, 0, 0, 0, 0, 0, 0, 0, 0, 0, 0, 0, 0, 0, 0, 0,\n",
       "       0, 0, 0, 0, 0, 0, 0, 0, 0, 0, 0, 0, 0, 0, 0, 0, 0, 0, 0, 0, 0, 0,\n",
       "       0, 0, 0, 0, 0, 0, 0, 0, 0, 0, 0, 0, 0, 0, 0, 0, 0, 0, 0, 0, 0, 0,\n",
       "       0, 0, 0, 0, 0, 0, 0, 0, 0, 0, 0, 0, 0, 0, 0, 0, 0, 0, 0, 0, 0, 0,\n",
       "       0, 0, 0, 0, 0, 0, 0, 0, 0, 0, 0, 0, 0, 0, 0, 0, 0, 0, 0, 0, 0, 0,\n",
       "       0, 0, 0, 0, 0, 0, 0, 0, 0, 0, 0, 0, 0, 0, 0, 0, 0, 0, 0, 0, 0, 0,\n",
       "       0, 0, 0, 0, 0, 0, 0, 0, 0, 0, 0, 0, 0, 0, 0, 0, 0, 0, 0, 0, 0, 0,\n",
       "       0, 0, 0, 0, 0, 0, 0, 0, 0, 0, 0, 0, 0, 0, 0, 0, 0, 0, 0, 0, 0, 0,\n",
       "       0, 0, 0, 0, 0, 0, 0, 0, 0, 0, 0, 0, 0, 0, 0, 0, 0, 0, 0, 0, 0, 0,\n",
       "       0, 0, 0, 0, 0, 0, 0, 0, 0, 0, 0, 0, 0, 0, 0, 0, 0, 0, 0, 0, 0, 0,\n",
       "       0, 0, 0, 0, 0, 0, 0, 0, 0, 0, 0, 0, 0, 0, 0, 0, 0, 0, 0, 0, 0, 0,\n",
       "       0, 0, 0, 0, 0, 0, 0, 0, 0, 0, 0, 0, 0, 0, 0, 0, 0, 0, 0, 0, 0, 0,\n",
       "       0, 0, 0, 0, 0, 0, 0, 0, 0, 0, 0, 0, 0, 0, 0, 0, 0, 0, 0, 0, 0, 0,\n",
       "       0, 0, 0, 0, 0, 0, 0, 0, 0, 0, 0, 0, 0, 0, 0, 0, 0, 0, 0, 0, 0, 0,\n",
       "       0, 0, 0, 0, 0, 0, 0, 0, 0, 0, 0, 0, 0, 0, 0, 0, 0, 0, 0, 0, 0, 0,\n",
       "       0, 0, 0, 0, 0, 0, 0, 0, 0, 0, 0, 0, 0, 0, 0, 0, 0, 0, 0, 0, 0, 0,\n",
       "       0, 0, 0, 0, 0, 0, 0, 0, 0, 0, 0, 0, 0, 0, 0, 0, 0, 0, 0, 0, 0, 0,\n",
       "       0, 0, 0, 0, 0, 0, 0, 0, 0, 0, 0, 0, 0, 0, 0, 0, 0, 0, 0, 0, 0, 0,\n",
       "       0, 0, 0, 0, 0, 0, 0, 0, 0, 0, 0, 0, 0, 0, 0, 0, 0, 0, 0, 0, 0, 0,\n",
       "       0, 0, 0, 0, 0, 0, 0, 0, 0, 0, 0, 0, 0, 0, 0, 0, 0, 0, 0, 0, 0, 0,\n",
       "       0, 0, 0, 0, 0, 0, 0, 0, 0, 0, 0, 0, 0, 0, 0, 0, 0, 0, 0, 0, 0, 0,\n",
       "       0, 0, 0, 0, 0, 0, 0, 0, 0, 0, 0, 0, 0, 0, 0, 0, 0, 0, 0, 0, 0, 0],\n",
       "      dtype=uint64)"
      ]
     },
     "execution_count": 43,
     "metadata": {},
     "output_type": "execute_result"
    }
   ],
   "source": [
    "parity_obc - part_hole_obc"
   ]
  },
  {
   "cell_type": "code",
   "execution_count": null,
   "metadata": {},
   "outputs": [],
   "source": []
  }
 ],
 "metadata": {
  "kernelspec": {
   "display_name": "Python [conda env:petscenv] *",
   "language": "python",
   "name": "conda-env-petscenv-py"
  },
  "language_info": {
   "codemirror_mode": {
    "name": "ipython",
    "version": 3
   },
   "file_extension": ".py",
   "mimetype": "text/x-python",
   "name": "python",
   "nbconvert_exporter": "python",
   "pygments_lexer": "ipython3",
   "version": "3.7.4"
  },
  "latex_envs": {
   "LaTeX_envs_menu_present": true,
   "autoclose": false,
   "autocomplete": true,
   "bibliofile": "biblio.bib",
   "cite_by": "apalike",
   "current_citInitial": 1,
   "eqLabelWithNumbers": true,
   "eqNumInitial": 1,
   "hotkeys": {
    "equation": "Ctrl-E",
    "itemize": "Ctrl-I"
   },
   "labels_anchors": false,
   "latex_user_defs": false,
   "report_style_numbering": false,
   "user_envs_cfg": false
  },
  "toc": {
   "base_numbering": 1,
   "nav_menu": {},
   "number_sections": true,
   "sideBar": true,
   "skip_h1_title": false,
   "title_cell": "Table of Contents",
   "title_sidebar": "Contents",
   "toc_cell": false,
   "toc_position": {},
   "toc_section_display": true,
   "toc_window_display": false
  },
  "varInspector": {
   "cols": {
    "lenName": 16,
    "lenType": 16,
    "lenVar": 40
   },
   "kernels_config": {
    "python": {
     "delete_cmd_postfix": "",
     "delete_cmd_prefix": "del ",
     "library": "var_list.py",
     "varRefreshCmd": "print(var_dic_list())"
    },
    "r": {
     "delete_cmd_postfix": ") ",
     "delete_cmd_prefix": "rm(",
     "library": "var_list.r",
     "varRefreshCmd": "cat(var_dic_list()) "
    }
   },
   "types_to_exclude": [
    "module",
    "function",
    "builtin_function_or_method",
    "instance",
    "_Feature"
   ],
   "window_display": false
  }
 },
 "nbformat": 4,
 "nbformat_minor": 2
}
