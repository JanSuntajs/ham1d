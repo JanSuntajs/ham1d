{
 "cells": [
  {
   "cell_type": "code",
   "execution_count": 1,
   "metadata": {
    "ExecuteTime": {
     "end_time": "2020-09-28T13:05:50.986287Z",
     "start_time": "2020-09-28T13:05:47.503532Z"
    }
   },
   "outputs": [],
   "source": [
    "import numpy as np\n",
    "\n",
    "from anderson.model import hamiltonian as ham"
   ]
  },
  {
   "cell_type": "code",
   "execution_count": 33,
   "metadata": {
    "ExecuteTime": {
     "end_time": "2020-09-28T13:59:48.107840Z",
     "start_time": "2020-09-28T13:59:48.082067Z"
    }
   },
   "outputs": [
    {
     "name": "stdout",
     "output_type": "stream",
     "text": [
      "Calculating nnz, o_nnz, d_nnz!\n",
      "Calculating nnz, o_nnz, d_nnz finished!\n",
      "[1.+0.j 1.+0.j]\n"
     ]
    }
   ],
   "source": [
    "L = 4\n",
    "dim = 2\n",
    "\n",
    "pbc = [1, 1]\n",
    "hopping = 1j\n",
    "W=0.\n",
    "\n",
    "fields = np.random.uniform(-W, W, (L, L))\n",
    "parallel=False,\n",
    "\n",
    "hamiltonian = ham(L, dim, hopping, fields, pbc, dtype=np.complex128)\n",
    "\n",
    "print(hamiltonian.pbc)"
   ]
  },
  {
   "cell_type": "code",
   "execution_count": 35,
   "metadata": {
    "ExecuteTime": {
     "end_time": "2020-09-28T13:59:18.611215Z",
     "start_time": "2020-09-28T13:59:18.440598Z"
    }
   },
   "outputs": [
    {
     "data": {
      "image/png": "[encoded data removed]",
      "text/plain": [
       "<Figure size 432x288 with 1 Axes>"
      ]
     },
     "metadata": {
      "needs_background": "light"
     },
     "output_type": "display_data"
    },
    {
     "data": {
      "text/plain": [
       "<Figure size 432x288 with 0 Axes>"
      ]
     },
     "metadata": {},
     "output_type": "display_data"
    }
   ],
   "source": [
    "%matplotlib inline\n",
    "from matplotlib import pyplot as plt\n",
    "fig = plt.figure()\n",
    "\n",
    "plt.imshow(np.imag(hamiltonian.mat.todense()))\n",
    "\n",
    "plt.show()\n",
    "plt.savefig('2D_aapbc_L_5.pdf')\n"
   ]
  },
  {
   "cell_type": "code",
   "execution_count": 36,
   "metadata": {
    "ExecuteTime": {
     "end_time": "2020-09-29T12:28:20.314006Z",
     "start_time": "2020-09-29T12:28:20.298970Z"
    }
   },
   "outputs": [
    {
     "data": {
      "text/plain": [
       "array([-4.00000000e+00, -2.00000000e+00, -2.00000000e+00, -2.00000000e+00,\n",
       "       -2.00000000e+00, -4.72486547e-17, -1.62964180e-18,  3.46689096e-18,\n",
       "        2.15493568e-16,  5.24572558e-16,  1.23746185e-15,  2.00000000e+00,\n",
       "        2.00000000e+00,  2.00000000e+00,  2.00000000e+00,  4.00000000e+00])"
      ]
     },
     "execution_count": 36,
     "metadata": {},
     "output_type": "execute_result"
    }
   ],
   "source": [
    "hamiltonian.eigvals(complex=True)"
   ]
  },
  {
   "cell_type": "code",
   "execution_count": null,
   "metadata": {},
   "outputs": [],
   "source": []
  }
 ],
 "metadata": {
  "kernelspec": {
   "display_name": "Python [conda env:petscenv] *",
   "language": "python",
   "name": "conda-env-petscenv-py"
  },
  "language_info": {
   "codemirror_mode": {
    "name": "ipython",
    "version": 3
   },
   "file_extension": ".py",
   "mimetype": "text/x-python",
   "name": "python",
   "nbconvert_exporter": "python",
   "pygments_lexer": "ipython3",
   "version": "3.7.4"
  },
  "latex_envs": {
   "LaTeX_envs_menu_present": true,
   "autoclose": false,
   "autocomplete": true,
   "bibliofile": "biblio.bib",
   "cite_by": "apalike",
   "current_citInitial": 1,
   "eqLabelWithNumbers": true,
   "eqNumInitial": 1,
   "hotkeys": {
    "equation": "Ctrl-E",
    "itemize": "Ctrl-I"
   },
   "labels_anchors": false,
   "latex_user_defs": false,
   "report_style_numbering": false,
   "user_envs_cfg": false
  },
  "toc": {
   "base_numbering": 1,
   "nav_menu": {},
   "number_sections": true,
   "sideBar": true,
   "skip_h1_title": false,
   "title_cell": "Table of Contents",
   "title_sidebar": "Contents",
   "toc_cell": false,
   "toc_position": {},
   "toc_section_display": true,
   "toc_window_display": false
  },
  "varInspector": {
   "cols": {
    "lenName": 16,
    "lenType": 16,
    "lenVar": 40
   },
   "kernels_config": {
    "python": {
     "delete_cmd_postfix": "",
     "delete_cmd_prefix": "del ",
     "library": "var_list.py",
     "varRefreshCmd": "print(var_dic_list())"
    },
    "r": {
     "delete_cmd_postfix": ") ",
     "delete_cmd_prefix": "rm(",
     "library": "var_list.r",
     "varRefreshCmd": "cat(var_dic_list()) "
    }
   },
   "types_to_exclude": [
    "module",
    "function",
    "builtin_function_or_method",
    "instance",
    "_Feature"
   ],
   "window_display": false
  }
 },
 "nbformat": 4,
 "nbformat_minor": 4
}
