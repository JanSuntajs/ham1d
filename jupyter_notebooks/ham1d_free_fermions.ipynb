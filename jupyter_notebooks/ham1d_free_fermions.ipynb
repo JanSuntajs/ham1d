{
 "cells": [
  {
   "cell_type": "markdown",
   "metadata": {},
   "source": [
    "# What is this notebook about?\n",
    "\n",
    "This notebook is intended both as an introduction to the usage of the ham1d package and\n",
    "as a method of checking the correctness of the Hamiltonian construction and\n",
    "diagonalization results for quasirandom potentials and free fermionic chains. \n",
    "\n",
    "## The Hamiltonian\n",
    "The model Hamiltonian is as follows:\n",
    "\n",
    "$$\n",
    "\\hat{H} = J_1  \\sum_l^L \\frac{1}{2}\\left(\\hat{c}^\\dagger_l\\hat{c}_{l+1} + \\mathrm{h.c.} \\right)\n",
    " + J_2  \\sum_l^L \\frac{1}{2}\\left(\\hat{c}^\\dagger_l\\hat{c}_{l+2} + \\mathrm{h.c.} \\right) +\n",
    " h\\sum_{l=1}^L \\cos\\left(2\\pi\\alpha l\\right) \\left(\\hat{n}_l - \\frac{1}{2}\\right),\n",
    "$$\n",
    "where operators in the above expression are the standard fermionic creation and annihilation operators. Below \n",
    "we show how to construct such a Hamiltonian and diagonalize it."
   ]
  },
  {
   "cell_type": "markdown",
   "metadata": {},
   "source": [
    "## The code"
   ]
  },
  {
   "cell_type": "code",
   "execution_count": 2,
   "metadata": {
    "ExecuteTime": {
     "end_time": "2020-08-28T08:11:58.018871Z",
     "start_time": "2020-08-28T08:11:57.978334Z"
    }
   },
   "outputs": [],
   "source": [
    "%matplotlib inline\n",
    "\"\"\"\n",
    "Each of the modules defined in ham1d.models defines a class\n",
    "for construction of a particular hamiltonian type. All of the\n",
    "classes share the same base class and thus their functionality\n",
    "is more or less the same, the difference is in the internal routines\n",
    "used.\n",
    "\"\"\"\n",
    "\n",
    "# to load classes utilizing numba's jit\n",
    "# compilation optimizations, load the following\n",
    "# modules. The following lines would load a module\n",
    "# with routines for creation of spinless fermionic\n",
    "# hamiltonians.\n",
    "from ham1d.models import free1d as fr\n",
    "import numpy as np\n",
    "import matplotlib.pyplot as plt"
   ]
  },
  {
   "cell_type": "markdown",
   "metadata": {},
   "source": [
    "## Defining the model constants"
   ]
  },
  {
   "cell_type": "code",
   "execution_count": 3,
   "metadata": {
    "ExecuteTime": {
     "end_time": "2020-08-27T14:23:57.521592Z",
     "start_time": "2020-08-27T14:23:57.497455Z"
    }
   },
   "outputs": [],
   "source": [
    "#first, define the chain length. We choose a rather small system here:\n",
    "L=2**10\n",
    "# define constants and model parameters:\n",
    "J=1. # J1 and J2 the same\n",
    "W=0.\n",
    "gldn = (np.sqrt(5.) - 1.) * 0.5"
   ]
  },
  {
   "cell_type": "code",
   "execution_count": 4,
   "metadata": {
    "ExecuteTime": {
     "end_time": "2020-08-27T14:23:58.975648Z",
     "start_time": "2020-08-27T14:23:58.882801Z"
    }
   },
   "outputs": [],
   "source": [
    "# hopping part\n",
    "\n",
    "# one-site hopping\n",
    "J_l1 = [[J * 0.5 , i, (i + 1)%L] for i in range(L)] # the %L part ensures PBC\n",
    "J_r1 =  [[J * 0.5 , i, (i - 1)%L] for i in range(L)]\n",
    "# two-site hoppings\n",
    "J_l2 = [[J * 0.5 , i, (i + 2)%L] for i in range(L)] # the %L part ensures PBC\n",
    "J_r2 =  [[J * 0.5 , i, (i - 2)%L] for i in range(L)]\n",
    "hops = [['+-', J_l1], ['+-', J_r1], ['+-', J_l2], ['+-', J_r2]]\n",
    "\n",
    "#random field\n",
    "\n",
    "fields = np.array([W * np.cos(2*np.pi*gldn*i) for i in range(1, L+1)])\n",
    "J_z = [[fields[i], i] for i in range(L)]\n",
    "rnd = ['n', J_z]\n",
    "\n",
    "# we can now put together the static_list -> just a list of hamiltonian term\n",
    "# definitions\n",
    "\n",
    "static_list = [*hops, rnd]"
   ]
  },
  {
   "cell_type": "code",
   "execution_count": 6,
   "metadata": {
    "ExecuteTime": {
     "end_time": "2020-08-27T14:24:05.193427Z",
     "start_time": "2020-08-27T14:24:05.086204Z"
    }
   },
   "outputs": [
    {
     "name": "stdout",
     "output_type": "stream",
     "text": [
      "Please wait, building the Hamiltonian ...\n",
      "Building the Hamiltonian finished!\n",
      "Calculating nnz, o_nnz, d_nnz!\n",
      "Calculating nnz, o_nnz, d_nnz finished!\n"
     ]
    }
   ],
   "source": [
    "ham = fr.hamiltonian(L, static_list)"
   ]
  },
  {
   "cell_type": "code",
   "execution_count": 7,
   "metadata": {
    "ExecuteTime": {
     "end_time": "2020-08-27T14:24:07.739867Z",
     "start_time": "2020-08-27T14:24:07.097103Z"
    }
   },
   "outputs": [],
   "source": [
    "eigvals = ham.eigvals()"
   ]
  },
  {
   "cell_type": "code",
   "execution_count": 8,
   "metadata": {
    "ExecuteTime": {
     "end_time": "2020-08-27T14:24:09.097104Z",
     "start_time": "2020-08-27T14:24:09.065221Z"
    }
   },
   "outputs": [
    {
     "name": "stdout",
     "output_type": "stream",
     "text": [
      "First ten eigenvalues\n",
      "[-1.1249977  -1.1249977  -1.12495265 -1.12495265 -1.12490144 -1.12490144\n",
      " -1.12476697 -1.12476697 -1.12466323 -1.12466323]\n",
      "Spectral extrema:\n",
      "-1.1249976999411275 1.9999999999999993\n"
     ]
    }
   ],
   "source": [
    "print('First ten eigenvalues')\n",
    "print(eigvals[:10])\n",
    "print('Spectral extrema:')\n",
    "print(eigvals[0], eigvals[-1])"
   ]
  },
  {
   "cell_type": "code",
   "execution_count": 9,
   "metadata": {
    "ExecuteTime": {
     "end_time": "2020-08-27T14:24:11.667050Z",
     "start_time": "2020-08-27T14:24:11.640839Z"
    }
   },
   "outputs": [
    {
     "name": "stdout",
     "output_type": "stream",
     "text": [
      "Many-body ground-state energy:\n",
      "-6.749703589811945\n"
     ]
    }
   ],
   "source": [
    "print('Many-body ground-state energy:')\n",
    "print(np.sum(eigvals[:6]))"
   ]
  },
  {
   "cell_type": "code",
   "execution_count": 7,
   "metadata": {
    "ExecuteTime": {
     "end_time": "2020-08-27T14:22:17.153431Z",
     "start_time": "2020-08-27T14:22:16.822837Z"
    }
   },
   "outputs": [
    {
     "data": {
      "text/plain": [
       "<matplotlib.image.AxesImage at 0x7fda604d41d0>"
      ]
     },
     "execution_count": 7,
     "metadata": {},
     "output_type": "execute_result"
    },
    {
     "data": {
      "image/png": "[encoded data removed]",
      "text/plain": [
       "<Figure size 288x288 with 1 Axes>"
      ]
     },
     "metadata": {
      "needs_background": "light"
     },
     "output_type": "display_data"
    }
   ],
   "source": [
    "plt.matshow(np.real(ham.mat.todense()))"
   ]
  },
  {
   "cell_type": "code",
   "execution_count": 12,
   "metadata": {
    "ExecuteTime": {
     "end_time": "2020-08-27T14:24:38.658494Z",
     "start_time": "2020-08-27T14:24:38.624289Z"
    }
   },
   "outputs": [
    {
     "data": {
      "text/plain": [
       "65536"
      ]
     },
     "execution_count": 12,
     "metadata": {},
     "output_type": "execute_result"
    }
   ],
   "source": [
    "2**16"
   ]
  },
  {
   "cell_type": "code",
   "execution_count": null,
   "metadata": {},
   "outputs": [],
   "source": []
  }
 ],
 "metadata": {
  "kernelspec": {
   "display_name": "ipython_full (myenv)",
   "language": "python",
   "name": "ipython_full"
  },
  "language_info": {
   "codemirror_mode": {
    "name": "ipython",
    "version": 3
   },
   "file_extension": ".py",
   "mimetype": "text/x-python",
   "name": "python",
   "nbconvert_exporter": "python",
   "pygments_lexer": "ipython3",
   "version": "3.6.8"
  },
  "latex_envs": {
   "LaTeX_envs_menu_present": true,
   "autoclose": false,
   "autocomplete": true,
   "bibliofile": "biblio.bib",
   "cite_by": "apalike",
   "current_citInitial": 1,
   "eqLabelWithNumbers": true,
   "eqNumInitial": 1,
   "hotkeys": {
    "equation": "Ctrl-E",
    "itemize": "Ctrl-I"
   },
   "labels_anchors": false,
   "latex_user_defs": false,
   "report_style_numbering": false,
   "user_envs_cfg": false
  },
  "toc": {
   "base_numbering": 1,
   "nav_menu": {},
   "number_sections": true,
   "sideBar": true,
   "skip_h1_title": false,
   "title_cell": "Table of Contents",
   "title_sidebar": "Contents",
   "toc_cell": false,
   "toc_position": {},
   "toc_section_display": true,
   "toc_window_display": false
  },
  "varInspector": {
   "cols": {
    "lenName": 16,
    "lenType": 16,
    "lenVar": 40
   },
   "kernels_config": {
    "python": {
     "delete_cmd_postfix": "",
     "delete_cmd_prefix": "del ",
     "library": "var_list.py",
     "varRefreshCmd": "print(var_dic_list())"
    },
    "r": {
     "delete_cmd_postfix": ") ",
     "delete_cmd_prefix": "rm(",
     "library": "var_list.r",
     "varRefreshCmd": "cat(var_dic_list()) "
    }
   },
   "types_to_exclude": [
    "module",
    "function",
    "builtin_function_or_method",
    "instance",
    "_Feature"
   ],
   "window_display": false
  }
 },
 "nbformat": 4,
 "nbformat_minor": 2
}
