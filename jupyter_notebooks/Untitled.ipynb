{
 "cells": [
  {
   "cell_type": "code",
   "execution_count": 1,
   "metadata": {
    "ExecuteTime": {
     "end_time": "2019-11-13T10:24:43.423722Z",
     "start_time": "2019-11-13T10:24:40.768758Z"
    }
   },
   "outputs": [],
   "source": [
    "%matplotlib inline\n",
    "\"\"\"\n",
    "Each of the modules defined in ham1d.models defines a class\n",
    "for construction of a particular hamiltonian type. All of the\n",
    "classes share the same base class and thus their functionality\n",
    "is more or less the same, the difference is in the internal routines\n",
    "used.\n",
    "\"\"\"\n",
    "\n",
    "# to load classes utilizing numba's jit\n",
    "# compilation optimizations, load the following\n",
    "# modules. The following lines would load modules\n",
    "# with routines for creation of spin 1/2 (hard-core\n",
    "# bosonic), spinless fermionic and noninteracting\n",
    "# hamiltonians.\n",
    "from ham1d.models import spin1d as sp1\n",
    "from ham1d.entropy import rdm, ententro\n",
    "\n",
    "# in case of the spin 1/2 hamiltonians,\n",
    "# one can also construct the model hamiltonians\n",
    "# using the kronecker product of sparse operators.\n",
    "# In general, this could be easily achieved for\n",
    "# any spin value, simply by providing an appropriate\n",
    "# set of spin operators. For now, only the spin 1/2\n",
    "# matrices are provided.\n",
    "\n",
    "import numpy as np\n",
    "from scipy import linalg as LA\n",
    "import matplotlib.pyplot as plt"
   ]
  },
  {
   "cell_type": "markdown",
   "metadata": {},
   "source": [
    "## Defining the model constants"
   ]
  },
  {
   "cell_type": "code",
   "execution_count": 3,
   "metadata": {
    "ExecuteTime": {
     "end_time": "2019-11-13T10:24:49.899457Z",
     "start_time": "2019-11-13T10:24:49.883043Z"
    }
   },
   "outputs": [],
   "source": [
    "#first, define the chain length. We choose a rather small system here:\n",
    "L=10\n",
    "subsize=int(L*0.5)\n",
    "# define constants and model parameters:\n",
    "J=1.\n",
    "W=1.\n",
    "Delta = 0.55\n",
    "gldn = (np.sqrt(5.) - 1.) * 0.5"
   ]
  },
  {
   "cell_type": "code",
   "execution_count": 4,
   "metadata": {
    "ExecuteTime": {
     "end_time": "2019-11-13T10:24:51.432737Z",
     "start_time": "2019-11-13T10:24:51.387964Z"
    }
   },
   "outputs": [],
   "source": [
    "J_pm1 = [[J * 0.5, i, (i + 1) % L]\n",
    "         for i in range(L)]  # the %L part ensures PBC\n",
    "J_pm2 = [[J * 0.5, i, (i + 2) % L] for i in range(L)]\n",
    "\n",
    "flips = [['+-', J_pm1], ['-+', J_pm1], ['+-', J_pm2], ['-+', J_pm2]]\n",
    "\n",
    "# interaction:\n",
    "J_zz1 = [[J * Delta, i, (i + 1) % L] for i in range(L)]\n",
    "J_zz2 = [[J * Delta, i, (i + 2) % L] for i in range(L)]\n",
    "\n",
    "inter = [['zz', J_zz1], ['zz', J_zz2]]\n",
    "\n",
    "# random field\n",
    "\n",
    "fields = np.array([W * np.cos(2 * np.pi * gldn * i) for i in range(1, L + 1)])\n",
    "J_z = [[fields[i], i] for i in range(L)]\n",
    "rnd = ['z', J_z]\n",
    "\n",
    "# we can now put together the static_list -> just a list of hamiltonian term\n",
    "# definitions\n",
    "\n",
    "static_list = [*flips, *inter, rnd]"
   ]
  },
  {
   "cell_type": "code",
   "execution_count": 6,
   "metadata": {
    "ExecuteTime": {
     "end_time": "2019-11-13T10:24:57.094086Z",
     "start_time": "2019-11-13T10:24:56.639473Z"
    }
   },
   "outputs": [
    {
     "name": "stdout",
     "output_type": "stream",
     "text": [
      "Please wait, building the Hamiltonian ...\n",
      "Building the Hamiltonian finished!\n",
      "Calculating nnz, o_nnz, d_nnz!\n",
      "Calculating nnz, o_nnz, d_nnz finished!\n"
     ]
    }
   ],
   "source": [
    "# first, let us construct a hamiltonian for all the\n",
    "# spin projection blocks. We do this by selecting Nu=None.\n",
    "ham = sp1.hamiltonian(L, static_list, [], Nu= int(L/2.))"
   ]
  },
  {
   "cell_type": "code",
   "execution_count": 7,
   "metadata": {
    "ExecuteTime": {
     "end_time": "2019-11-13T10:24:58.952984Z",
     "start_time": "2019-11-13T10:24:58.840074Z"
    }
   },
   "outputs": [],
   "source": [
    "eigvals, eigvecs = ham.eigsystem()"
   ]
  },
  {
   "cell_type": "code",
   "execution_count": 6,
   "metadata": {
    "ExecuteTime": {
     "end_time": "2019-11-12T18:06:12.243928Z",
     "start_time": "2019-11-12T18:06:12.217074Z"
    }
   },
   "outputs": [
    {
     "data": {
      "text/plain": [
       "array([[ 0.00458543-0.j,  0.00053225-0.j,  0.00348589-0.j, ...,\n",
       "         0.06391164+0.j,  0.03466412+0.j,  0.0262157 +0.j],\n",
       "       [ 0.00397601+0.j,  0.00090516+0.j,  0.00937632+0.j, ...,\n",
       "         0.04057223+0.j,  0.02976509+0.j,  0.02405883+0.j],\n",
       "       [-0.01169399+0.j, -0.0027642 +0.j, -0.00396319+0.j, ...,\n",
       "         0.09062154+0.j,  0.06436086+0.j,  0.05932476+0.j],\n",
       "       ...,\n",
       "       [ 0.01933474+0.j, -0.04469196+0.j,  0.06598708+0.j, ...,\n",
       "        -0.06436623+0.j, -0.0124998 +0.j,  0.02900159+0.j],\n",
       "       [-0.00105674+0.j,  0.0055556 +0.j, -0.00919938+0.j, ...,\n",
       "        -0.11785648+0.j, -0.05207184+0.j,  0.0454983 +0.j],\n",
       "       [-0.00458839+0.j,  0.00654105+0.j, -0.00356627+0.j, ...,\n",
       "        -0.06551426+0.j, -0.03363043+0.j,  0.02484149+0.j]])"
      ]
     },
     "execution_count": 6,
     "metadata": {},
     "output_type": "execute_result"
    }
   ],
   "source": [
    "eigvecs"
   ]
  },
  {
   "cell_type": "code",
   "execution_count": 8,
   "metadata": {
    "ExecuteTime": {
     "end_time": "2019-11-13T10:25:02.748744Z",
     "start_time": "2019-11-13T10:25:02.740469Z"
    }
   },
   "outputs": [],
   "source": [
    "# check entropy calculations\n",
    "eigstate = eigvecs[4]"
   ]
  },
  {
   "cell_type": "code",
   "execution_count": null,
   "metadata": {
    "ExecuteTime": {
     "end_time": "2019-11-12T17:19:19.397876Z",
     "start_time": "2019-11-12T17:19:19.149920Z"
    }
   },
   "outputs": [],
   "source": []
  },
  {
   "cell_type": "code",
   "execution_count": 8,
   "metadata": {
    "ExecuteTime": {
     "end_time": "2019-11-12T18:06:12.525490Z",
     "start_time": "2019-11-12T18:06:12.270954Z"
    }
   },
   "outputs": [
    {
     "ename": "NameError",
     "evalue": "name 'rdm_matrix' is not defined",
     "output_type": "error",
     "traceback": [
      "\u001b[0;31m---------------------------------------------------------------------------\u001b[0m",
      "\u001b[0;31mNameError\u001b[0m                                 Traceback (most recent call last)",
      "\u001b[0;32m<ipython-input-8-e984677a07a6>\u001b[0m in \u001b[0;36m<module>\u001b[0;34m\u001b[0m\n\u001b[0;32m----> 1\u001b[0;31m \u001b[0mrdm_matrix\u001b[0m\u001b[0;34m.\u001b[0m\u001b[0mtodense\u001b[0m\u001b[0;34m(\u001b[0m\u001b[0;34m)\u001b[0m\u001b[0;34m\u001b[0m\u001b[0;34m\u001b[0m\u001b[0m\n\u001b[0m",
      "\u001b[0;31mNameError\u001b[0m: name 'rdm_matrix' is not defined"
     ]
    }
   ],
   "source": [
    "rdm_matrix.todense()"
   ]
  },
  {
   "cell_type": "code",
   "execution_count": 12,
   "metadata": {
    "ExecuteTime": {
     "end_time": "2019-11-13T10:25:23.058991Z",
     "start_time": "2019-11-13T10:25:23.001924Z"
    }
   },
   "outputs": [],
   "source": [
    "#%%timeit\n",
    "rdm_matrix = rdm.build_rdm(eigstate, subsize, L, int(L/2.))\n",
    "rdm_eigvals=LA.eigvalsh(rdm_matrix.todense())\n",
    "rdm_eigvals=rdm_eigvals[rdm_eigvals>1e-014]\n",
    "entropy=np.dot(rdm_eigvals, np.log(rdm_eigvals))\n",
    "\n",
    "#print(-entropy)"
   ]
  },
  {
   "cell_type": "code",
   "execution_count": 13,
   "metadata": {
    "ExecuteTime": {
     "end_time": "2019-11-13T10:25:25.149679Z",
     "start_time": "2019-11-13T10:25:25.138135Z"
    }
   },
   "outputs": [],
   "source": [
    "#%%timeit\n",
    "\n",
    "# the other way\n",
    "vec_ = np.zeros_like(ham.state_indices, dtype=np.complex128)\n",
    "vec_[ham.states] = eigstate\n",
    "\n",
    "Entangled = ententro.Entangled\n",
    "ent_object = Entangled(vec_, L, subsize)\n",
    "ent_object.partitioning('homogenous')\n",
    "ent_object.svd(full_matrices=True)\n",
    "\n",
    "eentro = ent_object.eentro()\n",
    "#print(eentro)"
   ]
  },
  {
   "cell_type": "code",
   "execution_count": 14,
   "metadata": {
    "ExecuteTime": {
     "end_time": "2019-11-13T10:25:26.902865Z",
     "start_time": "2019-11-13T10:25:26.890329Z"
    }
   },
   "outputs": [
    {
     "data": {
      "text/plain": [
       "0.0"
      ]
     },
     "execution_count": 14,
     "metadata": {},
     "output_type": "execute_result"
    }
   ],
   "source": [
    "-entropy - eentro"
   ]
  },
  {
   "cell_type": "code",
   "execution_count": null,
   "metadata": {},
   "outputs": [],
   "source": []
  }
 ],
 "metadata": {
  "kernelspec": {
   "display_name": "Python [conda env:petscenv] *",
   "language": "python",
   "name": "conda-env-petscenv-py"
  },
  "language_info": {
   "codemirror_mode": {
    "name": "ipython",
    "version": 3
   },
   "file_extension": ".py",
   "mimetype": "text/x-python",
   "name": "python",
   "nbconvert_exporter": "python",
   "pygments_lexer": "ipython3",
   "version": "3.7.4"
  },
  "latex_envs": {
   "LaTeX_envs_menu_present": true,
   "autoclose": false,
   "autocomplete": true,
   "bibliofile": "biblio.bib",
   "cite_by": "apalike",
   "current_citInitial": 1,
   "eqLabelWithNumbers": true,
   "eqNumInitial": 1,
   "hotkeys": {
    "equation": "Ctrl-E",
    "itemize": "Ctrl-I"
   },
   "labels_anchors": false,
   "latex_user_defs": false,
   "report_style_numbering": false,
   "user_envs_cfg": false
  },
  "toc": {
   "base_numbering": 1,
   "nav_menu": {},
   "number_sections": true,
   "sideBar": true,
   "skip_h1_title": false,
   "title_cell": "Table of Contents",
   "title_sidebar": "Contents",
   "toc_cell": false,
   "toc_position": {},
   "toc_section_display": true,
   "toc_window_display": false
  },
  "varInspector": {
   "cols": {
    "lenName": 16,
    "lenType": 16,
    "lenVar": 40
   },
   "kernels_config": {
    "python": {
     "delete_cmd_postfix": "",
     "delete_cmd_prefix": "del ",
     "library": "var_list.py",
     "varRefreshCmd": "print(var_dic_list())"
    },
    "r": {
     "delete_cmd_postfix": ") ",
     "delete_cmd_prefix": "rm(",
     "library": "var_list.r",
     "varRefreshCmd": "cat(var_dic_list()) "
    }
   },
   "types_to_exclude": [
    "module",
    "function",
    "builtin_function_or_method",
    "instance",
    "_Feature"
   ],
   "window_display": false
  }
 },
 "nbformat": 4,
 "nbformat_minor": 2
}
