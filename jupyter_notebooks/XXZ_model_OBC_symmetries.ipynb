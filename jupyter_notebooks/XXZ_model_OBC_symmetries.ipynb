{
 "cells": [
  {
   "cell_type": "markdown",
   "metadata": {},
   "source": [
    "# What is this notebook about?\n",
    "\n",
    "This notebook is intended as an introduction to the usage of the ```ham1d``` package using a\n",
    "hands-on example of the Heisenberg-XXZ model.\n",
    "\n",
    "## The model\n",
    "The Hamiltonian itself has the following structure: \n",
    "\n",
    "$$\n",
    "H = J\\sum_{i} \\left[\\frac{1}{2}\\left(S^+_iS_{i+1}^- + S^-_iS_{i+1}^+\\right) + \\Delta S_i^z S_{i+1}^z\\right] \n",
    "$$\n",
    "\n",
    "Below, we set $J=1$ and $\\Delta = 0.5$.\n",
    "We assume the validity of periodic or open boundary conditions (PBC or OBC)."
   ]
  },
  {
   "cell_type": "code",
   "execution_count": 303,
   "metadata": {
    "ExecuteTime": {
     "end_time": "2020-06-08T10:02:30.792856Z",
     "start_time": "2020-06-08T10:02:30.785766Z"
    }
   },
   "outputs": [],
   "source": [
    "%matplotlib inline\n",
    "\n",
    "\n",
    "# to load classes utilizing numba's jit\n",
    "# compilation optimizations, load the following\n",
    "# modules. The following lines would load modules\n",
    "# with routines for creation of spin 1/2 (hard-core\n",
    "# bosonic) hamiltonians\n",
    "from ham1d.models import spin1d as sp1\n",
    "\n",
    "import numpy as np\n",
    "import matplotlib.pyplot as plt\n",
    "\n",
    "from matplotlib import rc\n",
    "rc('font',**{'family':'sans-serif','sans-serif':['Helvetica']})\n",
    "\n",
    "rc('text', usetex=True)"
   ]
  },
  {
   "cell_type": "markdown",
   "metadata": {},
   "source": [
    "### Defining the model constants"
   ]
  },
  {
   "cell_type": "code",
   "execution_count": 304,
   "metadata": {
    "ExecuteTime": {
     "end_time": "2020-06-08T10:02:30.929924Z",
     "start_time": "2020-06-08T10:02:30.924774Z"
    }
   },
   "outputs": [],
   "source": [
    "#first, define the chain length. We choose a rather small system here:\n",
    "L=12\n",
    "# define constants and model parameters:\n",
    "J=1.\n",
    "Delta = 0.55"
   ]
  },
  {
   "cell_type": "markdown",
   "metadata": {},
   "source": [
    "### Clean case (no potential terms)"
   ]
  },
  {
   "cell_type": "code",
   "execution_count": 305,
   "metadata": {
    "ExecuteTime": {
     "end_time": "2020-06-08T10:02:31.078926Z",
     "start_time": "2020-06-08T10:02:31.062519Z"
    }
   },
   "outputs": [],
   "source": [
    "\n",
    "J_pm = [[J * 0.5 , i, (i + 1)] for i in range(L-1)] # the %L part ensures PBC\n",
    "\n",
    "# the first entry in the nested list is always the value of the exchange constant\n",
    "# the following entries are integers specifying the sites on which the operators act.\n",
    "\n",
    "# then, specify the operators:\n",
    "flip_left = ['+-', J_pm]\n",
    "\n",
    "flip_right = ['-+', J_pm] #couplings remain the same, only the operator order changes\n",
    "\n",
    "# interaction:\n",
    "J_zz = [[J*Delta, i, (i+1)%L] for i in range(L-1)]\n",
    "inter = ['zz', J_zz]\n",
    "\n",
    "# we can now put together the static_list -> just a list of hamiltonian term\n",
    "# definitions\n",
    "\n",
    "static_list = [flip_left, flip_right, inter]"
   ]
  },
  {
   "cell_type": "markdown",
   "metadata": {},
   "source": [
    "### Instantiating the Hamiltonian"
   ]
  },
  {
   "cell_type": "code",
   "execution_count": 306,
   "metadata": {
    "ExecuteTime": {
     "end_time": "2020-06-08T10:02:32.197879Z",
     "start_time": "2020-06-08T10:02:31.205334Z"
    }
   },
   "outputs": [
    {
     "name": "stdout",
     "output_type": "stream",
     "text": [
      "Please wait, building the Hamiltonian ...\n",
      "Building the Hamiltonian finished!\n",
      "Calculating nnz, o_nnz, d_nnz!\n",
      "Calculating nnz, o_nnz, d_nnz finished!\n"
     ]
    }
   ],
   "source": [
    "ham = sp1.hamiltonian(L, static_list, [], Nu=int(L/2.))\n",
    "\n",
    "# obtain both symmetry operators -> for the parity and particle-hole symmetry\n",
    "parity_ = ham.parity_shuffle()\n",
    "part_hole_ = ham.particle_hole_shuffle()\n",
    "# get the eigensystem\n",
    "eigvals, eigvecs = ham.eigsystem()"
   ]
  },
  {
   "cell_type": "markdown",
   "metadata": {
    "ExecuteTime": {
     "end_time": "2020-06-03T11:23:15.049682Z",
     "start_time": "2020-06-03T11:23:15.034038Z"
    }
   },
   "source": [
    "#### Counting the degeneracies, investigating the parity and particle-hole symmetry properties"
   ]
  },
  {
   "cell_type": "markdown",
   "metadata": {},
   "source": [
    "#### Degeneration count"
   ]
  },
  {
   "cell_type": "code",
   "execution_count": 307,
   "metadata": {
    "ExecuteTime": {
     "end_time": "2020-06-08T10:02:32.226863Z",
     "start_time": "2020-06-08T10:02:32.206631Z"
    }
   },
   "outputs": [
    {
     "name": "stdout",
     "output_type": "stream",
     "text": [
      "Number of degeneracies: 0.\n",
      "Number of unique values: 924.\n"
     ]
    }
   ],
   "source": [
    "# count the degeneracies\n",
    "u, c = np.unique(np.around(eigvals, decimals=10), return_counts=True)\n",
    "# sum all the values with multiplicities greater than 1\n",
    "degs = np.sum(c[c > 1])\n",
    "# number of unique values\n",
    "n_unique = len(u)\n",
    "\n",
    "print(f'Number of degeneracies: {degs}.')\n",
    "print(f'Number of unique values: {n_unique}.')\n",
    "\n",
    "multiplicities=[]\n",
    "\n",
    "for c_ in c:\n",
    "    multiplicities += [c_ for i in range(c_)]\n",
    "\n",
    "multiplicities = np.array(multiplicities)\n",
    "# get nondegenerate states"
   ]
  },
  {
   "cell_type": "markdown",
   "metadata": {
    "ExecuteTime": {
     "end_time": "2020-06-03T11:26:55.729882Z",
     "start_time": "2020-06-03T11:26:55.710433Z"
    }
   },
   "source": [
    "#### Symmetry properties of the eigenstates"
   ]
  },
  {
   "cell_type": "code",
   "execution_count": 308,
   "metadata": {
    "ExecuteTime": {
     "end_time": "2020-06-08T10:02:32.571426Z",
     "start_time": "2020-06-08T10:02:32.229829Z"
    }
   },
   "outputs": [],
   "source": [
    "#act with the parity op. on the eigvectors\n",
    "eigvecs_parity = eigvecs[parity_,:]\n",
    "eigvecs_part_hole = eigvecs[part_hole_,:]\n",
    "# do the product\n",
    "\n",
    "check_parity = np.diag(eigvecs.T@(np.conj(eigvecs_parity)))\n",
    "check_part_hole = np.diag(eigvecs.T@(np.conj(eigvecs_part_hole)))"
   ]
  },
  {
   "cell_type": "code",
   "execution_count": 309,
   "metadata": {
    "ExecuteTime": {
     "end_time": "2020-06-08T10:02:33.753781Z",
     "start_time": "2020-06-08T10:02:32.574187Z"
    }
   },
   "outputs": [
    {
     "name": "stderr",
     "output_type": "stream",
     "text": [
      "/home/jan/anaconda3/envs/petscenv/lib/python3.7/site-packages/numpy/core/_asarray.py:85: ComplexWarning: Casting complex values to real discards the imaginary part\n",
      "  return array(a, dtype, copy=False, order=order)\n"
     ]
    },
    {
     "data": {
      "text/plain": [
       "Text(0.5, 0, 'Eigenstate')"
      ]
     },
     "execution_count": 309,
     "metadata": {},
     "output_type": "execute_result"
    },
    {
     "data": {
      "image/png": "[encoded data removed]",
      "text/plain": [
       "<Figure size 864x288 with 2 Axes>"
      ]
     },
     "metadata": {
      "needs_background": "light"
     },
     "output_type": "display_data"
    }
   ],
   "source": [
    "fig, (ax1, ax2) = plt.subplots(1,2, figsize=(12, 4), sharey=True)\n",
    "\n",
    "ax1.set_title('Degeneracies removed')\n",
    "ax1.plot(check_part_hole[multiplicities==1],'<', label='part-hole', ms=4, fillstyle='left')\n",
    "ax1.plot(check_parity[multiplicities==1],'>', label='parity', ms=2, fillstyle='none')\n",
    "ax1.legend()\n",
    "ax1.set_xlabel('Eigenstate')\n",
    "fig.suptitle(f'$L=12, \\, J=1, \\, \\\\Delta={Delta}\\,$, OBC')\n",
    "ax2.set_title('Degeneracies kept')\n",
    "ax2.plot(check_part_hole,'<', label='part-hole', ms=4, fillstyle='left')\n",
    "ax2.plot(check_parity,'>', label='parity', ms=2, fillstyle='none')\n",
    "#ax2.legend()\n",
    "ax2.set_xlabel('Eigenstate')\n",
    "#plt.savefig(f'./graphs/L_{L}_obc_parity_part_hole_state_delta_{Delta}_keep_remove_degs.pdf')"
   ]
  },
  {
   "cell_type": "code",
   "execution_count": 310,
   "metadata": {
    "ExecuteTime": {
     "end_time": "2020-06-08T10:02:34.824990Z",
     "start_time": "2020-06-08T10:02:33.757995Z"
    },
    "code_folding": [
     9
    ]
   },
   "outputs": [
    {
     "data": {
      "image/png": "[encoded data removed]",
      "text/plain": [
       "<Figure size 432x288 with 1 Axes>"
      ]
     },
     "metadata": {
      "needs_background": "light"
     },
     "output_type": "display_data"
    }
   ],
   "source": [
    "fig, ax1 = plt.subplots(1,1, figsize=(6, 4))\n",
    "\n",
    "part_hole_nodegs = check_part_hole[multiplicities==1]\n",
    "parity_nodegs = check_parity[multiplicities==1]\n",
    "\n",
    "block0 = []\n",
    "block1 = []\n",
    "block2 = []\n",
    "block3 = []\n",
    "for i, (part1, parity1) in enumerate(zip(part_hole_nodegs, parity_nodegs)):\n",
    "    \n",
    "    part1 = np.around(np.real(part1), decimals=5)\n",
    "    parity1 = np.around(np.real(parity1), decimals=5)\n",
    "    \n",
    "\n",
    "    if part1 == parity1 == 1:\n",
    "\n",
    "        block0.append(i)\n",
    "    elif part1 == parity1 == -1:\n",
    "\n",
    "        block1.append(i)\n",
    "    elif (part1 == 1 and parity1 == -1):\n",
    "\n",
    "        block2.append(i)\n",
    "    elif (part1 == -1 and parity1 == 1):\n",
    "\n",
    "        block3.append(i)\n",
    "    \n",
    "ax1.scatter(block0, np.zeros_like(block0), color='red', label='$1,\\, 1$')\n",
    "ax1.scatter(block1,np.ones_like(block1), color='blue', label='$-1,\\, -1$')\n",
    "ax1.scatter(block2,2*np.ones_like(block2), color='green', label='$1,\\, -1$')\n",
    "ax1.scatter(block3,3*np.ones_like(block3), color='black', label='$-1,\\, 1$')\n",
    "\n",
    "#ax1.set_title('Degeneracies removed')\n",
    "ax1.legend(ncol=2)\n",
    "ax1.set_xlabel('Eigenstate')\n",
    "ax1.set_ylabel('Sector (particle-hole and parity)')\n",
    "fig.suptitle(f'$L=12, \\, J=1, \\, \\\\Delta={Delta}\\,$, OBC')\n",
    "plt.tight_layout()\n",
    "plt.subplots_adjust(top=0.92)\n",
    "#plt.tight_layout()\n",
    "plt.savefig(f'./graphs/L_{L}_obc_sectors_delta_{Delta}_remove_degs.pdf')"
   ]
  },
  {
   "cell_type": "markdown",
   "metadata": {},
   "source": [
    "## Add a small impurity at the first site"
   ]
  },
  {
   "cell_type": "code",
   "execution_count": 317,
   "metadata": {
    "ExecuteTime": {
     "end_time": "2020-06-08T10:02:59.498574Z",
     "start_time": "2020-06-08T10:02:59.490562Z"
    }
   },
   "outputs": [],
   "source": [
    "hL2 = 0.001\n",
    "rnd = ['z', [[hL2, int(L/2.)], [-hL2, int(L/2.) - 1]]]\n",
    "static_list_noise = static_list + [rnd]\n"
   ]
  },
  {
   "cell_type": "code",
   "execution_count": 318,
   "metadata": {
    "ExecuteTime": {
     "end_time": "2020-06-08T10:03:00.456069Z",
     "start_time": "2020-06-08T10:02:59.502570Z"
    }
   },
   "outputs": [
    {
     "name": "stdout",
     "output_type": "stream",
     "text": [
      "Please wait, building the Hamiltonian ...\n",
      "Building the Hamiltonian finished!\n",
      "Calculating nnz, o_nnz, d_nnz!\n",
      "Calculating nnz, o_nnz, d_nnz finished!\n"
     ]
    }
   ],
   "source": [
    "ham_noise = sp1.hamiltonian(L, static_list_noise, [], Nu=int(L/2.))\n",
    "\n",
    "\n",
    "# get the eigensystem\n",
    "eigvals_noise, eigvecs_noise = ham_noise.eigsystem()"
   ]
  },
  {
   "cell_type": "markdown",
   "metadata": {},
   "source": [
    "#### Degeneration count"
   ]
  },
  {
   "cell_type": "code",
   "execution_count": 319,
   "metadata": {
    "ExecuteTime": {
     "end_time": "2020-06-08T10:03:00.473466Z",
     "start_time": "2020-06-08T10:03:00.459498Z"
    }
   },
   "outputs": [
    {
     "name": "stdout",
     "output_type": "stream",
     "text": [
      "Number of degeneracies: 0.\n",
      "Number of unique values: 924.\n"
     ]
    }
   ],
   "source": [
    "# count the degeneracies\n",
    "u_noise, c_noise = np.unique(np.around(eigvals_noise, decimals=12), return_counts=True)\n",
    "# sum all the values with multiplicities greater than 1\n",
    "degs_noise = np.sum(c_noise[c_noise > 1])\n",
    "# number of unique values\n",
    "n_unique_noise = len(u_noise)\n",
    "\n",
    "print(f'Number of degeneracies: {degs_noise}.')\n",
    "print(f'Number of unique values: {n_unique_noise}.')\n",
    "\n",
    "multiplicities_noise=[]\n",
    "\n",
    "for c_ in c_noise:\n",
    "    multiplicities_noise += [c_ for i in range(c_)]\n",
    "\n",
    "multiplicities_noise = np.array(multiplicities_noise)\n"
   ]
  },
  {
   "cell_type": "markdown",
   "metadata": {},
   "source": [
    "#### Symmetry properties of the eigenstates"
   ]
  },
  {
   "cell_type": "code",
   "execution_count": 320,
   "metadata": {
    "ExecuteTime": {
     "end_time": "2020-06-08T10:03:00.959048Z",
     "start_time": "2020-06-08T10:03:00.476743Z"
    }
   },
   "outputs": [],
   "source": [
    "#act with the parity op. on the eigvectors\n",
    "eigvecs_parity_noise = eigvecs_noise[parity_,:]\n",
    "eigvecs_part_hole_noise = eigvecs_noise[part_hole_,:]\n",
    "# do the product\n",
    "\n",
    "check_parity_noise = np.diag(eigvecs_noise.T@(np.conj(eigvecs_parity_noise)))\n",
    "check_part_hole_noise = np.diag(eigvecs_noise.T@(np.conj(eigvecs_part_hole_noise)))"
   ]
  },
  {
   "cell_type": "code",
   "execution_count": 321,
   "metadata": {
    "ExecuteTime": {
     "end_time": "2020-06-08T10:03:02.810776Z",
     "start_time": "2020-06-08T10:03:00.962532Z"
    }
   },
   "outputs": [
    {
     "name": "stderr",
     "output_type": "stream",
     "text": [
      "/home/jan/anaconda3/envs/petscenv/lib/python3.7/site-packages/numpy/core/_asarray.py:85: ComplexWarning: Casting complex values to real discards the imaginary part\n",
      "  return array(a, dtype, copy=False, order=order)\n"
     ]
    },
    {
     "data": {
      "image/png": "[encoded data removed]",
      "text/plain": [
       "<Figure size 864x288 with 2 Axes>"
      ]
     },
     "metadata": {
      "needs_background": "light"
     },
     "output_type": "display_data"
    }
   ],
   "source": [
    "fig, (ax1, ax2) = plt.subplots(1, 2, figsize=(12, 4), sharey=True)\n",
    "\n",
    "ax1.set_title('Degeneracies removed')\n",
    "ax1.plot(check_part_hole_noise[multiplicities_noise == 1],\n",
    "         '<',\n",
    "         label='part-hole',\n",
    "         ms=4,\n",
    "         fillstyle='left')\n",
    "ax1.plot(check_parity_noise[multiplicities_noise == 1],\n",
    "         '>',\n",
    "         label='parity',\n",
    "         ms=2,\n",
    "         fillstyle='none')\n",
    "ax1.legend()\n",
    "ax1.set_xlabel('Eigenstate')\n",
    "fig.suptitle(f'$L=12, \\, J=1, \\, \\\\Delta={Delta},\\, h_{{L/2}}=-h_{{L/2 + 1}}={hL2}$, OBC')\n",
    "ax2.set_title('Degeneracies kept')\n",
    "ax2.plot(check_part_hole_noise, '<', label='part-hole', ms=4, fillstyle='left')\n",
    "ax2.plot(check_parity_noise, '>', label='parity', ms=2, fillstyle='none')\n",
    "# ax2.legend()\n",
    "ax2.set_xlabel('Eigenstate')\n",
    "plt.savefig(\n",
    "    f'./graphs/L_{L}_obc_parity_part_hole_state_delta_{Delta}_double_opposite_hL2_{hL2}_keep_remove_degs.pdf'\n",
    ")"
   ]
  },
  {
   "cell_type": "code",
   "execution_count": 322,
   "metadata": {
    "ExecuteTime": {
     "end_time": "2020-06-08T10:03:03.401043Z",
     "start_time": "2020-06-08T10:03:02.813706Z"
    }
   },
   "outputs": [
    {
     "data": {
      "text/plain": [
       "[<matplotlib.lines.Line2D at 0x7faebe597550>]"
      ]
     },
     "execution_count": 322,
     "metadata": {},
     "output_type": "execute_result"
    },
    {
     "data": {
      "image/png": "[encoded data removed]",
      "text/plain": [
       "<Figure size 432x288 with 1 Axes>"
      ]
     },
     "metadata": {
      "needs_background": "light"
     },
     "output_type": "display_data"
    }
   ],
   "source": [
    "plt.plot(eigvals_noise, 'o')"
   ]
  },
  {
   "cell_type": "code",
   "execution_count": null,
   "metadata": {},
   "outputs": [],
   "source": []
  }
 ],
 "metadata": {
  "kernelspec": {
   "display_name": "Python [conda env:petscenv] *",
   "language": "python",
   "name": "conda-env-petscenv-py"
  },
  "language_info": {
   "codemirror_mode": {
    "name": "ipython",
    "version": 3
   },
   "file_extension": ".py",
   "mimetype": "text/x-python",
   "name": "python",
   "nbconvert_exporter": "python",
   "pygments_lexer": "ipython3",
   "version": "3.7.4"
  },
  "latex_envs": {
   "LaTeX_envs_menu_present": true,
   "autoclose": false,
   "autocomplete": true,
   "bibliofile": "biblio.bib",
   "cite_by": "apalike",
   "current_citInitial": 1,
   "eqLabelWithNumbers": true,
   "eqNumInitial": 1,
   "hotkeys": {
    "equation": "Ctrl-E",
    "itemize": "Ctrl-I"
   },
   "labels_anchors": false,
   "latex_user_defs": false,
   "report_style_numbering": false,
   "user_envs_cfg": false
  },
  "toc": {
   "base_numbering": 1,
   "nav_menu": {},
   "number_sections": true,
   "sideBar": true,
   "skip_h1_title": false,
   "title_cell": "Table of Contents",
   "title_sidebar": "Contents",
   "toc_cell": false,
   "toc_position": {},
   "toc_section_display": true,
   "toc_window_display": false
  },
  "varInspector": {
   "cols": {
    "lenName": 16,
    "lenType": 16,
    "lenVar": 40
   },
   "kernels_config": {
    "python": {
     "delete_cmd_postfix": "",
     "delete_cmd_prefix": "del ",
     "library": "var_list.py",
     "varRefreshCmd": "print(var_dic_list())"
    },
    "r": {
     "delete_cmd_postfix": ") ",
     "delete_cmd_prefix": "rm(",
     "library": "var_list.r",
     "varRefreshCmd": "cat(var_dic_list()) "
    }
   },
   "types_to_exclude": [
    "module",
    "function",
    "builtin_function_or_method",
    "instance",
    "_Feature"
   ],
   "window_display": false
  }
 },
 "nbformat": 4,
 "nbformat_minor": 2
}
